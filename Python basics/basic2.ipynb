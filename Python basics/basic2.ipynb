{
 "cells": [
  {
   "cell_type": "markdown",
   "id": "b6e6ee31",
   "metadata": {},
   "source": [
    "<div align=\"center\">\n",
    "    <h4>Python Basics 2</h4>\n",
    "</div>"
   ]
  },
  {
   "cell_type": "markdown",
   "id": "5bef42ab",
   "metadata": {},
   "source": [
    "### Datatypes"
   ]
  },
  {
   "cell_type": "markdown",
   "id": "782c41b5",
   "metadata": {},
   "source": [
    "| Data Type | Description | Values | Representation |\n",
    "|---|---|---|---|\n",
    "| Boolean | Represents logical values | True, False | bool |\n",
    "| Integer | Positive or negative whole numbers | Integers | int |\n",
    "| Complex | Numbers with a real and imaginary part (a+ib) | Complex numbers | complex |\n",
    "| Float | Real numbers represented by floating-point numbers | Floating-point numbers | float |\n",
    "| String | Sequence of characters enclosed in quotes | Text | str |"
   ]
  },
  {
   "cell_type": "markdown",
   "id": "0705a347",
   "metadata": {},
   "source": [
    "<div align=\"right\">\n",
    "     <h4>Boolean</h4>\n",
    "</div>"
   ]
  },
  {
   "cell_type": "code",
   "execution_count": 6,
   "id": "c72f9776",
   "metadata": {},
   "outputs": [
    {
     "name": "stdout",
     "output_type": "stream",
     "text": [
      "Is it sunny today?: True\n",
      "Is it raining today?: False\n",
      "<class 'bool'>\n",
      "<class 'bool'>\n"
     ]
    }
   ],
   "source": [
    "is_sunny = True\n",
    "is_raining = False\n",
    "\n",
    "print(f\"Is it sunny today?: {is_sunny}\")\n",
    "print(f\"Is it raining today?: {is_raining}\") \n",
    "\n",
    "print(type(is_sunny))\n",
    "print(type(is_raining))"
   ]
  },
  {
   "cell_type": "markdown",
   "id": "bf1a887f",
   "metadata": {},
   "source": [
    "<div align=\"right\">\n",
    "     <h4>Integer</h4>\n",
    "</div>"
   ]
  },
  {
   "cell_type": "code",
   "execution_count": 9,
   "id": "461b8d8a",
   "metadata": {},
   "outputs": [
    {
     "name": "stdout",
     "output_type": "stream",
     "text": [
      "total: -55\n",
      "difference: 115\n",
      "product: 150\n",
      "<class 'int'>\n",
      "<class 'int'>\n",
      "<class 'int'>\n"
     ]
    }
   ],
   "source": [
    "age = 30\n",
    "score = -85\n",
    "number_of_attempts = 5\n",
    "\n",
    "total = age + score\n",
    "difference = age - score\n",
    "product = age * number_of_attempts\n",
    "\n",
    "print(f\"total: {total}\")\n",
    "print(f\"difference: {difference}\")\n",
    "print(f\"product: {product}\")\n",
    "\n",
    "\n",
    "print(type(total))\n",
    "print(type(difference))\n",
    "print(type(product))"
   ]
  },
  {
   "cell_type": "markdown",
   "id": "5d3ec6e7",
   "metadata": {},
   "source": [
    "<div align=\"right\">\n",
    "     <h4>Complex</h4>\n",
    "</div>"
   ]
  },
  {
   "cell_type": "code",
   "execution_count": 10,
   "id": "a634e916",
   "metadata": {
    "scrolled": true
   },
   "outputs": [
    {
     "name": "stdout",
     "output_type": "stream",
     "text": [
      "Real part (amplitude): 3.5\n",
      "Imaginary part (orientation): 2.1\n"
     ]
    }
   ],
   "source": [
    "# Simulating a simple biomolecule with real and imaginary components (amplitude and orientation)\n",
    "biomolecule_1 = 3.5 + 2.1j  # j represents the imaginary unit\n",
    "\n",
    "# Accessing the real and imaginary parts\n",
    "real_part = biomolecule_1.real\n",
    "imaginary_part = biomolecule_1.imag\n",
    "\n",
    "print(f\"Real part (amplitude): {real_part}\")\n",
    "print(f\"Imaginary part (orientation): {imaginary_part}\")"
   ]
  },
  {
   "cell_type": "code",
   "execution_count": 12,
   "id": "932efd37",
   "metadata": {},
   "outputs": [
    {
     "name": "stdout",
     "output_type": "stream",
     "text": [
      "<class 'complex'>\n"
     ]
    }
   ],
   "source": [
    "print(type(biomolecule_1))"
   ]
  },
  {
   "cell_type": "markdown",
   "id": "25643cb9",
   "metadata": {},
   "source": [
    "<div align=\"right\">\n",
    "     <h4>Float</h4>\n",
    "</div>"
   ]
  },
  {
   "cell_type": "code",
   "execution_count": 13,
   "id": "02cba48a",
   "metadata": {},
   "outputs": [
    {
     "name": "stdout",
     "output_type": "stream",
     "text": [
      "Average gene expression: 5.23679\n"
     ]
    }
   ],
   "source": [
    "# Simulating gene expression levels for three genes (float values)\n",
    "gene_a_expression = 3.14159  # mRNA abundance for gene A\n",
    "gene_b_expression = 12.5678  # mRNA abundance for gene B\n",
    "gene_c_expression = 0.00098  # mRNA abundance for gene C (low expression)\n",
    "\n",
    "# Calculating the average expression level (be mindful of precision)\n",
    "average_expression = (gene_a_expression + gene_b_expression + gene_c_expression) / 3\n",
    "\n",
    "print(f\"Average gene expression: {average_expression}\")"
   ]
  },
  {
   "cell_type": "code",
   "execution_count": 14,
   "id": "4346a05f",
   "metadata": {},
   "outputs": [
    {
     "name": "stdout",
     "output_type": "stream",
     "text": [
      "<class 'float'>\n"
     ]
    }
   ],
   "source": [
    "print(type(average_expression))"
   ]
  },
  {
   "cell_type": "markdown",
   "id": "c4fa1653",
   "metadata": {},
   "source": [
    "<div align=\"right\">\n",
    "     <h4>String</h4>\n",
    "</div>"
   ]
  },
  {
   "cell_type": "code",
   "execution_count": 15,
   "id": "aa00bb7b",
   "metadata": {},
   "outputs": [
    {
     "name": "stdout",
     "output_type": "stream",
     "text": [
      "Gene A sequence: ATCGATCGATTGC\n",
      "Gene B sequence: TAGCTAGCTAGCC\n",
      "Extracted subsequence: GATCG\n",
      "Combined sequence: ATCGATCGATTGCTAGCTAGCTAGCC\n"
     ]
    }
   ],
   "source": [
    "# Simulating DNA sequences for two genes\n",
    "gene_a_sequence = \"ATCGATCGATTGC\"\n",
    "gene_b_sequence = \"TAGCTAGCTAGCC\"\n",
    "\n",
    "# Extracting a subsequence from gene_a\n",
    "subsequence = gene_a_sequence[3:8]  # Slicing to extract nucleotides 3 to 7 (excluding 8th)\n",
    "\n",
    "# Concatenating gene sequences (assuming they belong to the same organism)\n",
    "combined_sequence = gene_a_sequence + gene_b_sequence\n",
    "\n",
    "print(f\"Gene A sequence: {gene_a_sequence}\")\n",
    "print(f\"Gene B sequence: {gene_b_sequence}\")\n",
    "print(f\"Extracted subsequence: {subsequence}\")\n",
    "print(f\"Combined sequence: {combined_sequence}\")"
   ]
  },
  {
   "cell_type": "markdown",
   "id": "8460e34c",
   "metadata": {},
   "source": [
    "<div align=\"right\">\n",
    "     <h4>Operations</h4>\n",
    "</div>"
   ]
  },
  {
   "cell_type": "markdown",
   "id": "394be29d",
   "metadata": {},
   "source": [
    "| Key | Description |\n",
    "|---|---|\n",
    "| 0-9 | Numbers |\n",
    "| + | Addition |\n",
    "| - | Subtraction |\n",
    "| * | Multiplication |\n",
    "| / | Division |\n",
    "| % | Modulo |\n",
    "| ( ) | Parentheses for grouping |\n",
    "| [ ] | Square brackets |\n",
    "| { } | Curly braces |\n",
    "| , | Comma |\n",
    "| . | Decimal point |\n",
    "| = | Equals sign |"
   ]
  },
  {
   "cell_type": "markdown",
   "id": "74372cd1",
   "metadata": {},
   "source": [
    "| Data Type | Description | Values | Representation |\n",
    "|---|---|---|---|\n",
    "| Boolean | Represents logical values | True, False | bool |\n",
    "| Integer | Positive or negative whole numbers | Integers | int |\n",
    "| Complex | Numbers with a real and imaginary part (a+ib) | Complex numbers | complex |\n",
    "| Float | Real numbers represented by floating-point numbers | Floating-point numbers | float |\n",
    "| String | Sequence of characters enclosed in quotes | Text | str |"
   ]
  }
 ],
 "metadata": {
  "kernelspec": {
   "display_name": "Python 3 (ipykernel)",
   "language": "python",
   "name": "python3"
  },
  "language_info": {
   "codemirror_mode": {
    "name": "ipython",
    "version": 3
   },
   "file_extension": ".py",
   "mimetype": "text/x-python",
   "name": "python",
   "nbconvert_exporter": "python",
   "pygments_lexer": "ipython3",
   "version": "3.10.12"
  }
 },
 "nbformat": 4,
 "nbformat_minor": 5
}
