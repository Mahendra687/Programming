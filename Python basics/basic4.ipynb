{
 "cells": [
  {
   "cell_type": "markdown",
   "id": "78fef6a4",
   "metadata": {},
   "source": [
    "<div align=\"center\">\n",
    "    <h4>Python Basics 4</h4>\n",
    "</div>"
   ]
  },
  {
   "cell_type": "markdown",
   "id": "33209a7a",
   "metadata": {},
   "source": [
    "### List"
   ]
  },
  {
   "cell_type": "code",
   "execution_count": 1,
   "id": "1616b351",
   "metadata": {},
   "outputs": [
    {
     "name": "stdout",
     "output_type": "stream",
     "text": [
      "['DNA', 'RNA', 'Protein', 3.14, 488519644000, 'Vitamins']\n"
     ]
    }
   ],
   "source": [
    "Molecules = [\"DNA\", \"RNA\", \"Protein\", 3.14, 488519644000, \"Vitamins\"]\n",
    "print(Molecules)"
   ]
  },
  {
   "cell_type": "code",
   "execution_count": 5,
   "id": "9e4e4a4d",
   "metadata": {},
   "outputs": [
    {
     "name": "stdout",
     "output_type": "stream",
     "text": [
      "<class 'list'>\n"
     ]
    }
   ],
   "source": [
    "print(type(Molecules))"
   ]
  },
  {
   "cell_type": "code",
   "execution_count": 2,
   "id": "e31d475e",
   "metadata": {},
   "outputs": [
    {
     "name": "stdout",
     "output_type": "stream",
     "text": [
      "['ATGC', 'RNA', 'Protein', 3.14, 488519644000, 'Vitamins']\n"
     ]
    }
   ],
   "source": [
    "Molecules[0] = \"ATGC\"\n",
    "print(Molecules)"
   ]
  },
  {
   "cell_type": "code",
   "execution_count": 6,
   "id": "0a28085b",
   "metadata": {},
   "outputs": [
    {
     "name": "stdout",
     "output_type": "stream",
     "text": [
      "<class 'list'>\n"
     ]
    }
   ],
   "source": [
    "print(type(Molecules))"
   ]
  },
  {
   "cell_type": "markdown",
   "id": "82d4cc08",
   "metadata": {},
   "source": [
    "#### Scenario 1: Storing DNA Sequences of Multiple Genes"
   ]
  },
  {
   "cell_type": "code",
   "execution_count": 1,
   "id": "cc13aa19",
   "metadata": {},
   "outputs": [
    {
     "name": "stdout",
     "output_type": "stream",
     "text": [
      "DNA sequence of the second gene: TAGCTAGCTAGCC\n"
     ]
    }
   ],
   "source": [
    "# List to store DNA sequences for three genes\n",
    "gene_sequences = [\"ATCGATCGATTGC\", \"TAGCTAGCTAGCC\", \"CCGGTTACGGAT\"]\n",
    "\n",
    "# Accessing the sequence of the second gene (index 1)\n",
    "second_gene_sequence = gene_sequences[1]\n",
    "\n",
    "print(f\"DNA sequence of the second gene: {second_gene_sequence}\")"
   ]
  },
  {
   "cell_type": "markdown",
   "id": "c7736bb8",
   "metadata": {},
   "source": [
    "#### Scenario 2: Representing Protein Primary Structure (Amino Acid Sequence)"
   ]
  },
  {
   "cell_type": "code",
   "execution_count": 2,
   "id": "1930dceb",
   "metadata": {},
   "outputs": [
    {
     "name": "stdout",
     "output_type": "stream",
     "text": [
      "Amino acid subsequence (positions 3-6): ['T', 'H', 'I', 'O', 'N']\n"
     ]
    }
   ],
   "source": [
    "# List to represent the amino acid sequence of a protein\n",
    "protein_sequence = [\"M\", \"E\", \"T\", \"H\", \"I\", \"O\", \"N\", \"I\", \"N\", \"E\"]\n",
    "\n",
    "# Extracting a subsequence of amino acids (positions 3 to 6)\n",
    "amino_acid_subsequence = protein_sequence[2:7]\n",
    "\n",
    "print(f\"Amino acid subsequence (positions 3-6): {amino_acid_subsequence}\")"
   ]
  },
  {
   "cell_type": "markdown",
   "id": "d42ce63b",
   "metadata": {},
   "source": [
    "#### Scenario 3: Storing Gene IDs and Descriptions"
   ]
  },
  {
   "cell_type": "code",
   "execution_count": 3,
   "id": "dbd95824",
   "metadata": {},
   "outputs": [
    {
     "name": "stdout",
     "output_type": "stream",
     "text": [
      "Description for gene ID ENSG0000001: housekeeping gene\n"
     ]
    }
   ],
   "source": [
    "# List of tuples to store gene IDs and descriptions\n",
    "gene_data = [(\"ENSG0000001\", \"housekeeping gene\"), (\"ENSG0000002\", \"enzyme involved in metabolism\")]\n",
    "\n",
    "# Accessing the description of the first gene using unpacking\n",
    "gene_id, description = gene_data[0]\n",
    "\n",
    "print(f\"Description for gene ID {gene_id}: {description}\")"
   ]
  },
  {
   "cell_type": "markdown",
   "id": "4a37a58e",
   "metadata": {},
   "source": [
    "<div align=\"right\">\n",
    "     <h4>Methods in List:</h4>\n",
    "</div>"
   ]
  },
  {
   "cell_type": "markdown",
   "id": "d418ecd0",
   "metadata": {},
   "source": [
    "**1 .append()**"
   ]
  },
  {
   "cell_type": "code",
   "execution_count": 7,
   "id": "1b690616",
   "metadata": {},
   "outputs": [
    {
     "data": {
      "text/plain": [
       "['DNA', 'RNA']"
      ]
     },
     "execution_count": 7,
     "metadata": {},
     "output_type": "execute_result"
    }
   ],
   "source": [
    "Molecules = [\"DNA\", \"RNA\"]\n",
    "Molecules"
   ]
  },
  {
   "cell_type": "code",
   "execution_count": 8,
   "id": "43508436",
   "metadata": {},
   "outputs": [
    {
     "data": {
      "text/plain": [
       "['DNA', 'RNA', 'Amino acid']"
      ]
     },
     "execution_count": 8,
     "metadata": {},
     "output_type": "execute_result"
    }
   ],
   "source": [
    "Molecules.append(\"Amino acid\")\n",
    "Molecules"
   ]
  },
  {
   "cell_type": "markdown",
   "id": "736afaa7",
   "metadata": {},
   "source": [
    "**2 .count()**"
   ]
  },
  {
   "cell_type": "code",
   "execution_count": 9,
   "id": "8d2933cb",
   "metadata": {},
   "outputs": [
    {
     "data": {
      "text/plain": [
       "5"
      ]
     },
     "execution_count": 9,
     "metadata": {},
     "output_type": "execute_result"
    }
   ],
   "source": [
    "Molecules = ['AGCT', 'AGCT', 'AGCT', 'AGCT', 'AGCT']\n",
    "Molecules.count(\"AGCT\")"
   ]
  },
  {
   "cell_type": "code",
   "execution_count": 10,
   "id": "649ae656",
   "metadata": {},
   "outputs": [
    {
     "data": {
      "text/plain": [
       "['AGCTAGCTAGCT']"
      ]
     },
     "execution_count": 10,
     "metadata": {},
     "output_type": "execute_result"
    }
   ],
   "source": [
    "Molecules = [\"AGCTAGCTAGCT\"]\n",
    "Molecules"
   ]
  },
  {
   "cell_type": "code",
   "execution_count": 11,
   "id": "92f9676d",
   "metadata": {},
   "outputs": [
    {
     "name": "stdout",
     "output_type": "stream",
     "text": [
      "1\n"
     ]
    }
   ],
   "source": [
    "print(Molecules.count('AGCTAGCTAGCT'))"
   ]
  },
  {
   "cell_type": "code",
   "execution_count": 12,
   "id": "3befbe79",
   "metadata": {},
   "outputs": [
    {
     "name": "stdout",
     "output_type": "stream",
     "text": [
      "8\n"
     ]
    }
   ],
   "source": [
    "Molecules = \"AGCTAGCT\" # without list\n",
    "print(len(Molecules)) # count single string lenght"
   ]
  },
  {
   "cell_type": "markdown",
   "id": "c369544d",
   "metadata": {},
   "source": [
    "**3.len()**"
   ]
  },
  {
   "cell_type": "code",
   "execution_count": 13,
   "id": "cbc8ec3d",
   "metadata": {},
   "outputs": [
    {
     "data": {
      "text/plain": [
       "8"
      ]
     },
     "execution_count": 13,
     "metadata": {},
     "output_type": "execute_result"
    }
   ],
   "source": [
    "mol = ['DNA', 'RNA', 'Amino acid', 'Vitamin','DNA', 'RNA', 'Amino acid', 'Vitamin']\n",
    "len(mol)"
   ]
  },
  {
   "cell_type": "markdown",
   "id": "bb69df7c",
   "metadata": {},
   "source": [
    "**4.The .sort() and reverse()**"
   ]
  },
  {
   "cell_type": "code",
   "execution_count": 15,
   "id": "1a02d2b0",
   "metadata": {},
   "outputs": [
    {
     "name": "stdout",
     "output_type": "stream",
     "text": [
      "[1, 2, 3, 4, 5, 6, 7, 8, 9]\n"
     ]
    }
   ],
   "source": [
    "sort_lsit = [9,8,7,6,5,4,3,2,1]\n",
    "sort_lsit.sort() # will not return anything\n",
    "\n",
    "print(sort_lsit)"
   ]
  },
  {
   "cell_type": "code",
   "execution_count": 16,
   "id": "4e8c6d64",
   "metadata": {},
   "outputs": [
    {
     "data": {
      "text/plain": [
       "[9, 8, 7, 6, 5, 4, 3, 2, 1]"
      ]
     },
     "execution_count": 16,
     "metadata": {},
     "output_type": "execute_result"
    }
   ],
   "source": [
    "sort_lsit.sort(reverse=True) # will reverse the list items\n",
    "sort_lsit"
   ]
  },
  {
   "cell_type": "code",
   "execution_count": 17,
   "id": "ea172b10",
   "metadata": {},
   "outputs": [
    {
     "name": "stdout",
     "output_type": "stream",
     "text": [
      "[1, 2, 3, 4, 5, 6, 7, 8, 9]\n"
     ]
    }
   ],
   "source": [
    "sort_lsit = sorted(sort_lsit) # will return the sorted list\n",
    "print(sort_lsit)"
   ]
  },
  {
   "cell_type": "code",
   "execution_count": 18,
   "id": "4210e047",
   "metadata": {},
   "outputs": [
    {
     "name": "stdout",
     "output_type": "stream",
     "text": [
      "1\n",
      "9\n",
      "45\n"
     ]
    }
   ],
   "source": [
    "print(min(sort_lsit)) # min() function\n",
    "print(max(sort_lsit)) # max() function\n",
    "print(sum(sort_lsit)) # sum() function"
   ]
  },
  {
   "cell_type": "markdown",
   "id": "9661125f",
   "metadata": {},
   "source": [
    "**5.insert()**"
   ]
  },
  {
   "cell_type": "code",
   "execution_count": 19,
   "id": "fe2ea314",
   "metadata": {},
   "outputs": [
    {
     "data": {
      "text/plain": [
       "['RNA', 'DNA', 'Carbo', 'Amino acid']"
      ]
     },
     "execution_count": 19,
     "metadata": {},
     "output_type": "execute_result"
    }
   ],
   "source": [
    "DNA = [\"RNA\", \"DNA\", \"Amino acid\"]\n",
    "DNA.insert(-1, \"Carbo\")\n",
    "DNA"
   ]
  },
  {
   "cell_type": "code",
   "execution_count": 20,
   "id": "1ea06b82",
   "metadata": {},
   "outputs": [
    {
     "data": {
      "text/plain": [
       "['RNA', 'Protein', 'DNA', 'Carbo', 'Amino acid']"
      ]
     },
     "execution_count": 20,
     "metadata": {},
     "output_type": "execute_result"
    }
   ],
   "source": [
    "DNA.insert(1, \"Protein\")\n",
    "DNA"
   ]
  },
  {
   "cell_type": "markdown",
   "id": "da50e443",
   "metadata": {},
   "source": [
    "**6.extend()**"
   ]
  },
  {
   "cell_type": "code",
   "execution_count": 21,
   "id": "57a2e5e1",
   "metadata": {},
   "outputs": [
    {
     "name": "stdout",
     "output_type": "stream",
     "text": [
      "['DNA', 'RNA', 'Amino acid', 'Vitamin', 'Carbo']\n"
     ]
    }
   ],
   "source": [
    "macro_mol = ['DNA', 'RNA', 'Amino acid']\n",
    "micro_mol = ['Vitamin', 'Carbo']\n",
    "macro_mol.extend(micro_mol) # will add only list items\n",
    "print(macro_mol)"
   ]
  },
  {
   "cell_type": "markdown",
   "id": "5476e153",
   "metadata": {},
   "source": [
    "**7.Combining the list**"
   ]
  },
  {
   "cell_type": "code",
   "execution_count": 39,
   "id": "280c459c",
   "metadata": {},
   "outputs": [
    {
     "data": {
      "text/plain": [
       "['DNA', 'RNA', 'Amino acid', 'Vitamin', 'Carbo']"
      ]
     },
     "execution_count": 39,
     "metadata": {},
     "output_type": "execute_result"
    }
   ],
   "source": [
    "macro = ['DNA', 'RNA', 'Amino acid']\n",
    "micro = ['Vitamin', 'Carbo']\n",
    "Bio_molecules = macro+micro\n",
    "Bio_molecules"
   ]
  },
  {
   "cell_type": "code",
   "execution_count": 23,
   "id": "222240aa",
   "metadata": {},
   "outputs": [
    {
     "data": {
      "text/plain": [
       "5"
      ]
     },
     "execution_count": 23,
     "metadata": {},
     "output_type": "execute_result"
    }
   ],
   "source": [
    "len(Bio_molecules)"
   ]
  },
  {
   "cell_type": "code",
   "execution_count": 25,
   "id": "be7cf1ae",
   "metadata": {},
   "outputs": [
    {
     "data": {
      "text/plain": [
       "('DNA', True)"
      ]
     },
     "execution_count": 25,
     "metadata": {},
     "output_type": "execute_result"
    }
   ],
   "source": [
    "'DNA' in Bio_molecules"
   ]
  },
  {
   "cell_type": "code",
   "execution_count": 26,
   "id": "b786042c",
   "metadata": {},
   "outputs": [
    {
     "data": {
      "text/plain": [
       "True"
      ]
     },
     "execution_count": 26,
     "metadata": {},
     "output_type": "execute_result"
    }
   ],
   "source": [
    "'RNA' in Bio_molecules"
   ]
  },
  {
   "cell_type": "code",
   "execution_count": 27,
   "id": "f05cb844",
   "metadata": {},
   "outputs": [
    {
     "data": {
      "text/plain": [
       "True"
      ]
     },
     "execution_count": 27,
     "metadata": {},
     "output_type": "execute_result"
    }
   ],
   "source": [
    "'Amino acid' in Bio_molecules"
   ]
  },
  {
   "cell_type": "code",
   "execution_count": 28,
   "id": "7e5199bd",
   "metadata": {},
   "outputs": [
    {
     "data": {
      "text/plain": [
       "True"
      ]
     },
     "execution_count": 28,
     "metadata": {},
     "output_type": "execute_result"
    }
   ],
   "source": [
    "'Vitamin' in Bio_molecules"
   ]
  },
  {
   "cell_type": "code",
   "execution_count": 29,
   "id": "66c90975",
   "metadata": {},
   "outputs": [
    {
     "data": {
      "text/plain": [
       "True"
      ]
     },
     "execution_count": 29,
     "metadata": {},
     "output_type": "execute_result"
    }
   ],
   "source": [
    "'Carbo' in Bio_molecules"
   ]
  },
  {
   "cell_type": "markdown",
   "id": "6710db14",
   "metadata": {},
   "source": [
    "**8.remove() and pop()**"
   ]
  },
  {
   "cell_type": "code",
   "execution_count": 36,
   "id": "512de1f5",
   "metadata": {},
   "outputs": [],
   "source": [
    "Bio_molecules.remove('Carbo')"
   ]
  },
  {
   "cell_type": "code",
   "execution_count": 37,
   "id": "aa580b02",
   "metadata": {},
   "outputs": [
    {
     "data": {
      "text/plain": [
       "['DNA', 'RNA', 'Amino acid', 'Vitamin']"
      ]
     },
     "execution_count": 37,
     "metadata": {},
     "output_type": "execute_result"
    }
   ],
   "source": [
    "Bio_molecules"
   ]
  },
  {
   "cell_type": "code",
   "execution_count": 40,
   "id": "c2e5188c",
   "metadata": {},
   "outputs": [
    {
     "data": {
      "text/plain": [
       "['DNA', 'RNA', 'Amino acid', 'Vitamin', 'Carbo']"
      ]
     },
     "execution_count": 40,
     "metadata": {},
     "output_type": "execute_result"
    }
   ],
   "source": [
    "Bio_molecules"
   ]
  },
  {
   "cell_type": "code",
   "execution_count": 41,
   "id": "e455786d",
   "metadata": {},
   "outputs": [
    {
     "data": {
      "text/plain": [
       "'Carbo'"
      ]
     },
     "execution_count": 41,
     "metadata": {},
     "output_type": "execute_result"
    }
   ],
   "source": [
    "Bio_molecules.pop() # will remove the last item from the list"
   ]
  },
  {
   "cell_type": "code",
   "execution_count": 42,
   "id": "88694c21",
   "metadata": {},
   "outputs": [
    {
     "data": {
      "text/plain": [
       "['DNA', 'RNA', 'Amino acid', 'Vitamin']"
      ]
     },
     "execution_count": 42,
     "metadata": {},
     "output_type": "execute_result"
    }
   ],
   "source": [
    "Bio_molecules"
   ]
  },
  {
   "cell_type": "code",
   "execution_count": 43,
   "id": "e383a849",
   "metadata": {},
   "outputs": [
    {
     "name": "stdout",
     "output_type": "stream",
     "text": [
      "History\n",
      "Math\n",
      "Physics\n",
      "CompSci\n"
     ]
    }
   ],
   "source": [
    "courses = ['History', 'Math', 'Physics', 'CompSci']\n",
    "\n",
    "for course in courses:\n",
    "    print(course)"
   ]
  },
  {
   "cell_type": "code",
   "execution_count": 44,
   "id": "0a7ccd0c",
   "metadata": {},
   "outputs": [
    {
     "name": "stdout",
     "output_type": "stream",
     "text": [
      "0 History\n",
      "1 Math\n",
      "2 Physics\n",
      "3 CompSci\n"
     ]
    }
   ],
   "source": [
    "for index, course in enumerate(courses): # will printout index with each items\n",
    "    print(index,course)"
   ]
  },
  {
   "cell_type": "code",
   "execution_count": 46,
   "id": "30397d40",
   "metadata": {},
   "outputs": [
    {
     "name": "stdout",
     "output_type": "stream",
     "text": [
      "1 History\n",
      "2 Math\n",
      "3 Physics\n",
      "4 CompSci\n"
     ]
    }
   ],
   "source": [
    " for index, course in enumerate(courses, start=1): # will start from index 1.\n",
    "        print(index, course)"
   ]
  },
  {
   "cell_type": "code",
   "execution_count": 47,
   "id": "69fefbb4",
   "metadata": {},
   "outputs": [
    {
     "name": "stdout",
     "output_type": "stream",
     "text": [
      "History, Math, Physics, CompSci\n"
     ]
    }
   ],
   "source": [
    "course_str = ', '.join(courses) \n",
    "print(course_str) # will print each items with (,)."
   ]
  },
  {
   "cell_type": "code",
   "execution_count": 48,
   "id": "18ca8e24",
   "metadata": {},
   "outputs": [
    {
     "name": "stdout",
     "output_type": "stream",
     "text": [
      "History-Math-Physics-CompSci\n"
     ]
    }
   ],
   "source": [
    "course_str = '-'.join(courses)\n",
    "print(course_str) # will print each items with (-)."
   ]
  }
 ],
 "metadata": {
  "kernelspec": {
   "display_name": "Python 3 (ipykernel)",
   "language": "python",
   "name": "python3"
  },
  "language_info": {
   "codemirror_mode": {
    "name": "ipython",
    "version": 3
   },
   "file_extension": ".py",
   "mimetype": "text/x-python",
   "name": "python",
   "nbconvert_exporter": "python",
   "pygments_lexer": "ipython3",
   "version": "3.10.12"
  }
 },
 "nbformat": 4,
 "nbformat_minor": 5
}
