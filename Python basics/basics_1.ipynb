{
 "cells": [
  {
   "cell_type": "markdown",
   "id": "93877364",
   "metadata": {},
   "source": [
    "<div align=\"center\">\n",
    "    <h4>Python Basics 1</h4>\n",
    "</div>"
   ]
  },
  {
   "cell_type": "markdown",
   "id": "f83026c4",
   "metadata": {},
   "source": [
    "### Identation"
   ]
  },
  {
   "cell_type": "code",
   "execution_count": 2,
   "id": "29226774",
   "metadata": {},
   "outputs": [
    {
     "name": "stdout",
     "output_type": "stream",
     "text": [
      "equal variable\n"
     ]
    }
   ],
   "source": [
    "# right way to write\n",
    "a = 4\n",
    "b = 4\n",
    "if a == b:\n",
    "    print(\"equal variable\")"
   ]
  },
  {
   "cell_type": "code",
   "execution_count": 3,
   "id": "07b33b87",
   "metadata": {},
   "outputs": [
    {
     "ename": "IndentationError",
     "evalue": "expected an indented block after 'if' statement on line 4 (2596033710.py, line 5)",
     "output_type": "error",
     "traceback": [
      "\u001b[0;36m  Cell \u001b[0;32mIn[3], line 5\u001b[0;36m\u001b[0m\n\u001b[0;31m    print(\"equal variable\")\u001b[0m\n\u001b[0m    ^\u001b[0m\n\u001b[0;31mIndentationError\u001b[0m\u001b[0;31m:\u001b[0m expected an indented block after 'if' statement on line 4\n"
     ]
    }
   ],
   "source": [
    "# wrong way to write which throw error\n",
    "a = 4\n",
    "b = 4\n",
    "if a == b:\n",
    "print(\"equal variable\") # without space"
   ]
  },
  {
   "cell_type": "markdown",
   "id": "5f91e1b9",
   "metadata": {},
   "source": [
    "### Comment"
   ]
  },
  {
   "cell_type": "markdown",
   "id": "a691e90b",
   "metadata": {},
   "source": [
    "##### Single Line comment:"
   ]
  },
  {
   "cell_type": "code",
   "execution_count": 11,
   "id": "53a22fe4",
   "metadata": {},
   "outputs": [
    {
     "name": "stdout",
     "output_type": "stream",
     "text": [
      "this is singleline comment\n"
     ]
    }
   ],
   "source": [
    "# This is single line comment\n",
    "print(\"this is singleline comment\")"
   ]
  },
  {
   "cell_type": "markdown",
   "id": "28e8497c",
   "metadata": {},
   "source": [
    "##### Multi Line comment:"
   ]
  },
  {
   "cell_type": "code",
   "execution_count": 10,
   "id": "050033cf",
   "metadata": {},
   "outputs": [
    {
     "name": "stdout",
     "output_type": "stream",
     "text": [
      "these are multiline comment\n"
     ]
    }
   ],
   "source": [
    "\"\"\"This is Multiline Comment\n",
    "Comment1\n",
    "Comment2\n",
    "Comment3\"\"\"\n",
    "\n",
    "print(\"these are multiline comments\")"
   ]
  },
  {
   "cell_type": "code",
   "execution_count": 17,
   "id": "d803aec6",
   "metadata": {},
   "outputs": [],
   "source": [
    "# this is the first comment\n",
    "spam = 1  # and this is the second comment\n",
    "          # ... and now a third!\n",
    "text = \"# This is not a comment because it's inside quotes.\""
   ]
  },
  {
   "cell_type": "markdown",
   "id": "a1cb70c2",
   "metadata": {},
   "source": [
    "### Text"
   ]
  },
  {
   "cell_type": "code",
   "execution_count": 19,
   "id": "0ae0c80a",
   "metadata": {},
   "outputs": [
    {
     "data": {
      "text/plain": [
       "'1975'"
      ]
     },
     "execution_count": 19,
     "metadata": {},
     "output_type": "execute_result"
    }
   ],
   "source": [
    "'spam eggs'  # single quotes\n",
    "\"Paris rabbit got your back :)! Yay!\"  # double quotes\n",
    "'1975'  # digits and numerals enclosed in quotes are also strings"
   ]
  },
  {
   "cell_type": "markdown",
   "id": "3aa99894",
   "metadata": {},
   "source": [
    "### Naming Convention"
   ]
  },
  {
   "cell_type": "code",
   "execution_count": 12,
   "id": "4fd08abf",
   "metadata": {},
   "outputs": [],
   "source": [
    "# Camel style\n",
    "ageEmp = 56\n",
    "AgeEmp = 54\n",
    "\n",
    "# Snake Style\n",
    "age_emp = 45\n",
    "Age_Emp = 28\n",
    "Age_emp = 50\n",
    "age_Emp = 33\n",
    "\n",
    "# Pascal Style\n",
    "AgeEmp = 85"
   ]
  },
  {
   "cell_type": "markdown",
   "id": "614a4dfd",
   "metadata": {},
   "source": [
    "### Assigning_Values"
   ]
  },
  {
   "cell_type": "code",
   "execution_count": 24,
   "id": "a77d84ee",
   "metadata": {},
   "outputs": [
    {
     "name": "stdout",
     "output_type": "stream",
     "text": [
      "10 20 30 40 50\n"
     ]
    }
   ],
   "source": [
    "Biochem, Genetics, Immunology, Bioinformatics, MachineLearning = 10,20,30,40,50\n",
    "print(Biochem, Genetics, Immunology, Bioinformatics, MachineLearning)"
   ]
  },
  {
   "cell_type": "code",
   "execution_count": 26,
   "id": "966b144b",
   "metadata": {},
   "outputs": [
    {
     "name": "stdout",
     "output_type": "stream",
     "text": [
      "10\n",
      "20\n",
      "30\n",
      "40\n",
      "50\n"
     ]
    }
   ],
   "source": [
    "print(Biochem)\n",
    "print(Genetics)\n",
    "print(Immunology)\n",
    "print(Bioinformatics)\n",
    "print(MachineLearning)"
   ]
  },
  {
   "cell_type": "code",
   "execution_count": 25,
   "id": "1961927e",
   "metadata": {},
   "outputs": [
    {
     "name": "stdout",
     "output_type": "stream",
     "text": [
      "10\n",
      "20\n",
      "30\n",
      "40\n",
      "50\n"
     ]
    }
   ],
   "source": [
    "print(f\"{Biochem}\\n{Genetics}\\n{Immunology}\\n{Bioinformatics}\\n{MachineLearning}\")"
   ]
  },
  {
   "cell_type": "code",
   "execution_count": 27,
   "id": "ea204035",
   "metadata": {},
   "outputs": [
    {
     "name": "stdout",
     "output_type": "stream",
     "text": [
      "Biochem: 10\n",
      "Genetics: 20\n",
      "Immunology: 30\n",
      "Bioinformatics: 40\n",
      "MachineLearning: 50\n"
     ]
    }
   ],
   "source": [
    "# print each variable with its corresponding value on a new line, you can use f-strings \n",
    "print(f\"Biochem: {Biochem}\")\n",
    "print(f\"Genetics: {Genetics}\")\n",
    "print(f\"Immunology: {Immunology}\")\n",
    "print(f\"Bioinformatics: {Bioinformatics}\")\n",
    "print(f\"MachineLearning: {MachineLearning}\")"
   ]
  },
  {
   "cell_type": "markdown",
   "id": "189433a8",
   "metadata": {},
   "source": [
    "### DataTypes"
   ]
  },
  {
   "cell_type": "code",
   "execution_count": 30,
   "id": "14dce14c",
   "metadata": {},
   "outputs": [
    {
     "name": "stdout",
     "output_type": "stream",
     "text": [
      "Name: Mahendra\n",
      "Age: 28\n",
      "Weight: 70.5\n"
     ]
    }
   ],
   "source": [
    "Name = \"Mahendra\"\n",
    "Age = 28\n",
    "Weight = 70.5\n",
    "print(f\"Name: {Name}\")\n",
    "print(f\"Age: {Age}\")\n",
    "print(f\"Weight: {Weight}\")"
   ]
  },
  {
   "cell_type": "markdown",
   "id": "6847a5b5",
   "metadata": {},
   "source": [
    "#### Identifying the datatypes"
   ]
  },
  {
   "cell_type": "code",
   "execution_count": 35,
   "id": "683ed369",
   "metadata": {},
   "outputs": [
    {
     "name": "stdout",
     "output_type": "stream",
     "text": [
      "<class 'str'>\n",
      "<class 'int'>\n",
      "<class 'float'>\n"
     ]
    }
   ],
   "source": [
    "print(type(Name))\n",
    "print(type(Age))\n",
    "print(type(Weight))"
   ]
  },
  {
   "cell_type": "markdown",
   "id": "baf217e4",
   "metadata": {},
   "source": [
    "### Data Types Conversion"
   ]
  },
  {
   "cell_type": "code",
   "execution_count": 36,
   "id": "1f92cf27",
   "metadata": {},
   "outputs": [
    {
     "data": {
      "text/plain": [
       "int"
      ]
     },
     "execution_count": 36,
     "metadata": {},
     "output_type": "execute_result"
    }
   ],
   "source": [
    "type(Age)"
   ]
  },
  {
   "cell_type": "code",
   "execution_count": 38,
   "id": "6a670aa2",
   "metadata": {},
   "outputs": [
    {
     "name": "stdout",
     "output_type": "stream",
     "text": [
      "28.0\n",
      "<class 'float'>\n"
     ]
    }
   ],
   "source": [
    "fl_int = float(Age)\n",
    "print(fl_int)\n",
    "print(type(fl_int))"
   ]
  },
  {
   "cell_type": "code",
   "execution_count": 39,
   "id": "fec99d7b",
   "metadata": {},
   "outputs": [
    {
     "name": "stdout",
     "output_type": "stream",
     "text": [
      "70\n",
      "<class 'int'>\n"
     ]
    }
   ],
   "source": [
    "Int_Flt = int(Weight)\n",
    "print(Int_Flt)\n",
    "print(type(Int_Flt))"
   ]
  },
  {
   "cell_type": "code",
   "execution_count": 40,
   "id": "899d855b",
   "metadata": {},
   "outputs": [
    {
     "name": "stdout",
     "output_type": "stream",
     "text": [
      "1\n",
      "<class 'int'>\n"
     ]
    }
   ],
   "source": [
    "Salary_tier = \"1\"\n",
    "Int_str = int(Salary_tier)\n",
    "print(Int_str)\n",
    "print(type(Int_str))"
   ]
  },
  {
   "cell_type": "markdown",
   "id": "16d65698",
   "metadata": {},
   "source": [
    "### Input Function"
   ]
  },
  {
   "cell_type": "code",
   "execution_count": 41,
   "id": "0712cb02",
   "metadata": {},
   "outputs": [
    {
     "name": "stdout",
     "output_type": "stream",
     "text": [
      "Please enter your age: 15\n",
      "your age is:15\n",
      "<class 'str'>\n"
     ]
    }
   ],
   "source": [
    "x = input(\"Please enter your age: \")\n",
    "print(\"your age is:\"+ x )\n",
    "print(type(x))"
   ]
  },
  {
   "cell_type": "markdown",
   "id": "4a782267",
   "metadata": {},
   "source": [
    "### Print Function"
   ]
  },
  {
   "cell_type": "code",
   "execution_count": 43,
   "id": "ff8a37e0",
   "metadata": {},
   "outputs": [
    {
     "data": {
      "text/plain": [
       "'First line \\nSecond line'"
      ]
     },
     "execution_count": 43,
     "metadata": {},
     "output_type": "execute_result"
    }
   ],
   "source": [
    "s = 'First line \\nSecond line'\n",
    "s"
   ]
  },
  {
   "cell_type": "code",
   "execution_count": 44,
   "id": "cf89cc0f",
   "metadata": {},
   "outputs": [
    {
     "name": "stdout",
     "output_type": "stream",
     "text": [
      "First line \n",
      "Second line\n"
     ]
    }
   ],
   "source": [
    "print(s)"
   ]
  },
  {
   "cell_type": "code",
   "execution_count": 48,
   "id": "82d55a67",
   "metadata": {},
   "outputs": [
    {
     "name": "stdout",
     "output_type": "stream",
     "text": [
      "\n",
      " \n",
      "Usage: thingy [OPTIONS]\n",
      "      -h    Display this usage message\n",
      "      -H hostname    Hostname to connect\n",
      "\n"
     ]
    }
   ],
   "source": [
    "print(\"\"\"\\n \n",
    "Usage: thingy [OPTIONS]\n",
    "      -h    Display this usage message\n",
    "      -H hostname    Hostname to connect\n",
    "\"\"\")"
   ]
  }
 ],
 "metadata": {
  "kernelspec": {
   "display_name": "Python 3 (ipykernel)",
   "language": "python",
   "name": "python3"
  },
  "language_info": {
   "codemirror_mode": {
    "name": "ipython",
    "version": 3
   },
   "file_extension": ".py",
   "mimetype": "text/x-python",
   "name": "python",
   "nbconvert_exporter": "python",
   "pygments_lexer": "ipython3",
   "version": "3.10.12"
  }
 },
 "nbformat": 4,
 "nbformat_minor": 5
}
