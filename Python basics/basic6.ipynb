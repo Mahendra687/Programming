{
 "cells": [
  {
   "cell_type": "markdown",
   "id": "37eccd56",
   "metadata": {},
   "source": [
    "<div align=\"center\">\n",
    "    <h4>Python Basics 6</h4>\n",
    "</div>"
   ]
  },
  {
   "cell_type": "markdown",
   "id": "899706c8",
   "metadata": {},
   "source": [
    "### Function"
   ]
  },
  {
   "cell_type": "markdown",
   "id": "13945f24",
   "metadata": {},
   "source": [
    "#### Function for Reverse Complemen"
   ]
  },
  {
   "cell_type": "code",
   "execution_count": 1,
   "id": "16ff4dad",
   "metadata": {},
   "outputs": [
    {
     "name": "stdout",
     "output_type": "stream",
     "text": [
      "Original DNA sequence: ATCGATCGATTGC\n",
      "Reverse complement: GCAATCGATCGAT\n"
     ]
    }
   ],
   "source": [
    "def reverse_complement(dna_sequence):\n",
    "  \"\"\"\n",
    "  This function takes a DNA sequence as input and returns its reverse complement.\n",
    "\n",
    "  Args:\n",
    "      dna_sequence (str): A DNA sequence string.\n",
    "\n",
    "  Returns:\n",
    "      str: The reverse complement of the DNA sequence.\n",
    "  \"\"\"\n",
    "\n",
    "  # Complement dictionary for DNA base pairs\n",
    "  complement_dict = {\"A\": \"T\", \"T\": \"A\", \"C\": \"G\", \"G\": \"C\"}\n",
    "\n",
    "  # Reverse the DNA sequence\n",
    "  reversed_sequence = dna_sequence[::-1]\n",
    "\n",
    "  # Return the reverse complement by replacing bases using the complement dictionary\n",
    "  return \"\".join([complement_dict[base] for base in reversed_sequence])\n",
    "\n",
    "# Example usage\n",
    "dna_sequence = \"ATCGATCGATTGC\"\n",
    "reverse_complement_seq = reverse_complement(dna_sequence)\n",
    "\n",
    "print(f\"Original DNA sequence: {dna_sequence}\")\n",
    "print(f\"Reverse complement: {reverse_complement_seq}\")"
   ]
  },
  {
   "cell_type": "code",
   "execution_count": 10,
   "id": "4946a2c3",
   "metadata": {},
   "outputs": [
    {
     "name": "stdout",
     "output_type": "stream",
     "text": [
      "Enter DNA Sequences Please: ATGCGTAC\n",
      "Original DNA sequence: ATGCGTAC\n",
      "Reverse complement: GTACGCAT\n"
     ]
    }
   ],
   "source": [
    "def reverse_complement(dna_sequence):\n",
    "  # Complement dictionary for DNA base pairs\n",
    "  complement_dict = {\"A\": \"T\", \"T\": \"A\", \"C\": \"G\", \"G\": \"C\"}\n",
    "\n",
    "  # Check for invalid characters\n",
    "  valid_nucleotides = set(\"ACGT\")\n",
    "  if not set(dna_sequence.upper()) <= valid_nucleotides:\n",
    "      return \"Invalid sequence\"\n",
    "\n",
    "  # Reverse the DNA sequence\n",
    "  reversed_sequence = dna_sequence[::-1]\n",
    "\n",
    "  # Return the reverse complement by replacing bases using the complement dictionary\n",
    "  return \"\".join([complement_dict.get(base, \"N\") for base in reversed_sequence])\n",
    "\n",
    "# Get DNA sequence input from the user\n",
    "DNA_sequence = input(\"Enter DNA Sequences Please: \")\n",
    "\n",
    "# Calculate and print the reverse complement\n",
    "reverse_complement_seq = reverse_complement(DNA_sequence)\n",
    "print(f\"Original DNA sequence: {DNA_sequence}\")\n",
    "print(f\"Reverse complement: {reverse_complement_seq}\")"
   ]
  },
  {
   "cell_type": "code",
   "execution_count": null,
   "id": "e1a5c616",
   "metadata": {},
   "outputs": [],
   "source": []
  },
  {
   "cell_type": "code",
   "execution_count": null,
   "id": "11db1c12",
   "metadata": {},
   "outputs": [],
   "source": [
    "."
   ]
  },
  {
   "cell_type": "code",
   "execution_count": null,
   "id": "cab49275",
   "metadata": {},
   "outputs": [],
   "source": []
  },
  {
   "cell_type": "code",
   "execution_count": null,
   "id": "bbaae5da",
   "metadata": {},
   "outputs": [],
   "source": []
  }
 ],
 "metadata": {
  "kernelspec": {
   "display_name": "Python 3 (ipykernel)",
   "language": "python",
   "name": "python3"
  },
  "language_info": {
   "codemirror_mode": {
    "name": "ipython",
    "version": 3
   },
   "file_extension": ".py",
   "mimetype": "text/x-python",
   "name": "python",
   "nbconvert_exporter": "python",
   "pygments_lexer": "ipython3",
   "version": "3.10.12"
  }
 },
 "nbformat": 4,
 "nbformat_minor": 5
}
