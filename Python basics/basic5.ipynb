{
 "cells": [
  {
   "cell_type": "markdown",
   "id": "c905fdb1",
   "metadata": {},
   "source": [
    "<div align=\"center\">\n",
    "    <h4>Python Basics 5</h4>\n",
    "</div>"
   ]
  },
  {
   "cell_type": "markdown",
   "id": "cbac04ca",
   "metadata": {},
   "source": [
    "### Tuple"
   ]
  },
  {
   "cell_type": "code",
   "execution_count": 1,
   "id": "358f9e83",
   "metadata": {},
   "outputs": [
    {
     "data": {
      "text/plain": [
       "(1, 2, 3, 4, 5, 9, 8, 7)"
      ]
     },
     "execution_count": 1,
     "metadata": {},
     "output_type": "execute_result"
    }
   ],
   "source": [
    "x = (1,2,3,4,5,9,8,7)\n",
    "x"
   ]
  },
  {
   "cell_type": "code",
   "execution_count": 2,
   "id": "339d5628",
   "metadata": {},
   "outputs": [
    {
     "data": {
      "text/plain": [
       "9"
      ]
     },
     "execution_count": 2,
     "metadata": {},
     "output_type": "execute_result"
    }
   ],
   "source": [
    "x[5]"
   ]
  },
  {
   "cell_type": "code",
   "execution_count": 4,
   "id": "b95c441f",
   "metadata": {},
   "outputs": [],
   "source": [
    "#x[0] = 12 # imutable"
   ]
  },
  {
   "cell_type": "code",
   "execution_count": 5,
   "id": "3829b500",
   "metadata": {},
   "outputs": [
    {
     "data": {
      "text/plain": [
       "1"
      ]
     },
     "execution_count": 5,
     "metadata": {},
     "output_type": "execute_result"
    }
   ],
   "source": [
    "x.count(8)"
   ]
  },
  {
   "cell_type": "code",
   "execution_count": 6,
   "id": "fc42031d",
   "metadata": {},
   "outputs": [
    {
     "data": {
      "text/plain": [
       "1"
      ]
     },
     "execution_count": 6,
     "metadata": {},
     "output_type": "execute_result"
    }
   ],
   "source": [
    "x.count(7)"
   ]
  },
  {
   "cell_type": "code",
   "execution_count": 7,
   "id": "d4a0cbba",
   "metadata": {},
   "outputs": [
    {
     "data": {
      "text/plain": [
       "8"
      ]
     },
     "execution_count": 7,
     "metadata": {},
     "output_type": "execute_result"
    }
   ],
   "source": [
    "len(x)"
   ]
  },
  {
   "cell_type": "code",
   "execution_count": 8,
   "id": "20afc1e6",
   "metadata": {},
   "outputs": [
    {
     "data": {
      "text/plain": [
       "(1, 'max', 1.6)"
      ]
     },
     "execution_count": 8,
     "metadata": {},
     "output_type": "execute_result"
    }
   ],
   "source": [
    "y = (1,'max', 1.6)\n",
    "y"
   ]
  },
  {
   "cell_type": "code",
   "execution_count": 9,
   "id": "120f0f30",
   "metadata": {},
   "outputs": [
    {
     "data": {
      "text/plain": [
       "(1, 2, 3, 4, 5, 9, 8, 7, 1, 'max', 1.6)"
      ]
     },
     "execution_count": 9,
     "metadata": {},
     "output_type": "execute_result"
    }
   ],
   "source": [
    "z  = x+y\n",
    "z"
   ]
  },
  {
   "cell_type": "code",
   "execution_count": 10,
   "id": "eec01a84",
   "metadata": {},
   "outputs": [
    {
     "data": {
      "text/plain": [
       "('hi', 'hi', 'hi', 'hi', 'hi')"
      ]
     },
     "execution_count": 10,
     "metadata": {},
     "output_type": "execute_result"
    }
   ],
   "source": [
    "a = (\"hi\",) * 5\n",
    "a"
   ]
  },
  {
   "cell_type": "code",
   "execution_count": 12,
   "id": "b2df3328",
   "metadata": {},
   "outputs": [
    {
     "name": "stdout",
     "output_type": "stream",
     "text": [
      "9\n",
      "1\n"
     ]
    }
   ],
   "source": [
    "print(max(x))\n",
    "print(min(x))"
   ]
  },
  {
   "cell_type": "markdown",
   "id": "04c5d715",
   "metadata": {},
   "source": [
    "#### Scenario 1: Storing Gene Annotations (Fixed Set of Attributes)"
   ]
  },
  {
   "cell_type": "code",
   "execution_count": 15,
   "id": "dfcf7e12",
   "metadata": {},
   "outputs": [
    {
     "name": "stdout",
     "output_type": "stream",
     "text": [
      "Gene name: BRCA1, Chromosome: 17, Function: Tumor supressor gene\n"
     ]
    }
   ],
   "source": [
    "# Tuple to store gene annotations (name, chromosome, function)\n",
    "gene_annotation = (\"BRCA1\", \"17\", \"Tumor supressor gene\")\n",
    "# Accessing individual elements within the tuple\n",
    "gene_name, chromosome, function = gene_annotation\n",
    "\n",
    "print(f\"Gene name: {gene_name}, Chromosome: {chromosome}, Function: {function}\")"
   ]
  },
  {
   "cell_type": "markdown",
   "id": "2e7268fc",
   "metadata": {},
   "source": [
    "#### Scenario 2: Representing Codons and Corresponding Amino Acids (Fixed Mapping)"
   ]
  },
  {
   "cell_type": "code",
   "execution_count": 16,
   "id": "fe516190",
   "metadata": {},
   "outputs": [
    {
     "name": "stdout",
     "output_type": "stream",
     "text": [
      "Codon: ATG, Amino Acid: M\n"
     ]
    }
   ],
   "source": [
    "# Dictionary to map codons to amino acids (more efficient for large datasets)\n",
    "codon_table = {\n",
    "    \"ATG\": \"M\", \"TTC\": \"F\", \"TTT\": \"F\", \"TTA\": \"L\", \"TTG\": \"L\",\n",
    "    # ... (rest of the codon table)\n",
    "}\n",
    "\n",
    "# Using a tuple to represent a specific codon-amino acid pair (fixed association)\n",
    "methionine_codon = (\"ATG\", codon_table[\"ATG\"])  # Accessing amino acid from dictionary\n",
    "\n",
    "print(f\"Codon: {methionine_codon[0]}, Amino Acid: {methionine_codon[1]}\")"
   ]
  },
  {
   "cell_type": "markdown",
   "id": "ba7789c4",
   "metadata": {},
   "source": [
    "### Dictionaries in Python "
   ]
  },
  {
   "cell_type": "code",
   "execution_count": 19,
   "id": "8508b5f2",
   "metadata": {},
   "outputs": [
    {
     "name": "stdout",
     "output_type": "stream",
     "text": [
      "{'name': 'Ram', 'wife': 'Sita', 'bhajan': 'sita ram sita ram'}\n"
     ]
    }
   ],
   "source": [
    "Dict = {\n",
    "    \"name\":\"Ram\",\n",
    "    \"wife\":\"Sita\",\n",
    "    \"bhajan\":\"sita ram sita ram\"\n",
    "}\n",
    "print(Dict)"
   ]
  },
  {
   "cell_type": "code",
   "execution_count": 20,
   "id": "36594601",
   "metadata": {},
   "outputs": [
    {
     "data": {
      "text/plain": [
       "{1: 'Blue', 2: 'Green', 3: 'Yellow'}"
      ]
     },
     "execution_count": 20,
     "metadata": {},
     "output_type": "execute_result"
    }
   ],
   "source": [
    "my_dict = {1:\"Blue\", 2:\"Green\",3:\"Yellow\" }\n",
    "my_dict"
   ]
  },
  {
   "cell_type": "markdown",
   "id": "d66cc7ec",
   "metadata": {},
   "source": [
    "#### Scenario 1: Storing Gene Information with Unique IDs"
   ]
  },
  {
   "cell_type": "code",
   "execution_count": 21,
   "id": "e566e268",
   "metadata": {},
   "outputs": [
    {
     "name": "stdout",
     "output_type": "stream",
     "text": [
      "Gene name for ID ENSG0000002: TP53\n"
     ]
    }
   ],
   "source": [
    "# Dictionary to store gene information with gene ID as the key\n",
    "gene_data = {\n",
    "    \"ENSG0000001\": {\"name\": \"BRCA1\", \"chromosome\": \"17\", \"function\": \"Tumor suppressor gene\"},\n",
    "    \"ENSG0000002\": {\"name\": \"TP53\", \"chromosome\": \"17\", \"function\": \"Tumor suppressor gene\"},\n",
    "}\n",
    "\n",
    "# Accessing gene information using the gene ID (key)\n",
    "gene_id = \"ENSG0000002\"\n",
    "gene_info = gene_data[gene_id]\n",
    "\n",
    "print(f\"Gene name for ID {gene_id}: {gene_info['name']}\")"
   ]
  },
  {
   "cell_type": "markdown",
   "id": "a5a1e597",
   "metadata": {},
   "source": [
    "#### Scenario 2: Representing Restriction Enzyme Recognition Sites"
   ]
  },
  {
   "cell_type": "code",
   "execution_count": 22,
   "id": "5b1d2b43",
   "metadata": {},
   "outputs": [
    {
     "name": "stdout",
     "output_type": "stream",
     "text": [
      "Cut sequence for HindIII: AAGCTT\n"
     ]
    }
   ],
   "source": [
    "# Dictionary to store restriction enzyme recognition sites and their cut sequences\n",
    "restriction_enzymes = {\n",
    "    \"EcoRI\": \"GAATTC\",\n",
    "    \"HindIII\": \"AAGCTT\",\n",
    "    \"BamHI\": \"GGATCC\",\n",
    "}\n",
    "\n",
    "# Accessing the cut sequence for a specific enzyme (using key)\n",
    "enzyme_name = \"HindIII\"\n",
    "cut_sequence = restriction_enzymes[enzyme_name]\n",
    "\n",
    "print(f\"Cut sequence for {enzyme_name}: {cut_sequence}\")"
   ]
  },
  {
   "cell_type": "code",
   "execution_count": null,
   "id": "f83b202e",
   "metadata": {},
   "outputs": [],
   "source": []
  }
 ],
 "metadata": {
  "kernelspec": {
   "display_name": "Python 3 (ipykernel)",
   "language": "python",
   "name": "python3"
  },
  "language_info": {
   "codemirror_mode": {
    "name": "ipython",
    "version": 3
   },
   "file_extension": ".py",
   "mimetype": "text/x-python",
   "name": "python",
   "nbconvert_exporter": "python",
   "pygments_lexer": "ipython3",
   "version": "3.10.12"
  }
 },
 "nbformat": 4,
 "nbformat_minor": 5
}
