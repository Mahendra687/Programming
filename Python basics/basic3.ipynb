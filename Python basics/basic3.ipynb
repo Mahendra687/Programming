{
 "cells": [
  {
   "cell_type": "markdown",
   "id": "8a341cae",
   "metadata": {},
   "source": [
    "<div align=\"center\">\n",
    "    <h4>Python Basics 3</h4>\n",
    "</div>"
   ]
  },
  {
   "cell_type": "markdown",
   "id": "1f82df39",
   "metadata": {},
   "source": [
    "### Indexing"
   ]
  },
  {
   "cell_type": "markdown",
   "id": "51b22c85",
   "metadata": {},
   "source": [
    "<div align=\"right\">\n",
    "     <h4>Positive Indexing:</h4>\n",
    "</div>"
   ]
  },
  {
   "cell_type": "code",
   "execution_count": 3,
   "id": "cd31ad96",
   "metadata": {},
   "outputs": [
    {
     "name": "stdout",
     "output_type": "stream",
     "text": [
      "Second codon: GAT\n"
     ]
    }
   ],
   "source": [
    "dna_sequence = \"ATCGATCGATTGC\"\n",
    "\n",
    "# Extracting the second codon (positions 3 to 5) using positive indexing (0-based)\n",
    "second_codon = dna_sequence[3:6]\n",
    "\n",
    "print(f\"Second codon: {second_codon}\")"
   ]
  },
  {
   "cell_type": "markdown",
   "id": "b15534f6",
   "metadata": {},
   "source": [
    "<div align=\"right\">\n",
    "     <h4>Negative Indexing:</h4>\n",
    "</div>"
   ]
  },
  {
   "cell_type": "code",
   "execution_count": 4,
   "id": "796f587f",
   "metadata": {},
   "outputs": [
    {
     "name": "stdout",
     "output_type": "stream",
     "text": [
      "Last nucleotide: C\n"
     ]
    }
   ],
   "source": [
    "# Accessing the last nucleotide using negative indexing\n",
    "last_nucleotide = dna_sequence[-1]\n",
    "\n",
    "print(f\"Last nucleotide: {last_nucleotide}\")"
   ]
  },
  {
   "cell_type": "markdown",
   "id": "1bfb65d7",
   "metadata": {},
   "source": [
    "<div align=\"right\">\n",
    "     <h4>Concatenation:</h4>\n",
    "</div>"
   ]
  },
  {
   "cell_type": "code",
   "execution_count": 6,
   "id": "c0290820",
   "metadata": {},
   "outputs": [
    {
     "name": "stdout",
     "output_type": "stream",
     "text": [
      "Complete DNA fragment: ATCGATCGATTGC\n"
     ]
    }
   ],
   "source": [
    "# Simulating short sequencing reads\n",
    "read_1 = \"ATCGATCG\"\n",
    "read_2 = \"ATTGC\"\n",
    "\n",
    "# Concatenating the reads to form the complete fragment\n",
    "complete_fragment = read_1 + read_2\n",
    "\n",
    "print(f\"Complete DNA fragment: {complete_fragment}\")"
   ]
  },
  {
   "cell_type": "code",
   "execution_count": 7,
   "id": "e67919d6",
   "metadata": {},
   "outputs": [
    {
     "name": "stdout",
     "output_type": "stream",
     "text": [
      "AGTC\n",
      "AGCU\n"
     ]
    }
   ],
   "source": [
    "DNA = \"AG\" + \"TC\" #String concatenation\n",
    "RNA = \"AG\" + \"CU\" #String concatenation\n",
    "print(DNA)\n",
    "print(RNA)"
   ]
  },
  {
   "cell_type": "code",
   "execution_count": 8,
   "id": "713f2d9d",
   "metadata": {},
   "outputs": [
    {
     "name": "stdout",
     "output_type": "stream",
     "text": [
      "Python is awesome\n"
     ]
    }
   ],
   "source": [
    "x = \"Python is \"\n",
    "y = \"awesome\"\n",
    "z = x+y\n",
    "print(z)"
   ]
  },
  {
   "cell_type": "code",
   "execution_count": 9,
   "id": "b0f543be",
   "metadata": {},
   "outputs": [
    {
     "name": "stdout",
     "output_type": "stream",
     "text": [
      "AG TC\n"
     ]
    }
   ],
   "source": [
    "x = \"AG\"\n",
    "y = \"TC\"\n",
    "print(x+ \" \" +y)"
   ]
  },
  {
   "cell_type": "code",
   "execution_count": 10,
   "id": "24027723",
   "metadata": {},
   "outputs": [
    {
     "name": "stdout",
     "output_type": "stream",
     "text": [
      "13\n"
     ]
    }
   ],
   "source": [
    "a = \"hello, world!\"\n",
    "print(len(a))"
   ]
  },
  {
   "cell_type": "code",
   "execution_count": null,
   "id": "c6ff4bd7",
   "metadata": {},
   "outputs": [],
   "source": []
  }
 ],
 "metadata": {
  "kernelspec": {
   "display_name": "Python 3 (ipykernel)",
   "language": "python",
   "name": "python3"
  },
  "language_info": {
   "codemirror_mode": {
    "name": "ipython",
    "version": 3
   },
   "file_extension": ".py",
   "mimetype": "text/x-python",
   "name": "python",
   "nbconvert_exporter": "python",
   "pygments_lexer": "ipython3",
   "version": "3.10.12"
  }
 },
 "nbformat": 4,
 "nbformat_minor": 5
}
