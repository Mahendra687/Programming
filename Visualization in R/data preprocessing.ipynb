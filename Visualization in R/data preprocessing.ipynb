{
 "cells": [
  {
   "cell_type": "markdown",
   "id": "656e9e15",
   "metadata": {},
   "source": [
    "<div align = \"center\">\n",
    "    <h4> Data Exploration and Cleaning</h4>\n",
    "</div>"
   ]
  },
  {
   "cell_type": "markdown",
   "id": "543ba277",
   "metadata": {},
   "source": [
    "**Exploring The Variables**: Viewing the Data Frame"
   ]
  },
  {
   "cell_type": "code",
   "execution_count": 1,
   "id": "55294cbd",
   "metadata": {},
   "outputs": [],
   "source": [
    "titanic_train = read.csv(\"train.csv\")"
   ]
  },
  {
   "cell_type": "code",
   "execution_count": 2,
   "id": "5da799d8",
   "metadata": {},
   "outputs": [
    {
     "data": {
      "text/html": [
       "<table class=\"dataframe\">\n",
       "<caption>A data.frame: 6 × 12</caption>\n",
       "<thead>\n",
       "\t<tr><th></th><th scope=col>PassengerId</th><th scope=col>Survived</th><th scope=col>Pclass</th><th scope=col>Name</th><th scope=col>Sex</th><th scope=col>Age</th><th scope=col>SibSp</th><th scope=col>Parch</th><th scope=col>Ticket</th><th scope=col>Fare</th><th scope=col>Cabin</th><th scope=col>Embarked</th></tr>\n",
       "\t<tr><th></th><th scope=col>&lt;int&gt;</th><th scope=col>&lt;int&gt;</th><th scope=col>&lt;int&gt;</th><th scope=col>&lt;chr&gt;</th><th scope=col>&lt;chr&gt;</th><th scope=col>&lt;dbl&gt;</th><th scope=col>&lt;int&gt;</th><th scope=col>&lt;int&gt;</th><th scope=col>&lt;chr&gt;</th><th scope=col>&lt;dbl&gt;</th><th scope=col>&lt;chr&gt;</th><th scope=col>&lt;chr&gt;</th></tr>\n",
       "</thead>\n",
       "<tbody>\n",
       "\t<tr><th scope=row>1</th><td>1</td><td>0</td><td>3</td><td>Braund, Mr. Owen Harris                            </td><td>male  </td><td>22</td><td>1</td><td>0</td><td>A/5 21171       </td><td> 7.2500</td><td>    </td><td>S</td></tr>\n",
       "\t<tr><th scope=row>2</th><td>2</td><td>1</td><td>1</td><td>Cumings, Mrs. John Bradley (Florence Briggs Thayer)</td><td>female</td><td>38</td><td>1</td><td>0</td><td>PC 17599        </td><td>71.2833</td><td>C85 </td><td>C</td></tr>\n",
       "\t<tr><th scope=row>3</th><td>3</td><td>1</td><td>3</td><td>Heikkinen, Miss. Laina                             </td><td>female</td><td>26</td><td>0</td><td>0</td><td>STON/O2. 3101282</td><td> 7.9250</td><td>    </td><td>S</td></tr>\n",
       "\t<tr><th scope=row>4</th><td>4</td><td>1</td><td>1</td><td>Futrelle, Mrs. Jacques Heath (Lily May Peel)       </td><td>female</td><td>35</td><td>1</td><td>0</td><td>113803          </td><td>53.1000</td><td>C123</td><td>S</td></tr>\n",
       "\t<tr><th scope=row>5</th><td>5</td><td>0</td><td>3</td><td>Allen, Mr. William Henry                           </td><td>male  </td><td>35</td><td>0</td><td>0</td><td>373450          </td><td> 8.0500</td><td>    </td><td>S</td></tr>\n",
       "\t<tr><th scope=row>6</th><td>6</td><td>0</td><td>3</td><td>Moran, Mr. James                                   </td><td>male  </td><td>NA</td><td>0</td><td>0</td><td>330877          </td><td> 8.4583</td><td>    </td><td>Q</td></tr>\n",
       "</tbody>\n",
       "</table>\n"
      ],
      "text/latex": [
       "A data.frame: 6 × 12\n",
       "\\begin{tabular}{r|llllllllllll}\n",
       "  & PassengerId & Survived & Pclass & Name & Sex & Age & SibSp & Parch & Ticket & Fare & Cabin & Embarked\\\\\n",
       "  & <int> & <int> & <int> & <chr> & <chr> & <dbl> & <int> & <int> & <chr> & <dbl> & <chr> & <chr>\\\\\n",
       "\\hline\n",
       "\t1 & 1 & 0 & 3 & Braund, Mr. Owen Harris                             & male   & 22 & 1 & 0 & A/5 21171        &  7.2500 &      & S\\\\\n",
       "\t2 & 2 & 1 & 1 & Cumings, Mrs. John Bradley (Florence Briggs Thayer) & female & 38 & 1 & 0 & PC 17599         & 71.2833 & C85  & C\\\\\n",
       "\t3 & 3 & 1 & 3 & Heikkinen, Miss. Laina                              & female & 26 & 0 & 0 & STON/O2. 3101282 &  7.9250 &      & S\\\\\n",
       "\t4 & 4 & 1 & 1 & Futrelle, Mrs. Jacques Heath (Lily May Peel)        & female & 35 & 1 & 0 & 113803           & 53.1000 & C123 & S\\\\\n",
       "\t5 & 5 & 0 & 3 & Allen, Mr. William Henry                            & male   & 35 & 0 & 0 & 373450           &  8.0500 &      & S\\\\\n",
       "\t6 & 6 & 0 & 3 & Moran, Mr. James                                    & male   & NA & 0 & 0 & 330877           &  8.4583 &      & Q\\\\\n",
       "\\end{tabular}\n"
      ],
      "text/markdown": [
       "\n",
       "A data.frame: 6 × 12\n",
       "\n",
       "| <!--/--> | PassengerId &lt;int&gt; | Survived &lt;int&gt; | Pclass &lt;int&gt; | Name &lt;chr&gt; | Sex &lt;chr&gt; | Age &lt;dbl&gt; | SibSp &lt;int&gt; | Parch &lt;int&gt; | Ticket &lt;chr&gt; | Fare &lt;dbl&gt; | Cabin &lt;chr&gt; | Embarked &lt;chr&gt; |\n",
       "|---|---|---|---|---|---|---|---|---|---|---|---|---|\n",
       "| 1 | 1 | 0 | 3 | Braund, Mr. Owen Harris                             | male   | 22 | 1 | 0 | A/5 21171        |  7.2500 | <!----> | S |\n",
       "| 2 | 2 | 1 | 1 | Cumings, Mrs. John Bradley (Florence Briggs Thayer) | female | 38 | 1 | 0 | PC 17599         | 71.2833 | C85  | C |\n",
       "| 3 | 3 | 1 | 3 | Heikkinen, Miss. Laina                              | female | 26 | 0 | 0 | STON/O2. 3101282 |  7.9250 | <!----> | S |\n",
       "| 4 | 4 | 1 | 1 | Futrelle, Mrs. Jacques Heath (Lily May Peel)        | female | 35 | 1 | 0 | 113803           | 53.1000 | C123 | S |\n",
       "| 5 | 5 | 0 | 3 | Allen, Mr. William Henry                            | male   | 35 | 0 | 0 | 373450           |  8.0500 | <!----> | S |\n",
       "| 6 | 6 | 0 | 3 | Moran, Mr. James                                    | male   | NA | 0 | 0 | 330877           |  8.4583 | <!----> | Q |\n",
       "\n"
      ],
      "text/plain": [
       "  PassengerId Survived Pclass\n",
       "1 1           0        3     \n",
       "2 2           1        1     \n",
       "3 3           1        3     \n",
       "4 4           1        1     \n",
       "5 5           0        3     \n",
       "6 6           0        3     \n",
       "  Name                                                Sex    Age SibSp Parch\n",
       "1 Braund, Mr. Owen Harris                             male   22  1     0    \n",
       "2 Cumings, Mrs. John Bradley (Florence Briggs Thayer) female 38  1     0    \n",
       "3 Heikkinen, Miss. Laina                              female 26  0     0    \n",
       "4 Futrelle, Mrs. Jacques Heath (Lily May Peel)        female 35  1     0    \n",
       "5 Allen, Mr. William Henry                            male   35  0     0    \n",
       "6 Moran, Mr. James                                    male   NA  0     0    \n",
       "  Ticket           Fare    Cabin Embarked\n",
       "1 A/5 21171         7.2500       S       \n",
       "2 PC 17599         71.2833 C85   C       \n",
       "3 STON/O2. 3101282  7.9250       S       \n",
       "4 113803           53.1000 C123  S       \n",
       "5 373450            8.0500       S       \n",
       "6 330877            8.4583       Q       "
      ]
     },
     "metadata": {},
     "output_type": "display_data"
    }
   ],
   "source": [
    "head(titanic_train)"
   ]
  },
  {
   "cell_type": "code",
   "execution_count": 3,
   "id": "ad88c474",
   "metadata": {},
   "outputs": [
    {
     "data": {
      "text/html": [
       "<table class=\"dataframe\">\n",
       "<caption>A data.frame: 6 × 12</caption>\n",
       "<thead>\n",
       "\t<tr><th></th><th scope=col>PassengerId</th><th scope=col>Survived</th><th scope=col>Pclass</th><th scope=col>Name</th><th scope=col>Sex</th><th scope=col>Age</th><th scope=col>SibSp</th><th scope=col>Parch</th><th scope=col>Ticket</th><th scope=col>Fare</th><th scope=col>Cabin</th><th scope=col>Embarked</th></tr>\n",
       "\t<tr><th></th><th scope=col>&lt;int&gt;</th><th scope=col>&lt;int&gt;</th><th scope=col>&lt;int&gt;</th><th scope=col>&lt;chr&gt;</th><th scope=col>&lt;chr&gt;</th><th scope=col>&lt;dbl&gt;</th><th scope=col>&lt;int&gt;</th><th scope=col>&lt;int&gt;</th><th scope=col>&lt;chr&gt;</th><th scope=col>&lt;dbl&gt;</th><th scope=col>&lt;chr&gt;</th><th scope=col>&lt;chr&gt;</th></tr>\n",
       "</thead>\n",
       "<tbody>\n",
       "\t<tr><th scope=row>886</th><td>886</td><td>0</td><td>3</td><td>Rice, Mrs. William (Margaret Norton)    </td><td>female</td><td>39</td><td>0</td><td>5</td><td>382652    </td><td>29.125</td><td>    </td><td>Q</td></tr>\n",
       "\t<tr><th scope=row>887</th><td>887</td><td>0</td><td>2</td><td>Montvila, Rev. Juozas                   </td><td>male  </td><td>27</td><td>0</td><td>0</td><td>211536    </td><td>13.000</td><td>    </td><td>S</td></tr>\n",
       "\t<tr><th scope=row>888</th><td>888</td><td>1</td><td>1</td><td>Graham, Miss. Margaret Edith            </td><td>female</td><td>19</td><td>0</td><td>0</td><td>112053    </td><td>30.000</td><td>B42 </td><td>S</td></tr>\n",
       "\t<tr><th scope=row>889</th><td>889</td><td>0</td><td>3</td><td>Johnston, Miss. Catherine Helen \"Carrie\"</td><td>female</td><td>NA</td><td>1</td><td>2</td><td>W./C. 6607</td><td>23.450</td><td>    </td><td>S</td></tr>\n",
       "\t<tr><th scope=row>890</th><td>890</td><td>1</td><td>1</td><td>Behr, Mr. Karl Howell                   </td><td>male  </td><td>26</td><td>0</td><td>0</td><td>111369    </td><td>30.000</td><td>C148</td><td>C</td></tr>\n",
       "\t<tr><th scope=row>891</th><td>891</td><td>0</td><td>3</td><td>Dooley, Mr. Patrick                     </td><td>male  </td><td>32</td><td>0</td><td>0</td><td>370376    </td><td> 7.750</td><td>    </td><td>Q</td></tr>\n",
       "</tbody>\n",
       "</table>\n"
      ],
      "text/latex": [
       "A data.frame: 6 × 12\n",
       "\\begin{tabular}{r|llllllllllll}\n",
       "  & PassengerId & Survived & Pclass & Name & Sex & Age & SibSp & Parch & Ticket & Fare & Cabin & Embarked\\\\\n",
       "  & <int> & <int> & <int> & <chr> & <chr> & <dbl> & <int> & <int> & <chr> & <dbl> & <chr> & <chr>\\\\\n",
       "\\hline\n",
       "\t886 & 886 & 0 & 3 & Rice, Mrs. William (Margaret Norton)     & female & 39 & 0 & 5 & 382652     & 29.125 &      & Q\\\\\n",
       "\t887 & 887 & 0 & 2 & Montvila, Rev. Juozas                    & male   & 27 & 0 & 0 & 211536     & 13.000 &      & S\\\\\n",
       "\t888 & 888 & 1 & 1 & Graham, Miss. Margaret Edith             & female & 19 & 0 & 0 & 112053     & 30.000 & B42  & S\\\\\n",
       "\t889 & 889 & 0 & 3 & Johnston, Miss. Catherine Helen \"Carrie\" & female & NA & 1 & 2 & W./C. 6607 & 23.450 &      & S\\\\\n",
       "\t890 & 890 & 1 & 1 & Behr, Mr. Karl Howell                    & male   & 26 & 0 & 0 & 111369     & 30.000 & C148 & C\\\\\n",
       "\t891 & 891 & 0 & 3 & Dooley, Mr. Patrick                      & male   & 32 & 0 & 0 & 370376     &  7.750 &      & Q\\\\\n",
       "\\end{tabular}\n"
      ],
      "text/markdown": [
       "\n",
       "A data.frame: 6 × 12\n",
       "\n",
       "| <!--/--> | PassengerId &lt;int&gt; | Survived &lt;int&gt; | Pclass &lt;int&gt; | Name &lt;chr&gt; | Sex &lt;chr&gt; | Age &lt;dbl&gt; | SibSp &lt;int&gt; | Parch &lt;int&gt; | Ticket &lt;chr&gt; | Fare &lt;dbl&gt; | Cabin &lt;chr&gt; | Embarked &lt;chr&gt; |\n",
       "|---|---|---|---|---|---|---|---|---|---|---|---|---|\n",
       "| 886 | 886 | 0 | 3 | Rice, Mrs. William (Margaret Norton)     | female | 39 | 0 | 5 | 382652     | 29.125 | <!----> | Q |\n",
       "| 887 | 887 | 0 | 2 | Montvila, Rev. Juozas                    | male   | 27 | 0 | 0 | 211536     | 13.000 | <!----> | S |\n",
       "| 888 | 888 | 1 | 1 | Graham, Miss. Margaret Edith             | female | 19 | 0 | 0 | 112053     | 30.000 | B42  | S |\n",
       "| 889 | 889 | 0 | 3 | Johnston, Miss. Catherine Helen \"Carrie\" | female | NA | 1 | 2 | W./C. 6607 | 23.450 | <!----> | S |\n",
       "| 890 | 890 | 1 | 1 | Behr, Mr. Karl Howell                    | male   | 26 | 0 | 0 | 111369     | 30.000 | C148 | C |\n",
       "| 891 | 891 | 0 | 3 | Dooley, Mr. Patrick                      | male   | 32 | 0 | 0 | 370376     |  7.750 | <!----> | Q |\n",
       "\n"
      ],
      "text/plain": [
       "    PassengerId Survived Pclass Name                                     Sex   \n",
       "886 886         0        3      Rice, Mrs. William (Margaret Norton)     female\n",
       "887 887         0        2      Montvila, Rev. Juozas                    male  \n",
       "888 888         1        1      Graham, Miss. Margaret Edith             female\n",
       "889 889         0        3      Johnston, Miss. Catherine Helen \"Carrie\" female\n",
       "890 890         1        1      Behr, Mr. Karl Howell                    male  \n",
       "891 891         0        3      Dooley, Mr. Patrick                      male  \n",
       "    Age SibSp Parch Ticket     Fare   Cabin Embarked\n",
       "886 39  0     5     382652     29.125       Q       \n",
       "887 27  0     0     211536     13.000       S       \n",
       "888 19  0     0     112053     30.000 B42   S       \n",
       "889 NA  1     2     W./C. 6607 23.450       S       \n",
       "890 26  0     0     111369     30.000 C148  C       \n",
       "891 32  0     0     370376      7.750       Q       "
      ]
     },
     "metadata": {},
     "output_type": "display_data"
    }
   ],
   "source": [
    "tail(titanic_train)"
   ]
  },
  {
   "cell_type": "code",
   "execution_count": 4,
   "id": "103f8319",
   "metadata": {
    "scrolled": false
   },
   "outputs": [],
   "source": [
    "#print(titanic_train)"
   ]
  },
  {
   "cell_type": "markdown",
   "id": "29d70d62",
   "metadata": {},
   "source": [
    "**Structure of the Data Frame:** Use str() function to get a summary of the structure of your data frame"
   ]
  },
  {
   "cell_type": "code",
   "execution_count": 5,
   "id": "dedfd995",
   "metadata": {},
   "outputs": [
    {
     "name": "stdout",
     "output_type": "stream",
     "text": [
      "'data.frame':\t891 obs. of  12 variables:\n",
      " $ PassengerId: int  1 2 3 4 5 6 7 8 9 10 ...\n",
      " $ Survived   : int  0 1 1 1 0 0 0 0 1 1 ...\n",
      " $ Pclass     : int  3 1 3 1 3 3 1 3 3 2 ...\n",
      " $ Name       : chr  \"Braund, Mr. Owen Harris\" \"Cumings, Mrs. John Bradley (Florence Briggs Thayer)\" \"Heikkinen, Miss. Laina\" \"Futrelle, Mrs. Jacques Heath (Lily May Peel)\" ...\n",
      " $ Sex        : chr  \"male\" \"female\" \"female\" \"female\" ...\n",
      " $ Age        : num  22 38 26 35 35 NA 54 2 27 14 ...\n",
      " $ SibSp      : int  1 1 0 1 0 0 0 3 0 1 ...\n",
      " $ Parch      : int  0 0 0 0 0 0 0 1 2 0 ...\n",
      " $ Ticket     : chr  \"A/5 21171\" \"PC 17599\" \"STON/O2. 3101282\" \"113803\" ...\n",
      " $ Fare       : num  7.25 71.28 7.92 53.1 8.05 ...\n",
      " $ Cabin      : chr  \"\" \"C85\" \"\" \"C123\" ...\n",
      " $ Embarked   : chr  \"S\" \"C\" \"S\" \"S\" ...\n"
     ]
    }
   ],
   "source": [
    "# Structure of the data frame\n",
    "str(titanic_train)"
   ]
  },
  {
   "cell_type": "markdown",
   "id": "0f3441a9",
   "metadata": {},
   "source": [
    "**Summary Statistics:** You can use **summary()** or describe() (from the psych package) to get summary statistics of each variable in the data frame."
   ]
  },
  {
   "cell_type": "code",
   "execution_count": 6,
   "id": "6386aaa8",
   "metadata": {},
   "outputs": [
    {
     "data": {
      "text/plain": [
       "  PassengerId       Survived          Pclass          Name          \n",
       " Min.   :  1.0   Min.   :0.0000   Min.   :1.000   Length:891        \n",
       " 1st Qu.:223.5   1st Qu.:0.0000   1st Qu.:2.000   Class :character  \n",
       " Median :446.0   Median :0.0000   Median :3.000   Mode  :character  \n",
       " Mean   :446.0   Mean   :0.3838   Mean   :2.309                     \n",
       " 3rd Qu.:668.5   3rd Qu.:1.0000   3rd Qu.:3.000                     \n",
       " Max.   :891.0   Max.   :1.0000   Max.   :3.000                     \n",
       "                                                                    \n",
       "     Sex                 Age            SibSp           Parch       \n",
       " Length:891         Min.   : 0.42   Min.   :0.000   Min.   :0.0000  \n",
       " Class :character   1st Qu.:20.12   1st Qu.:0.000   1st Qu.:0.0000  \n",
       " Mode  :character   Median :28.00   Median :0.000   Median :0.0000  \n",
       "                    Mean   :29.70   Mean   :0.523   Mean   :0.3816  \n",
       "                    3rd Qu.:38.00   3rd Qu.:1.000   3rd Qu.:0.0000  \n",
       "                    Max.   :80.00   Max.   :8.000   Max.   :6.0000  \n",
       "                    NA's   :177                                     \n",
       "    Ticket               Fare           Cabin             Embarked        \n",
       " Length:891         Min.   :  0.00   Length:891         Length:891        \n",
       " Class :character   1st Qu.:  7.91   Class :character   Class :character  \n",
       " Mode  :character   Median : 14.45   Mode  :character   Mode  :character  \n",
       "                    Mean   : 32.20                                        \n",
       "                    3rd Qu.: 31.00                                        \n",
       "                    Max.   :512.33                                        \n",
       "                                                                          "
      ]
     },
     "metadata": {},
     "output_type": "display_data"
    }
   ],
   "source": [
    "# Summary statistics\n",
    "summary(titanic_train)"
   ]
  },
  {
   "cell_type": "code",
   "execution_count": 7,
   "id": "d5e0d011",
   "metadata": {},
   "outputs": [
    {
     "name": "stderr",
     "output_type": "stream",
     "text": [
      "Installing package into ‘/home/ms/R/x86_64-pc-linux-gnu-library/4.1’\n",
      "(as ‘lib’ is unspecified)\n",
      "\n"
     ]
    }
   ],
   "source": [
    "install.packages(\"psych\")"
   ]
  },
  {
   "cell_type": "code",
   "execution_count": 8,
   "id": "ea0e88f9",
   "metadata": {},
   "outputs": [
    {
     "data": {
      "text/html": [
       "<table class=\"dataframe\">\n",
       "<caption>A psych: 12 × 13</caption>\n",
       "<thead>\n",
       "\t<tr><th></th><th scope=col>vars</th><th scope=col>n</th><th scope=col>mean</th><th scope=col>sd</th><th scope=col>median</th><th scope=col>trimmed</th><th scope=col>mad</th><th scope=col>min</th><th scope=col>max</th><th scope=col>range</th><th scope=col>skew</th><th scope=col>kurtosis</th><th scope=col>se</th></tr>\n",
       "\t<tr><th></th><th scope=col>&lt;int&gt;</th><th scope=col>&lt;dbl&gt;</th><th scope=col>&lt;dbl&gt;</th><th scope=col>&lt;dbl&gt;</th><th scope=col>&lt;dbl&gt;</th><th scope=col>&lt;dbl&gt;</th><th scope=col>&lt;dbl&gt;</th><th scope=col>&lt;dbl&gt;</th><th scope=col>&lt;dbl&gt;</th><th scope=col>&lt;dbl&gt;</th><th scope=col>&lt;dbl&gt;</th><th scope=col>&lt;dbl&gt;</th><th scope=col>&lt;dbl&gt;</th></tr>\n",
       "</thead>\n",
       "<tbody>\n",
       "\t<tr><th scope=row>PassengerId</th><td> 1</td><td>891</td><td>446.0000000</td><td>257.3538420</td><td>446.0000</td><td>446.0000000</td><td>330.61980</td><td>1.00</td><td>891.0000</td><td>890.0000</td><td> 0.000000e+00</td><td>-1.2040412</td><td>8.62167810</td></tr>\n",
       "\t<tr><th scope=row>Survived</th><td> 2</td><td>891</td><td>  0.3838384</td><td>  0.4865925</td><td>  0.0000</td><td>  0.3548387</td><td>  0.00000</td><td>0.00</td><td>  1.0000</td><td>  1.0000</td><td> 4.769135e-01</td><td>-1.7745414</td><td>0.01630146</td></tr>\n",
       "\t<tr><th scope=row>Pclass</th><td> 3</td><td>891</td><td>  2.3086420</td><td>  0.8360712</td><td>  3.0000</td><td>  2.3856942</td><td>  0.00000</td><td>1.00</td><td>  3.0000</td><td>  2.0000</td><td>-6.284264e-01</td><td>-1.2834293</td><td>0.02800944</td></tr>\n",
       "\t<tr><th scope=row>Name*</th><td> 4</td><td>891</td><td>446.0000000</td><td>257.3538420</td><td>446.0000</td><td>446.0000000</td><td>330.61980</td><td>1.00</td><td>891.0000</td><td>890.0000</td><td> 0.000000e+00</td><td>-1.2040412</td><td>8.62167810</td></tr>\n",
       "\t<tr><th scope=row>Sex*</th><td> 5</td><td>891</td><td>  1.6475870</td><td>  0.4779901</td><td>  2.0000</td><td>  1.6844320</td><td>  0.00000</td><td>1.00</td><td>  2.0000</td><td>  1.0000</td><td>-6.168385e-01</td><td>-1.6213262</td><td>0.01601327</td></tr>\n",
       "\t<tr><th scope=row>Age</th><td> 6</td><td>714</td><td> 29.6991176</td><td> 14.5264973</td><td> 28.0000</td><td> 29.2692308</td><td> 13.34340</td><td>0.42</td><td> 80.0000</td><td> 79.5800</td><td> 3.874744e-01</td><td> 0.1597671</td><td>0.54364050</td></tr>\n",
       "\t<tr><th scope=row>SibSp</th><td> 7</td><td>891</td><td>  0.5230079</td><td>  1.1027434</td><td>  0.0000</td><td>  0.2720898</td><td>  0.00000</td><td>0.00</td><td>  8.0000</td><td>  8.0000</td><td> 3.682919e+00</td><td>17.7269083</td><td>0.03694329</td></tr>\n",
       "\t<tr><th scope=row>Parch</th><td> 8</td><td>891</td><td>  0.3815937</td><td>  0.8060572</td><td>  0.0000</td><td>  0.1823282</td><td>  0.00000</td><td>0.00</td><td>  6.0000</td><td>  6.0000</td><td> 2.739868e+00</td><td> 9.6880847</td><td>0.02700393</td></tr>\n",
       "\t<tr><th scope=row>Ticket*</th><td> 9</td><td>891</td><td>339.5173962</td><td>200.8342670</td><td>338.0000</td><td>339.6465638</td><td>268.35060</td><td>1.00</td><td>681.0000</td><td>680.0000</td><td> 5.569478e-05</td><td>-1.2817773</td><td>6.72820110</td></tr>\n",
       "\t<tr><th scope=row>Fare</th><td>10</td><td>891</td><td> 32.2042080</td><td> 49.6934286</td><td> 14.4542</td><td> 21.3787156</td><td> 10.23617</td><td>0.00</td><td>512.3292</td><td>512.3292</td><td> 4.771210e+00</td><td>33.1230682</td><td>1.66479250</td></tr>\n",
       "\t<tr><th scope=row>Cabin*</th><td>11</td><td>891</td><td> 18.6296296</td><td> 38.1403349</td><td>  1.0000</td><td>  8.2903226</td><td>  0.00000</td><td>1.00</td><td>148.0000</td><td>147.0000</td><td> 2.092175e+00</td><td> 3.0664177</td><td>1.27774929</td></tr>\n",
       "\t<tr><th scope=row>Embarked*</th><td>12</td><td>891</td><td>  3.5297419</td><td>  0.8002541</td><td>  4.0000</td><td>  3.6647966</td><td>  0.00000</td><td>1.00</td><td>  4.0000</td><td>  3.0000</td><td>-1.266359e+00</td><td>-0.1554309</td><td>0.02680952</td></tr>\n",
       "</tbody>\n",
       "</table>\n"
      ],
      "text/latex": [
       "A psych: 12 × 13\n",
       "\\begin{tabular}{r|lllllllllllll}\n",
       "  & vars & n & mean & sd & median & trimmed & mad & min & max & range & skew & kurtosis & se\\\\\n",
       "  & <int> & <dbl> & <dbl> & <dbl> & <dbl> & <dbl> & <dbl> & <dbl> & <dbl> & <dbl> & <dbl> & <dbl> & <dbl>\\\\\n",
       "\\hline\n",
       "\tPassengerId &  1 & 891 & 446.0000000 & 257.3538420 & 446.0000 & 446.0000000 & 330.61980 & 1.00 & 891.0000 & 890.0000 &  0.000000e+00 & -1.2040412 & 8.62167810\\\\\n",
       "\tSurvived &  2 & 891 &   0.3838384 &   0.4865925 &   0.0000 &   0.3548387 &   0.00000 & 0.00 &   1.0000 &   1.0000 &  4.769135e-01 & -1.7745414 & 0.01630146\\\\\n",
       "\tPclass &  3 & 891 &   2.3086420 &   0.8360712 &   3.0000 &   2.3856942 &   0.00000 & 1.00 &   3.0000 &   2.0000 & -6.284264e-01 & -1.2834293 & 0.02800944\\\\\n",
       "\tName* &  4 & 891 & 446.0000000 & 257.3538420 & 446.0000 & 446.0000000 & 330.61980 & 1.00 & 891.0000 & 890.0000 &  0.000000e+00 & -1.2040412 & 8.62167810\\\\\n",
       "\tSex* &  5 & 891 &   1.6475870 &   0.4779901 &   2.0000 &   1.6844320 &   0.00000 & 1.00 &   2.0000 &   1.0000 & -6.168385e-01 & -1.6213262 & 0.01601327\\\\\n",
       "\tAge &  6 & 714 &  29.6991176 &  14.5264973 &  28.0000 &  29.2692308 &  13.34340 & 0.42 &  80.0000 &  79.5800 &  3.874744e-01 &  0.1597671 & 0.54364050\\\\\n",
       "\tSibSp &  7 & 891 &   0.5230079 &   1.1027434 &   0.0000 &   0.2720898 &   0.00000 & 0.00 &   8.0000 &   8.0000 &  3.682919e+00 & 17.7269083 & 0.03694329\\\\\n",
       "\tParch &  8 & 891 &   0.3815937 &   0.8060572 &   0.0000 &   0.1823282 &   0.00000 & 0.00 &   6.0000 &   6.0000 &  2.739868e+00 &  9.6880847 & 0.02700393\\\\\n",
       "\tTicket* &  9 & 891 & 339.5173962 & 200.8342670 & 338.0000 & 339.6465638 & 268.35060 & 1.00 & 681.0000 & 680.0000 &  5.569478e-05 & -1.2817773 & 6.72820110\\\\\n",
       "\tFare & 10 & 891 &  32.2042080 &  49.6934286 &  14.4542 &  21.3787156 &  10.23617 & 0.00 & 512.3292 & 512.3292 &  4.771210e+00 & 33.1230682 & 1.66479250\\\\\n",
       "\tCabin* & 11 & 891 &  18.6296296 &  38.1403349 &   1.0000 &   8.2903226 &   0.00000 & 1.00 & 148.0000 & 147.0000 &  2.092175e+00 &  3.0664177 & 1.27774929\\\\\n",
       "\tEmbarked* & 12 & 891 &   3.5297419 &   0.8002541 &   4.0000 &   3.6647966 &   0.00000 & 1.00 &   4.0000 &   3.0000 & -1.266359e+00 & -0.1554309 & 0.02680952\\\\\n",
       "\\end{tabular}\n"
      ],
      "text/markdown": [
       "\n",
       "A psych: 12 × 13\n",
       "\n",
       "| <!--/--> | vars &lt;int&gt; | n &lt;dbl&gt; | mean &lt;dbl&gt; | sd &lt;dbl&gt; | median &lt;dbl&gt; | trimmed &lt;dbl&gt; | mad &lt;dbl&gt; | min &lt;dbl&gt; | max &lt;dbl&gt; | range &lt;dbl&gt; | skew &lt;dbl&gt; | kurtosis &lt;dbl&gt; | se &lt;dbl&gt; |\n",
       "|---|---|---|---|---|---|---|---|---|---|---|---|---|---|\n",
       "| PassengerId |  1 | 891 | 446.0000000 | 257.3538420 | 446.0000 | 446.0000000 | 330.61980 | 1.00 | 891.0000 | 890.0000 |  0.000000e+00 | -1.2040412 | 8.62167810 |\n",
       "| Survived |  2 | 891 |   0.3838384 |   0.4865925 |   0.0000 |   0.3548387 |   0.00000 | 0.00 |   1.0000 |   1.0000 |  4.769135e-01 | -1.7745414 | 0.01630146 |\n",
       "| Pclass |  3 | 891 |   2.3086420 |   0.8360712 |   3.0000 |   2.3856942 |   0.00000 | 1.00 |   3.0000 |   2.0000 | -6.284264e-01 | -1.2834293 | 0.02800944 |\n",
       "| Name* |  4 | 891 | 446.0000000 | 257.3538420 | 446.0000 | 446.0000000 | 330.61980 | 1.00 | 891.0000 | 890.0000 |  0.000000e+00 | -1.2040412 | 8.62167810 |\n",
       "| Sex* |  5 | 891 |   1.6475870 |   0.4779901 |   2.0000 |   1.6844320 |   0.00000 | 1.00 |   2.0000 |   1.0000 | -6.168385e-01 | -1.6213262 | 0.01601327 |\n",
       "| Age |  6 | 714 |  29.6991176 |  14.5264973 |  28.0000 |  29.2692308 |  13.34340 | 0.42 |  80.0000 |  79.5800 |  3.874744e-01 |  0.1597671 | 0.54364050 |\n",
       "| SibSp |  7 | 891 |   0.5230079 |   1.1027434 |   0.0000 |   0.2720898 |   0.00000 | 0.00 |   8.0000 |   8.0000 |  3.682919e+00 | 17.7269083 | 0.03694329 |\n",
       "| Parch |  8 | 891 |   0.3815937 |   0.8060572 |   0.0000 |   0.1823282 |   0.00000 | 0.00 |   6.0000 |   6.0000 |  2.739868e+00 |  9.6880847 | 0.02700393 |\n",
       "| Ticket* |  9 | 891 | 339.5173962 | 200.8342670 | 338.0000 | 339.6465638 | 268.35060 | 1.00 | 681.0000 | 680.0000 |  5.569478e-05 | -1.2817773 | 6.72820110 |\n",
       "| Fare | 10 | 891 |  32.2042080 |  49.6934286 |  14.4542 |  21.3787156 |  10.23617 | 0.00 | 512.3292 | 512.3292 |  4.771210e+00 | 33.1230682 | 1.66479250 |\n",
       "| Cabin* | 11 | 891 |  18.6296296 |  38.1403349 |   1.0000 |   8.2903226 |   0.00000 | 1.00 | 148.0000 | 147.0000 |  2.092175e+00 |  3.0664177 | 1.27774929 |\n",
       "| Embarked* | 12 | 891 |   3.5297419 |   0.8002541 |   4.0000 |   3.6647966 |   0.00000 | 1.00 |   4.0000 |   3.0000 | -1.266359e+00 | -0.1554309 | 0.02680952 |\n",
       "\n"
      ],
      "text/plain": [
       "            vars n   mean        sd          median   trimmed     mad      \n",
       "PassengerId  1   891 446.0000000 257.3538420 446.0000 446.0000000 330.61980\n",
       "Survived     2   891   0.3838384   0.4865925   0.0000   0.3548387   0.00000\n",
       "Pclass       3   891   2.3086420   0.8360712   3.0000   2.3856942   0.00000\n",
       "Name*        4   891 446.0000000 257.3538420 446.0000 446.0000000 330.61980\n",
       "Sex*         5   891   1.6475870   0.4779901   2.0000   1.6844320   0.00000\n",
       "Age          6   714  29.6991176  14.5264973  28.0000  29.2692308  13.34340\n",
       "SibSp        7   891   0.5230079   1.1027434   0.0000   0.2720898   0.00000\n",
       "Parch        8   891   0.3815937   0.8060572   0.0000   0.1823282   0.00000\n",
       "Ticket*      9   891 339.5173962 200.8342670 338.0000 339.6465638 268.35060\n",
       "Fare        10   891  32.2042080  49.6934286  14.4542  21.3787156  10.23617\n",
       "Cabin*      11   891  18.6296296  38.1403349   1.0000   8.2903226   0.00000\n",
       "Embarked*   12   891   3.5297419   0.8002541   4.0000   3.6647966   0.00000\n",
       "            min  max      range    skew          kurtosis   se        \n",
       "PassengerId 1.00 891.0000 890.0000  0.000000e+00 -1.2040412 8.62167810\n",
       "Survived    0.00   1.0000   1.0000  4.769135e-01 -1.7745414 0.01630146\n",
       "Pclass      1.00   3.0000   2.0000 -6.284264e-01 -1.2834293 0.02800944\n",
       "Name*       1.00 891.0000 890.0000  0.000000e+00 -1.2040412 8.62167810\n",
       "Sex*        1.00   2.0000   1.0000 -6.168385e-01 -1.6213262 0.01601327\n",
       "Age         0.42  80.0000  79.5800  3.874744e-01  0.1597671 0.54364050\n",
       "SibSp       0.00   8.0000   8.0000  3.682919e+00 17.7269083 0.03694329\n",
       "Parch       0.00   6.0000   6.0000  2.739868e+00  9.6880847 0.02700393\n",
       "Ticket*     1.00 681.0000 680.0000  5.569478e-05 -1.2817773 6.72820110\n",
       "Fare        0.00 512.3292 512.3292  4.771210e+00 33.1230682 1.66479250\n",
       "Cabin*      1.00 148.0000 147.0000  2.092175e+00  3.0664177 1.27774929\n",
       "Embarked*   1.00   4.0000   3.0000 -1.266359e+00 -0.1554309 0.02680952"
      ]
     },
     "metadata": {},
     "output_type": "display_data"
    }
   ],
   "source": [
    "# Using the describe function from the psych package\n",
    "psych::describe(titanic_train)"
   ]
  },
  {
   "cell_type": "markdown",
   "id": "1726fa76",
   "metadata": {},
   "source": [
    "**Shape of the dataframe**"
   ]
  },
  {
   "cell_type": "code",
   "execution_count": 9,
   "id": "141b785b",
   "metadata": {},
   "outputs": [
    {
     "name": "stdout",
     "output_type": "stream",
     "text": [
      "Number of rows: 891 \n",
      "Number of columns: 12 \n"
     ]
    }
   ],
   "source": [
    "# Get the shape of the dataframe\n",
    "shape <- dim(titanic_train)\n",
    "\n",
    "# Print the number of rows and columns\n",
    "cat(\"Number of rows:\", shape[1], \"\\n\")\n",
    "cat(\"Number of columns:\", shape[2], \"\\n\")"
   ]
  },
  {
   "cell_type": "markdown",
   "id": "c0c71f56",
   "metadata": {},
   "source": [
    "**Do I Need All of The Variables?**: \"PassengerId\" is just a number assigned to each passenger. It is nothing more than an arbitrary identifier. We could keep it for identification purposes, but lets remove it anyway."
   ]
  },
  {
   "cell_type": "code",
   "execution_count": 10,
   "id": "cd6cf0ac",
   "metadata": {},
   "outputs": [],
   "source": [
    "titanic_train$PassengerId <- NULL # Remove PassengerID"
   ]
  },
  {
   "cell_type": "code",
   "execution_count": 11,
   "id": "49632a56",
   "metadata": {},
   "outputs": [
    {
     "name": "stdout",
     "output_type": "stream",
     "text": [
      "Number of rows: 891 \n",
      "Number of columns: 11 \n"
     ]
    }
   ],
   "source": [
    "# Get the shape of the dataframe\n",
    "shape <- dim(titanic_train)\n",
    "\n",
    "# Print the number of rows and columns\n",
    "cat(\"Number of rows:\", shape[1], \"\\n\")\n",
    "cat(\"Number of columns:\", shape[2], \"\\n\")"
   ]
  },
  {
   "cell_type": "code",
   "execution_count": 12,
   "id": "999374d0",
   "metadata": {},
   "outputs": [
    {
     "name": "stdout",
     "output_type": "stream",
     "text": [
      " [1] \"Abbing, Mr. Anthony\"                           \n",
      " [2] \"Abbott, Mr. Rossmore Edward\"                   \n",
      " [3] \"Abbott, Mrs. Stanton (Rosa Hunt)\"              \n",
      " [4] \"Abelson, Mr. Samuel\"                           \n",
      " [5] \"Abelson, Mrs. Samuel (Hannah Wizosky)\"         \n",
      " [6] \"Adahl, Mr. Mauritz Nils Martin\"                \n",
      " [7] \"Adams, Mr. John\"                               \n",
      " [8] \"Ahlin, Mrs. Johan (Johanna Persdotter Larsson)\"\n",
      " [9] \"Aks, Mrs. Sam (Leah Rosen)\"                    \n",
      "[10] \"Albimona, Mr. Nassef Cassem\"                   \n",
      "[11] \"Alexander, Mr. William\"                        \n",
      "[12] \"Alhomaki, Mr. Ilmari Rudolf\"                   \n",
      "[13] \"Ali, Mr. Ahmed\"                                \n",
      "[14] \"Ali, Mr. William\"                              \n",
      "[15] \"Allen, Miss. Elisabeth Walton\"                 \n"
     ]
    }
   ],
   "source": [
    "# sort() returns the names in sorted order\n",
    "print( head( sort(titanic_train$Name), 15))\n",
    "# sort() returns the names in sorted order"
   ]
  },
  {
   "cell_type": "code",
   "execution_count": 13,
   "id": "e677b41d",
   "metadata": {},
   "outputs": [
    {
     "name": "stdout",
     "output_type": "stream",
     "text": [
      " [1] \"A/5 21171\"        \"PC 17599\"         \"STON/O2. 3101282\" \"113803\"          \n",
      " [5] \"373450\"           \"330877\"           \"17463\"            \"349909\"          \n",
      " [9] \"347742\"           \"237736\"           \"PP 9549\"          \"113783\"          \n",
      "[13] \"A/5. 2151\"        \"347082\"           \"350406\"           \"248706\"          \n",
      "[17] \"382652\"           \"244373\"           \"345763\"           \"2649\"            \n",
      "[21] \"239865\"           \"248698\"           \"330923\"           \"113788\"          \n",
      "[25] \"349909\"          \n"
     ]
    }
   ],
   "source": [
    "print(head(titanic_train$Ticket, 25))"
   ]
  },
  {
   "cell_type": "code",
   "execution_count": 14,
   "id": "e3ab8f0a",
   "metadata": {},
   "outputs": [],
   "source": [
    "titanic_train$Ticket  <- NULL"
   ]
  },
  {
   "cell_type": "code",
   "execution_count": 15,
   "id": "4ada4504",
   "metadata": {},
   "outputs": [
    {
     "name": "stdout",
     "output_type": "stream",
     "text": [
      " [1] \"\"     \"C85\"  \"\"     \"C123\" \"\"     \"\"     \"E46\"  \"\"     \"\"     \"\"    \n",
      "[11] \"G6\"   \"C103\" \"\"     \"\"     \"\"     \"\"     \"\"     \"\"     \"\"     \"\"    \n",
      "[21] \"\"     \"D56\"  \"\"     \"A6\"   \"\"    \n"
     ]
    }
   ],
   "source": [
    "print(head(titanic_train$Cabin, 25))"
   ]
  },
  {
   "cell_type": "markdown",
   "id": "ffd679de",
   "metadata": {},
   "source": [
    "**Let's turn Name back into a character:**"
   ]
  },
  {
   "cell_type": "code",
   "execution_count": 16,
   "id": "3d2673c8",
   "metadata": {},
   "outputs": [],
   "source": [
    "titanic_train$Name <- as.character(titanic_train$Name)"
   ]
  },
  {
   "cell_type": "markdown",
   "id": "a363d6d4",
   "metadata": {},
   "source": [
    "**Now let's inspect the Survived variable using the table function:**"
   ]
  },
  {
   "cell_type": "code",
   "execution_count": 17,
   "id": "dd19a8fb",
   "metadata": {},
   "outputs": [
    {
     "data": {
      "text/plain": [
       "\n",
       "  0   1 \n",
       "549 342 "
      ]
     },
     "metadata": {},
     "output_type": "display_data"
    }
   ],
   "source": [
    "table( titanic_train$Survived )     # Create a table of counts"
   ]
  },
  {
   "cell_type": "markdown",
   "id": "1d42ab01",
   "metadata": {},
   "source": [
    "Survived variable is just an integer variable that takes on the value 0 or 1 depending on whether a passenger died or survived respectively. Variables that indicate a state or the presence or absence of something with the numbers 0 and 1 are sometimes called indicator variables or dummy variables (0 indicates absence and 1 indicates presence.). Indicator variables are essentially just a shorthand for encoding a categorical variable with 2 levels. We could instead encode Survived as a factor and give each level names that are more informative than 0 and 1."
   ]
  },
  {
   "cell_type": "code",
   "execution_count": 18,
   "id": "feac0a29",
   "metadata": {},
   "outputs": [
    {
     "data": {
      "text/plain": [
       "new_survived\n",
       "    Died Survived \n",
       "     549      342 "
      ]
     },
     "metadata": {},
     "output_type": "display_data"
    }
   ],
   "source": [
    "new_survived <- factor(titanic_train$Survived)\n",
    "levels(new_survived) <- c(\"Died\",\"Survived\")\n",
    "\n",
    "table(new_survived)"
   ]
  },
  {
   "cell_type": "markdown",
   "id": "c094c66d",
   "metadata": {},
   "source": [
    "Survived looks a little nicer as factor with appropriate level names, but even so, we're not going to change it. Why not? If you remember, our goal with this data set is predicting survival for the Kaggle competition. It turns out that when submitting predictions for the competition, the predictions need to be encoded as 0 or 1. It would only complicate things to transform Survived, only to convert it back to 0 and 1 later.\n",
    "\n",
    "There's one more variable that has a questionable data encoding: Pclass. Pclass is an integer that indicates a passenger's class, with 1 being first class, 2 being second class and 3 being third class. Passenger class is a category, so it doesn't make a lot of sense to encode it as a numeric variable. What's more 1st class would be considered \"above\" or \"higher\" than second class, but when encoded as an integer, 1 comes before 2. We can fix this by transforming Pclass into an ordered factor."
   ]
  },
  {
   "cell_type": "code",
   "execution_count": 19,
   "id": "6c9ea62f",
   "metadata": {},
   "outputs": [
    {
     "data": {
      "text/plain": [
       "\n",
       "  3   2   1 \n",
       "491 184 216 "
      ]
     },
     "metadata": {},
     "output_type": "display_data"
    }
   ],
   "source": [
    "titanic_train$Pclass <- ordered(titanic_train$Pclass, levels=c(\"3\",\"2\",\"1\"))\n",
    "\n",
    "table(titanic_train$Pclass)"
   ]
  },
  {
   "cell_type": "code",
   "execution_count": 21,
   "id": "07063e91",
   "metadata": {},
   "outputs": [
    {
     "data": {
      "text/plain": [
       "NULL"
      ]
     },
     "metadata": {},
     "output_type": "display_data"
    }
   ],
   "source": [
    "levels(titanic_train$Cabin)"
   ]
  },
  {
   "cell_type": "code",
   "execution_count": 22,
   "id": "5e9ad33f",
   "metadata": {},
   "outputs": [
    {
     "data": {
      "text/plain": [
       "new_Cabin\n",
       "      A   B   C   D   E   F   G   T \n",
       "687  15  47  59  33  32  13   4   1 "
      ]
     },
     "metadata": {},
     "output_type": "display_data"
    }
   ],
   "source": [
    "char_cabin <- as.character(titanic_train$Cabin) # Convert to character\n",
    "\n",
    "new_Cabin <- ifelse(char_cabin == \"\",          # If the value is \"\"\n",
    "                    \"\",                        # Keep it\n",
    "                    substr(char_cabin,1,1))    # Else transform it to a substring*\n",
    "\n",
    "new_Cabin <- factor(new_Cabin )                # Convert back to a factor\n",
    "\n",
    "table( new_Cabin )                             # Inspect the result as a table"
   ]
  },
  {
   "cell_type": "code",
   "execution_count": 23,
   "id": "cf672eee",
   "metadata": {},
   "outputs": [],
   "source": [
    "titanic_train$Cabin <- new_Cabin"
   ]
  },
  {
   "cell_type": "markdown",
   "id": "11ce7705",
   "metadata": {},
   "source": [
    "**Are there NA Values, Outliers or Other Strange Values?**"
   ]
  },
  {
   "cell_type": "code",
   "execution_count": 24,
   "id": "ec159396",
   "metadata": {},
   "outputs": [
    {
     "data": {
      "text/html": [
       "<style>\n",
       ".list-inline {list-style: none; margin:0; padding: 0}\n",
       ".list-inline>li {display: inline-block}\n",
       ".list-inline>li:not(:last-child)::after {content: \"\\00b7\"; padding: 0 .5ex}\n",
       "</style>\n",
       "<ol class=list-inline><li>FALSE</li><li>FALSE</li><li>FALSE</li><li>FALSE</li><li>TRUE</li><li>FALSE</li><li>FALSE</li><li>TRUE</li></ol>\n"
      ],
      "text/latex": [
       "\\begin{enumerate*}\n",
       "\\item FALSE\n",
       "\\item FALSE\n",
       "\\item FALSE\n",
       "\\item FALSE\n",
       "\\item TRUE\n",
       "\\item FALSE\n",
       "\\item FALSE\n",
       "\\item TRUE\n",
       "\\end{enumerate*}\n"
      ],
      "text/markdown": [
       "1. FALSE\n",
       "2. FALSE\n",
       "3. FALSE\n",
       "4. FALSE\n",
       "5. TRUE\n",
       "6. FALSE\n",
       "7. FALSE\n",
       "8. TRUE\n",
       "\n",
       "\n"
      ],
      "text/plain": [
       "[1] FALSE FALSE FALSE FALSE  TRUE FALSE FALSE  TRUE"
      ]
     },
     "metadata": {},
     "output_type": "display_data"
    }
   ],
   "source": [
    "dummy_vector <- c(1,1,2,3,NA,4,3,NA)\n",
    "\n",
    "# Check whether values are NA or not\n",
    "is.na(dummy_vector)"
   ]
  },
  {
   "cell_type": "code",
   "execution_count": 25,
   "id": "b188e6d8",
   "metadata": {},
   "outputs": [
    {
     "data": {
      "text/plain": [
       "   Min. 1st Qu.  Median    Mean 3rd Qu.    Max.    NA's \n",
       "   0.42   20.12   28.00   29.70   38.00   80.00     177 "
      ]
     },
     "metadata": {},
     "output_type": "display_data"
    }
   ],
   "source": [
    "summary( titanic_train$Age )"
   ]
  },
  {
   "cell_type": "code",
   "execution_count": 26,
   "id": "0c87eb0c",
   "metadata": {},
   "outputs": [
    {
     "data": {
      "image/png": "[encoded data removed]",
      "text/plain": [
       "Plot with title “Histogram of titanic_train$Age”"
      ]
     },
     "metadata": {
      "image/png": {
       "height": 240,
       "width": 240
      }
     },
     "output_type": "display_data"
    }
   ],
   "source": [
    "# This code sets the plot to desired display size for this notebook\n",
    "options(repr.plot.width=4, repr.plot.height=4)\n",
    "\n",
    "# Create a histogram of age with 20 bins\n",
    "hist( titanic_train$Age, breaks=20)"
   ]
  },
  {
   "cell_type": "code",
   "execution_count": 27,
   "id": "3b85fe92",
   "metadata": {},
   "outputs": [
    {
     "data": {
      "text/plain": [
       "   Min. 1st Qu.  Median    Mean 3rd Qu.    Max. \n",
       "   0.42   22.00   28.00   29.36   35.00   80.00 "
      ]
     },
     "metadata": {},
     "output_type": "display_data"
    }
   ],
   "source": [
    "na_logical <- is.na( titanic_train$Age )  # Create a logical variable to flag NA values\n",
    "\n",
    "new_age_variable <- ifelse(na_logical,          # If NA was found\n",
    "                           28,                  # Change the value to 28\n",
    "                           titanic_train$Age)   # Else keep the old value\n",
    "\n",
    "titanic_train$Age <- new_age_variable       # Update the age variable\n",
    "\n",
    "summary(titanic_train$Age)                  # Check the new variable"
   ]
  },
  {
   "cell_type": "code",
   "execution_count": 28,
   "id": "03647299",
   "metadata": {},
   "outputs": [
    {
     "data": {
      "image/png": "[encoded data removed]",
      "text/plain": [
       "Plot with title “Histogram of titanic_train$Age”"
      ]
     },
     "metadata": {
      "image/png": {
       "height": 240,
       "width": 240
      }
     },
     "output_type": "display_data"
    }
   ],
   "source": [
    "hist( titanic_train$Age, breaks=20)"
   ]
  },
  {
   "cell_type": "code",
   "execution_count": 29,
   "id": "097bf9d1",
   "metadata": {},
   "outputs": [
    {
     "data": {
      "image/png": "[encoded data removed]",
      "text/plain": [
       "plot without title"
      ]
     },
     "metadata": {
      "image/png": {
       "height": 240,
       "width": 240
      }
     },
     "output_type": "display_data"
    }
   ],
   "source": [
    "boxplot( titanic_train$Fare )"
   ]
  },
  {
   "cell_type": "code",
   "execution_count": 30,
   "id": "64e62f10",
   "metadata": {},
   "outputs": [
    {
     "data": {
      "text/html": [
       "259"
      ],
      "text/latex": [
       "259"
      ],
      "text/markdown": [
       "259"
      ],
      "text/plain": [
       "[1] 259"
      ]
     },
     "metadata": {},
     "output_type": "display_data"
    },
    {
     "data": {
      "text/html": [
       "<table class=\"dataframe\">\n",
       "<caption>A data.frame: 1 × 10</caption>\n",
       "<thead>\n",
       "\t<tr><th></th><th scope=col>Survived</th><th scope=col>Pclass</th><th scope=col>Name</th><th scope=col>Sex</th><th scope=col>Age</th><th scope=col>SibSp</th><th scope=col>Parch</th><th scope=col>Fare</th><th scope=col>Cabin</th><th scope=col>Embarked</th></tr>\n",
       "\t<tr><th></th><th scope=col>&lt;int&gt;</th><th scope=col>&lt;ord&gt;</th><th scope=col>&lt;chr&gt;</th><th scope=col>&lt;chr&gt;</th><th scope=col>&lt;dbl&gt;</th><th scope=col>&lt;int&gt;</th><th scope=col>&lt;int&gt;</th><th scope=col>&lt;dbl&gt;</th><th scope=col>&lt;fct&gt;</th><th scope=col>&lt;chr&gt;</th></tr>\n",
       "</thead>\n",
       "<tbody>\n",
       "\t<tr><th scope=row>259</th><td>1</td><td>1</td><td>Ward, Miss. Anna</td><td>female</td><td>35</td><td>0</td><td>0</td><td>512.3292</td><td></td><td>C</td></tr>\n",
       "</tbody>\n",
       "</table>\n"
      ],
      "text/latex": [
       "A data.frame: 1 × 10\n",
       "\\begin{tabular}{r|llllllllll}\n",
       "  & Survived & Pclass & Name & Sex & Age & SibSp & Parch & Fare & Cabin & Embarked\\\\\n",
       "  & <int> & <ord> & <chr> & <chr> & <dbl> & <int> & <int> & <dbl> & <fct> & <chr>\\\\\n",
       "\\hline\n",
       "\t259 & 1 & 1 & Ward, Miss. Anna & female & 35 & 0 & 0 & 512.3292 &  & C\\\\\n",
       "\\end{tabular}\n"
      ],
      "text/markdown": [
       "\n",
       "A data.frame: 1 × 10\n",
       "\n",
       "| <!--/--> | Survived &lt;int&gt; | Pclass &lt;ord&gt; | Name &lt;chr&gt; | Sex &lt;chr&gt; | Age &lt;dbl&gt; | SibSp &lt;int&gt; | Parch &lt;int&gt; | Fare &lt;dbl&gt; | Cabin &lt;fct&gt; | Embarked &lt;chr&gt; |\n",
       "|---|---|---|---|---|---|---|---|---|---|---|\n",
       "| 259 | 1 | 1 | Ward, Miss. Anna | female | 35 | 0 | 0 | 512.3292 | <!----> | C |\n",
       "\n"
      ],
      "text/plain": [
       "    Survived Pclass Name             Sex    Age SibSp Parch Fare     Cabin\n",
       "259 1        1      Ward, Miss. Anna female 35  0     0     512.3292      \n",
       "    Embarked\n",
       "259 C       "
      ]
     },
     "metadata": {},
     "output_type": "display_data"
    }
   ],
   "source": [
    "# Get the index of the max Fare\n",
    "high_roller_index <- which.max( titanic_train$Fare )  \n",
    "\n",
    "high_roller_index                   # Check the index\n",
    "\n",
    "titanic_train[high_roller_index,]   # Use the index to check the record"
   ]
  },
  {
   "cell_type": "markdown",
   "id": "01b76a46",
   "metadata": {},
   "source": [
    "**Should I Create New Variables?**"
   ]
  },
  {
   "cell_type": "code",
   "execution_count": 31,
   "id": "e6bd190a",
   "metadata": {},
   "outputs": [],
   "source": [
    "titanic_train$Family <- titanic_train$SibSp + titanic_train$Parch"
   ]
  },
  {
   "cell_type": "code",
   "execution_count": 32,
   "id": "8975d116",
   "metadata": {},
   "outputs": [
    {
     "data": {
      "text/html": [
       "<table class=\"dataframe\">\n",
       "<caption>A data.frame: 7 × 11</caption>\n",
       "<thead>\n",
       "\t<tr><th></th><th scope=col>Survived</th><th scope=col>Pclass</th><th scope=col>Name</th><th scope=col>Sex</th><th scope=col>Age</th><th scope=col>SibSp</th><th scope=col>Parch</th><th scope=col>Fare</th><th scope=col>Cabin</th><th scope=col>Embarked</th><th scope=col>Family</th></tr>\n",
       "\t<tr><th></th><th scope=col>&lt;int&gt;</th><th scope=col>&lt;ord&gt;</th><th scope=col>&lt;chr&gt;</th><th scope=col>&lt;chr&gt;</th><th scope=col>&lt;dbl&gt;</th><th scope=col>&lt;int&gt;</th><th scope=col>&lt;int&gt;</th><th scope=col>&lt;dbl&gt;</th><th scope=col>&lt;fct&gt;</th><th scope=col>&lt;chr&gt;</th><th scope=col>&lt;int&gt;</th></tr>\n",
       "</thead>\n",
       "<tbody>\n",
       "\t<tr><th scope=row>160</th><td>0</td><td>3</td><td>Sage, Master. Thomas Henry       </td><td>male  </td><td>28</td><td>8</td><td>2</td><td>69.55</td><td></td><td>S</td><td>10</td></tr>\n",
       "\t<tr><th scope=row>181</th><td>0</td><td>3</td><td>Sage, Miss. Constance Gladys     </td><td>female</td><td>28</td><td>8</td><td>2</td><td>69.55</td><td></td><td>S</td><td>10</td></tr>\n",
       "\t<tr><th scope=row>202</th><td>0</td><td>3</td><td>Sage, Mr. Frederick              </td><td>male  </td><td>28</td><td>8</td><td>2</td><td>69.55</td><td></td><td>S</td><td>10</td></tr>\n",
       "\t<tr><th scope=row>325</th><td>0</td><td>3</td><td>Sage, Mr. George John Jr         </td><td>male  </td><td>28</td><td>8</td><td>2</td><td>69.55</td><td></td><td>S</td><td>10</td></tr>\n",
       "\t<tr><th scope=row>793</th><td>0</td><td>3</td><td>Sage, Miss. Stella Anna          </td><td>female</td><td>28</td><td>8</td><td>2</td><td>69.55</td><td></td><td>S</td><td>10</td></tr>\n",
       "\t<tr><th scope=row>847</th><td>0</td><td>3</td><td>Sage, Mr. Douglas Bullen         </td><td>male  </td><td>28</td><td>8</td><td>2</td><td>69.55</td><td></td><td>S</td><td>10</td></tr>\n",
       "\t<tr><th scope=row>864</th><td>0</td><td>3</td><td>Sage, Miss. Dorothy Edith \"Dolly\"</td><td>female</td><td>28</td><td>8</td><td>2</td><td>69.55</td><td></td><td>S</td><td>10</td></tr>\n",
       "</tbody>\n",
       "</table>\n"
      ],
      "text/latex": [
       "A data.frame: 7 × 11\n",
       "\\begin{tabular}{r|lllllllllll}\n",
       "  & Survived & Pclass & Name & Sex & Age & SibSp & Parch & Fare & Cabin & Embarked & Family\\\\\n",
       "  & <int> & <ord> & <chr> & <chr> & <dbl> & <int> & <int> & <dbl> & <fct> & <chr> & <int>\\\\\n",
       "\\hline\n",
       "\t160 & 0 & 3 & Sage, Master. Thomas Henry        & male   & 28 & 8 & 2 & 69.55 &  & S & 10\\\\\n",
       "\t181 & 0 & 3 & Sage, Miss. Constance Gladys      & female & 28 & 8 & 2 & 69.55 &  & S & 10\\\\\n",
       "\t202 & 0 & 3 & Sage, Mr. Frederick               & male   & 28 & 8 & 2 & 69.55 &  & S & 10\\\\\n",
       "\t325 & 0 & 3 & Sage, Mr. George John Jr          & male   & 28 & 8 & 2 & 69.55 &  & S & 10\\\\\n",
       "\t793 & 0 & 3 & Sage, Miss. Stella Anna           & female & 28 & 8 & 2 & 69.55 &  & S & 10\\\\\n",
       "\t847 & 0 & 3 & Sage, Mr. Douglas Bullen          & male   & 28 & 8 & 2 & 69.55 &  & S & 10\\\\\n",
       "\t864 & 0 & 3 & Sage, Miss. Dorothy Edith \"Dolly\" & female & 28 & 8 & 2 & 69.55 &  & S & 10\\\\\n",
       "\\end{tabular}\n"
      ],
      "text/markdown": [
       "\n",
       "A data.frame: 7 × 11\n",
       "\n",
       "| <!--/--> | Survived &lt;int&gt; | Pclass &lt;ord&gt; | Name &lt;chr&gt; | Sex &lt;chr&gt; | Age &lt;dbl&gt; | SibSp &lt;int&gt; | Parch &lt;int&gt; | Fare &lt;dbl&gt; | Cabin &lt;fct&gt; | Embarked &lt;chr&gt; | Family &lt;int&gt; |\n",
       "|---|---|---|---|---|---|---|---|---|---|---|---|\n",
       "| 160 | 0 | 3 | Sage, Master. Thomas Henry        | male   | 28 | 8 | 2 | 69.55 | <!----> | S | 10 |\n",
       "| 181 | 0 | 3 | Sage, Miss. Constance Gladys      | female | 28 | 8 | 2 | 69.55 | <!----> | S | 10 |\n",
       "| 202 | 0 | 3 | Sage, Mr. Frederick               | male   | 28 | 8 | 2 | 69.55 | <!----> | S | 10 |\n",
       "| 325 | 0 | 3 | Sage, Mr. George John Jr          | male   | 28 | 8 | 2 | 69.55 | <!----> | S | 10 |\n",
       "| 793 | 0 | 3 | Sage, Miss. Stella Anna           | female | 28 | 8 | 2 | 69.55 | <!----> | S | 10 |\n",
       "| 847 | 0 | 3 | Sage, Mr. Douglas Bullen          | male   | 28 | 8 | 2 | 69.55 | <!----> | S | 10 |\n",
       "| 864 | 0 | 3 | Sage, Miss. Dorothy Edith \"Dolly\" | female | 28 | 8 | 2 | 69.55 | <!----> | S | 10 |\n",
       "\n"
      ],
      "text/plain": [
       "    Survived Pclass Name                              Sex    Age SibSp Parch\n",
       "160 0        3      Sage, Master. Thomas Henry        male   28  8     2    \n",
       "181 0        3      Sage, Miss. Constance Gladys      female 28  8     2    \n",
       "202 0        3      Sage, Mr. Frederick               male   28  8     2    \n",
       "325 0        3      Sage, Mr. George John Jr          male   28  8     2    \n",
       "793 0        3      Sage, Miss. Stella Anna           female 28  8     2    \n",
       "847 0        3      Sage, Mr. Douglas Bullen          male   28  8     2    \n",
       "864 0        3      Sage, Miss. Dorothy Edith \"Dolly\" female 28  8     2    \n",
       "    Fare  Cabin Embarked Family\n",
       "160 69.55       S        10    \n",
       "181 69.55       S        10    \n",
       "202 69.55       S        10    \n",
       "325 69.55       S        10    \n",
       "793 69.55       S        10    \n",
       "847 69.55       S        10    \n",
       "864 69.55       S        10    "
      ]
     },
     "metadata": {},
     "output_type": "display_data"
    }
   ],
   "source": [
    "most_family <- which( titanic_train$Family == max(titanic_train$Family))\n",
    "\n",
    "titanic_train[most_family,]"
   ]
  },
  {
   "cell_type": "code",
   "execution_count": null,
   "id": "20d52a05",
   "metadata": {},
   "outputs": [],
   "source": []
  },
  {
   "cell_type": "code",
   "execution_count": null,
   "id": "6345b758",
   "metadata": {},
   "outputs": [],
   "source": []
  }
 ],
 "metadata": {
  "kernelspec": {
   "display_name": "R",
   "language": "R",
   "name": "ir"
  },
  "language_info": {
   "codemirror_mode": "r",
   "file_extension": ".r",
   "mimetype": "text/x-r-source",
   "name": "R",
   "pygments_lexer": "r",
   "version": "4.1.2"
  }
 },
 "nbformat": 4,
 "nbformat_minor": 5
}
