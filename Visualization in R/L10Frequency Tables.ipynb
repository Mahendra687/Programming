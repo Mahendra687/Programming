{
 "cells": [
  {
   "cell_type": "markdown",
   "id": "ba72293e",
   "metadata": {},
   "source": [
    "<div align = \"center\">\n",
    "     <h4> Frequency Tables </h4>\n",
    "     </div>"
   ]
  },
  {
   "cell_type": "code",
   "execution_count": 1,
   "id": "553c36d6",
   "metadata": {},
   "outputs": [
    {
     "data": {
      "text/html": [
       "<table class=\"dataframe\">\n",
       "<caption>A data.frame: 6 × 12</caption>\n",
       "<thead>\n",
       "\t<tr><th></th><th scope=col>PassengerId</th><th scope=col>Survived</th><th scope=col>Pclass</th><th scope=col>Name</th><th scope=col>Sex</th><th scope=col>Age</th><th scope=col>SibSp</th><th scope=col>Parch</th><th scope=col>Ticket</th><th scope=col>Fare</th><th scope=col>Cabin</th><th scope=col>Embarked</th></tr>\n",
       "\t<tr><th></th><th scope=col>&lt;int&gt;</th><th scope=col>&lt;int&gt;</th><th scope=col>&lt;int&gt;</th><th scope=col>&lt;chr&gt;</th><th scope=col>&lt;chr&gt;</th><th scope=col>&lt;dbl&gt;</th><th scope=col>&lt;int&gt;</th><th scope=col>&lt;int&gt;</th><th scope=col>&lt;chr&gt;</th><th scope=col>&lt;dbl&gt;</th><th scope=col>&lt;fct&gt;</th><th scope=col>&lt;chr&gt;</th></tr>\n",
       "</thead>\n",
       "<tbody>\n",
       "\t<tr><th scope=row>1</th><td>1</td><td>0</td><td>3</td><td>Braund, Mr. Owen Harris                            </td><td>male  </td><td>22</td><td>1</td><td>0</td><td>A/5 21171       </td><td> 7.2500</td><td> </td><td>S</td></tr>\n",
       "\t<tr><th scope=row>2</th><td>2</td><td>1</td><td>1</td><td>Cumings, Mrs. John Bradley (Florence Briggs Thayer)</td><td>female</td><td>38</td><td>1</td><td>0</td><td>PC 17599        </td><td>71.2833</td><td>C</td><td>C</td></tr>\n",
       "\t<tr><th scope=row>3</th><td>3</td><td>1</td><td>3</td><td>Heikkinen, Miss. Laina                             </td><td>female</td><td>26</td><td>0</td><td>0</td><td>STON/O2. 3101282</td><td> 7.9250</td><td> </td><td>S</td></tr>\n",
       "\t<tr><th scope=row>4</th><td>4</td><td>1</td><td>1</td><td>Futrelle, Mrs. Jacques Heath (Lily May Peel)       </td><td>female</td><td>35</td><td>1</td><td>0</td><td>113803          </td><td>53.1000</td><td>C</td><td>S</td></tr>\n",
       "\t<tr><th scope=row>5</th><td>5</td><td>0</td><td>3</td><td>Allen, Mr. William Henry                           </td><td>male  </td><td>35</td><td>0</td><td>0</td><td>373450          </td><td> 8.0500</td><td> </td><td>S</td></tr>\n",
       "\t<tr><th scope=row>6</th><td>6</td><td>0</td><td>3</td><td>Moran, Mr. James                                   </td><td>male  </td><td>NA</td><td>0</td><td>0</td><td>330877          </td><td> 8.4583</td><td> </td><td>Q</td></tr>\n",
       "</tbody>\n",
       "</table>\n"
      ],
      "text/latex": [
       "A data.frame: 6 × 12\n",
       "\\begin{tabular}{r|llllllllllll}\n",
       "  & PassengerId & Survived & Pclass & Name & Sex & Age & SibSp & Parch & Ticket & Fare & Cabin & Embarked\\\\\n",
       "  & <int> & <int> & <int> & <chr> & <chr> & <dbl> & <int> & <int> & <chr> & <dbl> & <fct> & <chr>\\\\\n",
       "\\hline\n",
       "\t1 & 1 & 0 & 3 & Braund, Mr. Owen Harris                             & male   & 22 & 1 & 0 & A/5 21171        &  7.2500 &   & S\\\\\n",
       "\t2 & 2 & 1 & 1 & Cumings, Mrs. John Bradley (Florence Briggs Thayer) & female & 38 & 1 & 0 & PC 17599         & 71.2833 & C & C\\\\\n",
       "\t3 & 3 & 1 & 3 & Heikkinen, Miss. Laina                              & female & 26 & 0 & 0 & STON/O2. 3101282 &  7.9250 &   & S\\\\\n",
       "\t4 & 4 & 1 & 1 & Futrelle, Mrs. Jacques Heath (Lily May Peel)        & female & 35 & 1 & 0 & 113803           & 53.1000 & C & S\\\\\n",
       "\t5 & 5 & 0 & 3 & Allen, Mr. William Henry                            & male   & 35 & 0 & 0 & 373450           &  8.0500 &   & S\\\\\n",
       "\t6 & 6 & 0 & 3 & Moran, Mr. James                                    & male   & NA & 0 & 0 & 330877           &  8.4583 &   & Q\\\\\n",
       "\\end{tabular}\n"
      ],
      "text/markdown": [
       "\n",
       "A data.frame: 6 × 12\n",
       "\n",
       "| <!--/--> | PassengerId &lt;int&gt; | Survived &lt;int&gt; | Pclass &lt;int&gt; | Name &lt;chr&gt; | Sex &lt;chr&gt; | Age &lt;dbl&gt; | SibSp &lt;int&gt; | Parch &lt;int&gt; | Ticket &lt;chr&gt; | Fare &lt;dbl&gt; | Cabin &lt;fct&gt; | Embarked &lt;chr&gt; |\n",
       "|---|---|---|---|---|---|---|---|---|---|---|---|---|\n",
       "| 1 | 1 | 0 | 3 | Braund, Mr. Owen Harris                             | male   | 22 | 1 | 0 | A/5 21171        |  7.2500 | <!----> | S |\n",
       "| 2 | 2 | 1 | 1 | Cumings, Mrs. John Bradley (Florence Briggs Thayer) | female | 38 | 1 | 0 | PC 17599         | 71.2833 | C | C |\n",
       "| 3 | 3 | 1 | 3 | Heikkinen, Miss. Laina                              | female | 26 | 0 | 0 | STON/O2. 3101282 |  7.9250 | <!----> | S |\n",
       "| 4 | 4 | 1 | 1 | Futrelle, Mrs. Jacques Heath (Lily May Peel)        | female | 35 | 1 | 0 | 113803           | 53.1000 | C | S |\n",
       "| 5 | 5 | 0 | 3 | Allen, Mr. William Henry                            | male   | 35 | 0 | 0 | 373450           |  8.0500 | <!----> | S |\n",
       "| 6 | 6 | 0 | 3 | Moran, Mr. James                                    | male   | NA | 0 | 0 | 330877           |  8.4583 | <!----> | Q |\n",
       "\n"
      ],
      "text/plain": [
       "  PassengerId Survived Pclass\n",
       "1 1           0        3     \n",
       "2 2           1        1     \n",
       "3 3           1        3     \n",
       "4 4           1        1     \n",
       "5 5           0        3     \n",
       "6 6           0        3     \n",
       "  Name                                                Sex    Age SibSp Parch\n",
       "1 Braund, Mr. Owen Harris                             male   22  1     0    \n",
       "2 Cumings, Mrs. John Bradley (Florence Briggs Thayer) female 38  1     0    \n",
       "3 Heikkinen, Miss. Laina                              female 26  0     0    \n",
       "4 Futrelle, Mrs. Jacques Heath (Lily May Peel)        female 35  1     0    \n",
       "5 Allen, Mr. William Henry                            male   35  0     0    \n",
       "6 Moran, Mr. James                                    male   NA  0     0    \n",
       "  Ticket           Fare    Cabin Embarked\n",
       "1 A/5 21171         7.2500       S       \n",
       "2 PC 17599         71.2833 C     C       \n",
       "3 STON/O2. 3101282  7.9250       S       \n",
       "4 113803           53.1000 C     S       \n",
       "5 373450            8.0500       S       \n",
       "6 330877            8.4583       Q       "
      ]
     },
     "metadata": {},
     "output_type": "display_data"
    }
   ],
   "source": [
    "# Load the data\n",
    "titanic_train <- read.csv(\"train.csv\")\n",
    "\n",
    "# Preprocessing steps:\n",
    "char_cabin <- as.character(titanic_train$Cabin)  # Convert cabin to character\n",
    "\n",
    "# Convert cabin to a substring of the first character or \"\" if empty\n",
    "new_Cabin <- ifelse(char_cabin == \"\", \"\", substr(char_cabin, 1, 1))\n",
    "\n",
    "# Convert new cabin variable back to a factor\n",
    "titanic_train$Cabin <- factor(new_Cabin)\n",
    "\n",
    "# Check the first few rows of the dataset\n",
    "head(titanic_train)\n"
   ]
  },
  {
   "cell_type": "markdown",
   "id": "1b6cca5e",
   "metadata": {},
   "source": [
    "**One-Way Tables**"
   ]
  },
  {
   "cell_type": "code",
   "execution_count": 2,
   "id": "ac94efab",
   "metadata": {},
   "outputs": [
    {
     "data": {
      "text/plain": [
       "\n",
       "  0   1 \n",
       "549 342 "
      ]
     },
     "metadata": {},
     "output_type": "display_data"
    },
    {
     "data": {
      "text/plain": [
       "\n",
       "  1   2   3 \n",
       "216 184 491 "
      ]
     },
     "metadata": {},
     "output_type": "display_data"
    },
    {
     "data": {
      "text/plain": [
       "\n",
       "female   male \n",
       "   314    577 "
      ]
     },
     "metadata": {},
     "output_type": "display_data"
    },
    {
     "data": {
      "text/plain": [
       "\n",
       "      A   B   C   D   E   F   G   T \n",
       "687  15  47  59  33  32  13   4   1 "
      ]
     },
     "metadata": {},
     "output_type": "display_data"
    }
   ],
   "source": [
    "table(titanic_train$Survived)            # One-way table of survival\n",
    "table(titanic_train$Pclass)              # One-way table of passenger class\n",
    "table(titanic_train$Sex)                 # One-way table of sex\n",
    "table(titanic_train$Cabin)               # One-way table of cabin letter"
   ]
  },
  {
   "cell_type": "code",
   "execution_count": 3,
   "id": "337808e5",
   "metadata": {},
   "outputs": [
    {
     "data": {
      "text/html": [
       "891"
      ],
      "text/latex": [
       "891"
      ],
      "text/markdown": [
       "891"
      ],
      "text/plain": [
       "[1] 891"
      ]
     },
     "metadata": {},
     "output_type": "display_data"
    },
    {
     "data": {
      "text/html": [
       "9"
      ],
      "text/latex": [
       "9"
      ],
      "text/markdown": [
       "9"
      ],
      "text/plain": [
       "[1] 9"
      ]
     },
     "metadata": {},
     "output_type": "display_data"
    },
    {
     "data": {
      "text/html": [
       "<strong>A:</strong> 15"
      ],
      "text/latex": [
       "\\textbf{A:} 15"
      ],
      "text/markdown": [
       "**A:** 15"
      ],
      "text/plain": [
       " A \n",
       "15 "
      ]
     },
     "metadata": {},
     "output_type": "display_data"
    },
    {
     "data": {
      "text/plain": [
       "\n",
       " B  C  D  E  F  G \n",
       "47 59 33 32 13  4 "
      ]
     },
     "metadata": {},
     "output_type": "display_data"
    }
   ],
   "source": [
    "cabin_table <- table(titanic_train$Cabin)   # Store a table\n",
    "\n",
    "sum(cabin_table)             # Get the sum of counts (total number of records)\n",
    "\n",
    "length(cabin_table)          # Get the length of the table (number of levels)\n",
    "\n",
    "cabin_table[2]               # Get the second item\n",
    "\n",
    "cabin_table[3:8]             # Get items 3-8"
   ]
  },
  {
   "cell_type": "code",
   "execution_count": 4,
   "id": "8099cf80",
   "metadata": {},
   "outputs": [
    {
     "data": {
      "text/plain": [
       "\n",
       "0.42 0.67 0.75 0.83 0.92    1    2    3    4    5    6    7    8    9   10   11 \n",
       "   1    1    2    2    1    7   10    6   10    4    3    3    4    8    2    4 \n",
       "  12   13   14 14.5   15   16   17   18   19   20 20.5   21   22   23 23.5   24 \n",
       "   1    2    6    1    5   17   13   26   25   15    1   24   27   15    1   30 \n",
       "24.5   25   26   27   28 28.5   29   30 30.5   31   32 32.5   33   34 34.5   35 \n",
       "   1   23   18   18   25    2   20   25    2   17   18    2   15   15    1   18 \n",
       "  36 36.5   37   38   39   40 40.5   41   42   43   44   45 45.5   46   47   48 \n",
       "  22    1    6   11   14   13    2    6   13    5    9   12    2    3    9    9 \n",
       "  49   50   51   52   53   54   55 55.5   56   57   58   59   60   61   62   63 \n",
       "   6   10    7    6    1    8    2    1    4    2    5    2    4    3    4    2 \n",
       "  64   65   66   70 70.5   71   74   80 <NA> \n",
       "   2    3    1    2    1    2    1    1  177 "
      ]
     },
     "metadata": {},
     "output_type": "display_data"
    }
   ],
   "source": [
    "age_table <- table(titanic_train$Age, exclude=NULL)   # Create table of ages\n",
    "\n",
    "age_table                  # Check the age table and confirm it includes NA"
   ]
  },
  {
   "cell_type": "code",
   "execution_count": 5,
   "id": "46bf0be3",
   "metadata": {},
   "outputs": [
    {
     "data": {
      "text/plain": [
       "\n",
       " A  B  C  D  E  F  G  T \n",
       "15 47 59 33 32 13  4  1 "
      ]
     },
     "metadata": {},
     "output_type": "display_data"
    }
   ],
   "source": [
    "# Exclude cabins listed as the empty string\n",
    "table(titanic_train$Cabin, exclude=c(\"\"))"
   ]
  },
  {
   "cell_type": "code",
   "execution_count": 6,
   "id": "c43454d8",
   "metadata": {},
   "outputs": [
    {
     "data": {
      "text/plain": [
       "\n",
       "  female     male \n",
       "0.352413 0.647587 "
      ]
     },
     "metadata": {},
     "output_type": "display_data"
    }
   ],
   "source": [
    "gender_table <- table(titanic_train$Sex) # Create a table of genders\n",
    "\n",
    "gender_table / sum(gender_table)         # Divide by the total counts"
   ]
  },
  {
   "cell_type": "code",
   "execution_count": 7,
   "id": "1f3907de",
   "metadata": {},
   "outputs": [
    {
     "data": {
      "text/plain": [
       "\n",
       "  female     male \n",
       "0.352413 0.647587 "
      ]
     },
     "metadata": {},
     "output_type": "display_data"
    }
   ],
   "source": [
    "prop.table(gender_table)"
   ]
  },
  {
   "cell_type": "markdown",
   "id": "fdd56f29",
   "metadata": {},
   "source": [
    "**Two-Way Tables**"
   ]
  },
  {
   "cell_type": "code",
   "execution_count": 8,
   "id": "92902082",
   "metadata": {},
   "outputs": [
    {
     "data": {
      "text/plain": [
       "          \n",
       "           female male\n",
       "  died         81  468\n",
       "  survived    233  109"
      ]
     },
     "metadata": {},
     "output_type": "display_data"
    }
   ],
   "source": [
    "# Table of survival vs. sex\n",
    "survived_sex <- table(titanic_train$Survived, titanic_train$Sex)\n",
    "\n",
    "rownames(survived_sex) <- c(\"died\",\"survived\")   # Rename rows\n",
    "\n",
    "survived_sex"
   ]
  },
  {
   "cell_type": "code",
   "execution_count": 9,
   "id": "4a484249",
   "metadata": {},
   "outputs": [
    {
     "data": {
      "text/html": [
       "<style>\n",
       ".dl-inline {width: auto; margin:0; padding: 0}\n",
       ".dl-inline>dt, .dl-inline>dd {float: none; width: auto; display: inline-block}\n",
       ".dl-inline>dt::after {content: \":\\0020\"; padding-right: .5ex}\n",
       ".dl-inline>dt:not(:first-of-type) {padding-left: .5ex}\n",
       "</style><dl class=dl-inline><dt>died</dt><dd>549</dd><dt>survived</dt><dd>342</dd></dl>\n"
      ],
      "text/latex": [
       "\\begin{description*}\n",
       "\\item[died] 549\n",
       "\\item[survived] 342\n",
       "\\end{description*}\n"
      ],
      "text/markdown": [
       "died\n",
       ":   549survived\n",
       ":   342\n",
       "\n"
      ],
      "text/plain": [
       "    died survived \n",
       "     549      342 "
      ]
     },
     "metadata": {},
     "output_type": "display_data"
    }
   ],
   "source": [
    "rowSums(survived_sex)     # Get row totals"
   ]
  },
  {
   "cell_type": "code",
   "execution_count": 10,
   "id": "c5ad0af3",
   "metadata": {},
   "outputs": [
    {
     "data": {
      "text/html": [
       "<style>\n",
       ".dl-inline {width: auto; margin:0; padding: 0}\n",
       ".dl-inline>dt, .dl-inline>dd {float: none; width: auto; display: inline-block}\n",
       ".dl-inline>dt::after {content: \":\\0020\"; padding-right: .5ex}\n",
       ".dl-inline>dt:not(:first-of-type) {padding-left: .5ex}\n",
       "</style><dl class=dl-inline><dt>female</dt><dd>314</dd><dt>male</dt><dd>577</dd></dl>\n"
      ],
      "text/latex": [
       "\\begin{description*}\n",
       "\\item[female] 314\n",
       "\\item[male] 577\n",
       "\\end{description*}\n"
      ],
      "text/markdown": [
       "female\n",
       ":   314male\n",
       ":   577\n",
       "\n"
      ],
      "text/plain": [
       "female   male \n",
       "   314    577 "
      ]
     },
     "metadata": {},
     "output_type": "display_data"
    }
   ],
   "source": [
    "colSums(survived_sex)     # Get column totals"
   ]
  },
  {
   "cell_type": "code",
   "execution_count": 11,
   "id": "558f3429",
   "metadata": {},
   "outputs": [
    {
     "data": {
      "text/html": [
       "233"
      ],
      "text/latex": [
       "233"
      ],
      "text/markdown": [
       "233"
      ],
      "text/plain": [
       "[1] 233"
      ]
     },
     "metadata": {},
     "output_type": "display_data"
    }
   ],
   "source": [
    "survived_sex[2,1]        # Get the value in row 2, column 1"
   ]
  },
  {
   "cell_type": "code",
   "execution_count": 12,
   "id": "327b9d83",
   "metadata": {},
   "outputs": [
    {
     "data": {
      "text/plain": [
       "          \n",
       "               female       male\n",
       "  died     0.09090909 0.52525253\n",
       "  survived 0.26150393 0.12233446"
      ]
     },
     "metadata": {},
     "output_type": "display_data"
    }
   ],
   "source": [
    "prop.table(survived_sex)"
   ]
  },
  {
   "cell_type": "code",
   "execution_count": 13,
   "id": "c826f550",
   "metadata": {},
   "outputs": [
    {
     "data": {
      "text/plain": [
       "          \n",
       "              female      male\n",
       "  died     0.1475410 0.8524590\n",
       "  survived 0.6812865 0.3187135"
      ]
     },
     "metadata": {},
     "output_type": "display_data"
    }
   ],
   "source": [
    "# Set margin = 1 to get proportions across rows\n",
    "prop.table(survived_sex, margin=1)"
   ]
  },
  {
   "cell_type": "code",
   "execution_count": 14,
   "id": "2d7afa75",
   "metadata": {},
   "outputs": [
    {
     "data": {
      "text/plain": [
       "          \n",
       "              female      male\n",
       "  died     0.2579618 0.8110919\n",
       "  survived 0.7420382 0.1889081"
      ]
     },
     "metadata": {},
     "output_type": "display_data"
    }
   ],
   "source": [
    "# Set margin = 2 to get proportions across columns\n",
    "prop.table(survived_sex, margin=2)"
   ]
  },
  {
   "cell_type": "markdown",
   "id": "b05f6bef",
   "metadata": {},
   "source": [
    "**Higher Dimensional Tables**"
   ]
  },
  {
   "cell_type": "code",
   "execution_count": 15,
   "id": "d450dd27",
   "metadata": {},
   "outputs": [
    {
     "data": {
      "text/html": [
       "<dl>\n",
       "\t<dt>[[1]]</dt>\n",
       "\t\t<dd><style>\n",
       ".list-inline {list-style: none; margin:0; padding: 0}\n",
       ".list-inline>li {display: inline-block}\n",
       ".list-inline>li:not(:last-child)::after {content: \"\\00b7\"; padding: 0 .5ex}\n",
       "</style>\n",
       "<ol class=list-inline><li>'0'</li><li>'1'</li></ol>\n",
       "</dd>\n",
       "\t<dt>[[2]]</dt>\n",
       "\t\t<dd><style>\n",
       ".list-inline {list-style: none; margin:0; padding: 0}\n",
       ".list-inline>li {display: inline-block}\n",
       ".list-inline>li:not(:last-child)::after {content: \"\\00b7\"; padding: 0 .5ex}\n",
       "</style>\n",
       "<ol class=list-inline><li>'female'</li><li>'male'</li></ol>\n",
       "</dd>\n",
       "\t<dt>[[3]]</dt>\n",
       "\t\t<dd><style>\n",
       ".list-inline {list-style: none; margin:0; padding: 0}\n",
       ".list-inline>li {display: inline-block}\n",
       ".list-inline>li:not(:last-child)::after {content: \"\\00b7\"; padding: 0 .5ex}\n",
       "</style>\n",
       "<ol class=list-inline><li>'1'</li><li>'2'</li><li>'3'</li></ol>\n",
       "</dd>\n",
       "</dl>\n"
      ],
      "text/latex": [
       "\\begin{description}\n",
       "\\item[{[[1]]}] \\begin{enumerate*}\n",
       "\\item '0'\n",
       "\\item '1'\n",
       "\\end{enumerate*}\n",
       "\n",
       "\\item[{[[2]]}] \\begin{enumerate*}\n",
       "\\item 'female'\n",
       "\\item 'male'\n",
       "\\end{enumerate*}\n",
       "\n",
       "\\item[{[[3]]}] \\begin{enumerate*}\n",
       "\\item '1'\n",
       "\\item '2'\n",
       "\\item '3'\n",
       "\\end{enumerate*}\n",
       "\n",
       "\\end{description}\n"
      ],
      "text/markdown": [
       "[[1]]\n",
       ":   1. '0'\n",
       "2. '1'\n",
       "\n",
       "\n",
       "\n",
       "[[2]]\n",
       ":   1. 'female'\n",
       "2. 'male'\n",
       "\n",
       "\n",
       "\n",
       "[[3]]\n",
       ":   1. '1'\n",
       "2. '2'\n",
       "3. '3'\n",
       "\n",
       "\n",
       "\n",
       "\n",
       "\n"
      ],
      "text/plain": [
       "[[1]]\n",
       "[1] \"0\" \"1\"\n",
       "\n",
       "[[2]]\n",
       "[1] \"female\" \"male\"  \n",
       "\n",
       "[[3]]\n",
       "[1] \"1\" \"2\" \"3\"\n"
      ]
     },
     "metadata": {},
     "output_type": "display_data"
    }
   ],
   "source": [
    "surv_sex_class <- table(titanic_train$Survived, \n",
    "                        titanic_train$Sex, \n",
    "                        titanic_train$Pclass)\n",
    "\n",
    "dimnames(surv_sex_class)      # Check the names of each dimension"
   ]
  },
  {
   "cell_type": "code",
   "execution_count": 16,
   "id": "676ccc17",
   "metadata": {},
   "outputs": [
    {
     "data": {
      "text/plain": [
       ", ,  = class1\n",
       "\n",
       "          \n",
       "           female male\n",
       "  died          3   77\n",
       "  survived     91   45\n",
       "\n",
       ", ,  = class2\n",
       "\n",
       "          \n",
       "           female male\n",
       "  died          6   91\n",
       "  survived     70   17\n",
       "\n",
       ", ,  = class3\n",
       "\n",
       "          \n",
       "           female male\n",
       "  died         72  300\n",
       "  survived     72   47\n"
      ]
     },
     "metadata": {},
     "output_type": "display_data"
    }
   ],
   "source": [
    "dimnames(surv_sex_class)[[1]] <- c(\"died\", \"survived\")           # Rename dimension 1\n",
    "dimnames(surv_sex_class)[[3]] <- c(\"class1\", \"class2\",\"class3\")  # Rename dimension 3\n",
    "\n",
    "surv_sex_class                          # Check the 3-way table"
   ]
  },
  {
   "cell_type": "code",
   "execution_count": 17,
   "id": "fefa76ea",
   "metadata": {},
   "outputs": [
    {
     "data": {
      "text/plain": [
       ", ,  = class1\n",
       "\n",
       "          \n",
       "               female       male\n",
       "  died     0.03191489 0.63114754\n",
       "  survived 0.96808511 0.36885246\n",
       "\n",
       ", ,  = class2\n",
       "\n",
       "          \n",
       "               female       male\n",
       "  died     0.07894737 0.84259259\n",
       "  survived 0.92105263 0.15740741\n",
       "\n",
       ", ,  = class3\n",
       "\n",
       "          \n",
       "               female       male\n",
       "  died     0.50000000 0.86455331\n",
       "  survived 0.50000000 0.13544669\n"
      ]
     },
     "metadata": {},
     "output_type": "display_data"
    }
   ],
   "source": [
    "prop.table(surv_sex_class, margin= c(2,3) )"
   ]
  },
  {
   "cell_type": "code",
   "execution_count": 19,
   "id": "5be0a1c0",
   "metadata": {},
   "outputs": [
    {
     "data": {
      "text/plain": [
       "\n",
       "      C   Q   S \n",
       "  2 168  77 644 "
      ]
     },
     "metadata": {},
     "output_type": "display_data"
    }
   ],
   "source": [
    "# Exercise 1 Load the Titanic Disaster data set and then create a one way table of the \"Embarked\" column.\n",
    "titanic_train <- read.csv(\"train.csv\")\n",
    "table(titanic_train$Embarked)"
   ]
  },
  {
   "cell_type": "code",
   "execution_count": 20,
   "id": "79ef0ce8",
   "metadata": {},
   "outputs": [
    {
     "data": {
      "text/plain": [
       "   \n",
       "          C   Q   S\n",
       "  0   0  75  47 427\n",
       "  1   2  93  30 217"
      ]
     },
     "metadata": {},
     "output_type": "display_data"
    }
   ],
   "source": [
    "#Exercise2 Create a two-way contingency table of the Survived column and the Embarked column\n",
    "\n",
    "table(titanic_train$Survived,\n",
    "      titanic_train$Embarked)"
   ]
  },
  {
   "cell_type": "code",
   "execution_count": 21,
   "id": "586085cf",
   "metadata": {},
   "outputs": [
    {
     "data": {
      "text/plain": [
       "   \n",
       "                      C         Q         S\n",
       "  0 0.0000000 0.4464286 0.6103896 0.6630435\n",
       "  1 1.0000000 0.5535714 0.3896104 0.3369565"
      ]
     },
     "metadata": {},
     "output_type": "display_data"
    }
   ],
   "source": [
    "\n",
    "# Exercise3 Use the table from exercise two and the prop.table() function to check the proportion of survival across each level of the Embarked column.\n",
    "prop.table( table(titanic_train$Survived,\n",
    "            titanic_train$Embarked),\n",
    "            margin = 2)"
   ]
  },
  {
   "cell_type": "code",
   "execution_count": null,
   "id": "5c1557be",
   "metadata": {},
   "outputs": [],
   "source": []
  }
 ],
 "metadata": {
  "kernelspec": {
   "display_name": "R",
   "language": "R",
   "name": "ir"
  },
  "language_info": {
   "codemirror_mode": "r",
   "file_extension": ".r",
   "mimetype": "text/x-r-source",
   "name": "R",
   "pygments_lexer": "r",
   "version": "4.1.2"
  }
 },
 "nbformat": 4,
 "nbformat_minor": 5
}
