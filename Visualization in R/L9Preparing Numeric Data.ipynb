{
 "cells": [
  {
   "cell_type": "markdown",
   "id": "e8c948cd",
   "metadata": {},
   "source": [
    "<div align = \"center\">\n",
    "    <h4>Preparing Numeric Data</h4>\n",
    "</div> "
   ]
  },
  {
   "cell_type": "code",
   "execution_count": 1,
   "id": "87bb3cf4",
   "metadata": {},
   "outputs": [
    {
     "data": {
      "text/html": [
       "<table class=\"dataframe\">\n",
       "<caption>A data.frame: 6 × 11</caption>\n",
       "<thead>\n",
       "\t<tr><th></th><th scope=col>mpg</th><th scope=col>cyl</th><th scope=col>disp</th><th scope=col>hp</th><th scope=col>drat</th><th scope=col>wt</th><th scope=col>qsec</th><th scope=col>vs</th><th scope=col>am</th><th scope=col>gear</th><th scope=col>carb</th></tr>\n",
       "\t<tr><th></th><th scope=col>&lt;dbl&gt;</th><th scope=col>&lt;dbl&gt;</th><th scope=col>&lt;dbl&gt;</th><th scope=col>&lt;dbl&gt;</th><th scope=col>&lt;dbl&gt;</th><th scope=col>&lt;dbl&gt;</th><th scope=col>&lt;dbl&gt;</th><th scope=col>&lt;dbl&gt;</th><th scope=col>&lt;dbl&gt;</th><th scope=col>&lt;dbl&gt;</th><th scope=col>&lt;dbl&gt;</th></tr>\n",
       "</thead>\n",
       "<tbody>\n",
       "\t<tr><th scope=row>Mazda RX4</th><td>21.0</td><td>6</td><td>160</td><td>110</td><td>3.90</td><td>2.620</td><td>16.46</td><td>0</td><td>1</td><td>4</td><td>4</td></tr>\n",
       "\t<tr><th scope=row>Mazda RX4 Wag</th><td>21.0</td><td>6</td><td>160</td><td>110</td><td>3.90</td><td>2.875</td><td>17.02</td><td>0</td><td>1</td><td>4</td><td>4</td></tr>\n",
       "\t<tr><th scope=row>Datsun 710</th><td>22.8</td><td>4</td><td>108</td><td> 93</td><td>3.85</td><td>2.320</td><td>18.61</td><td>1</td><td>1</td><td>4</td><td>1</td></tr>\n",
       "\t<tr><th scope=row>Hornet 4 Drive</th><td>21.4</td><td>6</td><td>258</td><td>110</td><td>3.08</td><td>3.215</td><td>19.44</td><td>1</td><td>0</td><td>3</td><td>1</td></tr>\n",
       "\t<tr><th scope=row>Hornet Sportabout</th><td>18.7</td><td>8</td><td>360</td><td>175</td><td>3.15</td><td>3.440</td><td>17.02</td><td>0</td><td>0</td><td>3</td><td>2</td></tr>\n",
       "\t<tr><th scope=row>Valiant</th><td>18.1</td><td>6</td><td>225</td><td>105</td><td>2.76</td><td>3.460</td><td>20.22</td><td>1</td><td>0</td><td>3</td><td>1</td></tr>\n",
       "</tbody>\n",
       "</table>\n"
      ],
      "text/latex": [
       "A data.frame: 6 × 11\n",
       "\\begin{tabular}{r|lllllllllll}\n",
       "  & mpg & cyl & disp & hp & drat & wt & qsec & vs & am & gear & carb\\\\\n",
       "  & <dbl> & <dbl> & <dbl> & <dbl> & <dbl> & <dbl> & <dbl> & <dbl> & <dbl> & <dbl> & <dbl>\\\\\n",
       "\\hline\n",
       "\tMazda RX4 & 21.0 & 6 & 160 & 110 & 3.90 & 2.620 & 16.46 & 0 & 1 & 4 & 4\\\\\n",
       "\tMazda RX4 Wag & 21.0 & 6 & 160 & 110 & 3.90 & 2.875 & 17.02 & 0 & 1 & 4 & 4\\\\\n",
       "\tDatsun 710 & 22.8 & 4 & 108 &  93 & 3.85 & 2.320 & 18.61 & 1 & 1 & 4 & 1\\\\\n",
       "\tHornet 4 Drive & 21.4 & 6 & 258 & 110 & 3.08 & 3.215 & 19.44 & 1 & 0 & 3 & 1\\\\\n",
       "\tHornet Sportabout & 18.7 & 8 & 360 & 175 & 3.15 & 3.440 & 17.02 & 0 & 0 & 3 & 2\\\\\n",
       "\tValiant & 18.1 & 6 & 225 & 105 & 2.76 & 3.460 & 20.22 & 1 & 0 & 3 & 1\\\\\n",
       "\\end{tabular}\n"
      ],
      "text/markdown": [
       "\n",
       "A data.frame: 6 × 11\n",
       "\n",
       "| <!--/--> | mpg &lt;dbl&gt; | cyl &lt;dbl&gt; | disp &lt;dbl&gt; | hp &lt;dbl&gt; | drat &lt;dbl&gt; | wt &lt;dbl&gt; | qsec &lt;dbl&gt; | vs &lt;dbl&gt; | am &lt;dbl&gt; | gear &lt;dbl&gt; | carb &lt;dbl&gt; |\n",
       "|---|---|---|---|---|---|---|---|---|---|---|---|\n",
       "| Mazda RX4 | 21.0 | 6 | 160 | 110 | 3.90 | 2.620 | 16.46 | 0 | 1 | 4 | 4 |\n",
       "| Mazda RX4 Wag | 21.0 | 6 | 160 | 110 | 3.90 | 2.875 | 17.02 | 0 | 1 | 4 | 4 |\n",
       "| Datsun 710 | 22.8 | 4 | 108 |  93 | 3.85 | 2.320 | 18.61 | 1 | 1 | 4 | 1 |\n",
       "| Hornet 4 Drive | 21.4 | 6 | 258 | 110 | 3.08 | 3.215 | 19.44 | 1 | 0 | 3 | 1 |\n",
       "| Hornet Sportabout | 18.7 | 8 | 360 | 175 | 3.15 | 3.440 | 17.02 | 0 | 0 | 3 | 2 |\n",
       "| Valiant | 18.1 | 6 | 225 | 105 | 2.76 | 3.460 | 20.22 | 1 | 0 | 3 | 1 |\n",
       "\n"
      ],
      "text/plain": [
       "                  mpg  cyl disp hp  drat wt    qsec  vs am gear carb\n",
       "Mazda RX4         21.0 6   160  110 3.90 2.620 16.46 0  1  4    4   \n",
       "Mazda RX4 Wag     21.0 6   160  110 3.90 2.875 17.02 0  1  4    4   \n",
       "Datsun 710        22.8 4   108   93 3.85 2.320 18.61 1  1  4    1   \n",
       "Hornet 4 Drive    21.4 6   258  110 3.08 3.215 19.44 1  0  3    1   \n",
       "Hornet Sportabout 18.7 8   360  175 3.15 3.440 17.02 0  0  3    2   \n",
       "Valiant           18.1 6   225  105 2.76 3.460 20.22 1  0  3    1   "
      ]
     },
     "metadata": {},
     "output_type": "display_data"
    },
    {
     "name": "stdout",
     "output_type": "stream",
     "text": [
      "       mpg        cyl       disp         hp       drat         wt       qsec \n",
      " 20.090625   6.187500 230.721875 146.687500   3.596563   3.217250  17.848750 \n",
      "        vs         am       gear       carb \n",
      "  0.437500   0.406250   3.687500   2.812500 \n"
     ]
    }
   ],
   "source": [
    "cars <- mtcars\n",
    "\n",
    "head(cars)\n",
    "\n",
    "column_means <- colMeans(cars)         \n",
    "\n",
    "print(column_means)"
   ]
  },
  {
   "cell_type": "code",
   "execution_count": 2,
   "id": "df509481",
   "metadata": {},
   "outputs": [
    {
     "data": {
      "text/html": [
       "<table class=\"dataframe\">\n",
       "<caption>A data.frame: 6 × 11</caption>\n",
       "<thead>\n",
       "\t<tr><th></th><th scope=col>mpg</th><th scope=col>cyl</th><th scope=col>disp</th><th scope=col>hp</th><th scope=col>drat</th><th scope=col>wt</th><th scope=col>qsec</th><th scope=col>vs</th><th scope=col>am</th><th scope=col>gear</th><th scope=col>carb</th></tr>\n",
       "\t<tr><th></th><th scope=col>&lt;dbl&gt;</th><th scope=col>&lt;dbl&gt;</th><th scope=col>&lt;dbl&gt;</th><th scope=col>&lt;dbl&gt;</th><th scope=col>&lt;dbl&gt;</th><th scope=col>&lt;dbl&gt;</th><th scope=col>&lt;dbl&gt;</th><th scope=col>&lt;dbl&gt;</th><th scope=col>&lt;dbl&gt;</th><th scope=col>&lt;dbl&gt;</th><th scope=col>&lt;dbl&gt;</th></tr>\n",
       "</thead>\n",
       "<tbody>\n",
       "\t<tr><th scope=row>Mazda RX4</th><td> 0.909375</td><td>-0.1875</td><td> -70.721875</td><td>-36.6875</td><td> 0.3034375</td><td>-0.59725</td><td>-1.38875</td><td>-0.4375</td><td> 0.59375</td><td> 0.3125</td><td> 1.1875</td></tr>\n",
       "\t<tr><th scope=row>Mazda RX4 Wag</th><td> 0.909375</td><td>-0.1875</td><td> -70.721875</td><td>-36.6875</td><td> 0.3034375</td><td>-0.34225</td><td>-0.82875</td><td>-0.4375</td><td> 0.59375</td><td> 0.3125</td><td> 1.1875</td></tr>\n",
       "\t<tr><th scope=row>Datsun 710</th><td> 2.709375</td><td>-2.1875</td><td>-122.721875</td><td>-53.6875</td><td> 0.2534375</td><td>-0.89725</td><td> 0.76125</td><td> 0.5625</td><td> 0.59375</td><td> 0.3125</td><td>-1.8125</td></tr>\n",
       "\t<tr><th scope=row>Hornet 4 Drive</th><td> 1.309375</td><td>-0.1875</td><td>  27.278125</td><td>-36.6875</td><td>-0.5165625</td><td>-0.00225</td><td> 1.59125</td><td> 0.5625</td><td>-0.40625</td><td>-0.6875</td><td>-1.8125</td></tr>\n",
       "\t<tr><th scope=row>Hornet Sportabout</th><td>-1.390625</td><td> 1.8125</td><td> 129.278125</td><td> 28.3125</td><td>-0.4465625</td><td> 0.22275</td><td>-0.82875</td><td>-0.4375</td><td>-0.40625</td><td>-0.6875</td><td>-0.8125</td></tr>\n",
       "\t<tr><th scope=row>Valiant</th><td>-1.990625</td><td>-0.1875</td><td>  -5.721875</td><td>-41.6875</td><td>-0.8365625</td><td> 0.24275</td><td> 2.37125</td><td> 0.5625</td><td>-0.40625</td><td>-0.6875</td><td>-1.8125</td></tr>\n",
       "</tbody>\n",
       "</table>\n"
      ],
      "text/latex": [
       "A data.frame: 6 × 11\n",
       "\\begin{tabular}{r|lllllllllll}\n",
       "  & mpg & cyl & disp & hp & drat & wt & qsec & vs & am & gear & carb\\\\\n",
       "  & <dbl> & <dbl> & <dbl> & <dbl> & <dbl> & <dbl> & <dbl> & <dbl> & <dbl> & <dbl> & <dbl>\\\\\n",
       "\\hline\n",
       "\tMazda RX4 &  0.909375 & -0.1875 &  -70.721875 & -36.6875 &  0.3034375 & -0.59725 & -1.38875 & -0.4375 &  0.59375 &  0.3125 &  1.1875\\\\\n",
       "\tMazda RX4 Wag &  0.909375 & -0.1875 &  -70.721875 & -36.6875 &  0.3034375 & -0.34225 & -0.82875 & -0.4375 &  0.59375 &  0.3125 &  1.1875\\\\\n",
       "\tDatsun 710 &  2.709375 & -2.1875 & -122.721875 & -53.6875 &  0.2534375 & -0.89725 &  0.76125 &  0.5625 &  0.59375 &  0.3125 & -1.8125\\\\\n",
       "\tHornet 4 Drive &  1.309375 & -0.1875 &   27.278125 & -36.6875 & -0.5165625 & -0.00225 &  1.59125 &  0.5625 & -0.40625 & -0.6875 & -1.8125\\\\\n",
       "\tHornet Sportabout & -1.390625 &  1.8125 &  129.278125 &  28.3125 & -0.4465625 &  0.22275 & -0.82875 & -0.4375 & -0.40625 & -0.6875 & -0.8125\\\\\n",
       "\tValiant & -1.990625 & -0.1875 &   -5.721875 & -41.6875 & -0.8365625 &  0.24275 &  2.37125 &  0.5625 & -0.40625 & -0.6875 & -1.8125\\\\\n",
       "\\end{tabular}\n"
      ],
      "text/markdown": [
       "\n",
       "A data.frame: 6 × 11\n",
       "\n",
       "| <!--/--> | mpg &lt;dbl&gt; | cyl &lt;dbl&gt; | disp &lt;dbl&gt; | hp &lt;dbl&gt; | drat &lt;dbl&gt; | wt &lt;dbl&gt; | qsec &lt;dbl&gt; | vs &lt;dbl&gt; | am &lt;dbl&gt; | gear &lt;dbl&gt; | carb &lt;dbl&gt; |\n",
       "|---|---|---|---|---|---|---|---|---|---|---|---|\n",
       "| Mazda RX4 |  0.909375 | -0.1875 |  -70.721875 | -36.6875 |  0.3034375 | -0.59725 | -1.38875 | -0.4375 |  0.59375 |  0.3125 |  1.1875 |\n",
       "| Mazda RX4 Wag |  0.909375 | -0.1875 |  -70.721875 | -36.6875 |  0.3034375 | -0.34225 | -0.82875 | -0.4375 |  0.59375 |  0.3125 |  1.1875 |\n",
       "| Datsun 710 |  2.709375 | -2.1875 | -122.721875 | -53.6875 |  0.2534375 | -0.89725 |  0.76125 |  0.5625 |  0.59375 |  0.3125 | -1.8125 |\n",
       "| Hornet 4 Drive |  1.309375 | -0.1875 |   27.278125 | -36.6875 | -0.5165625 | -0.00225 |  1.59125 |  0.5625 | -0.40625 | -0.6875 | -1.8125 |\n",
       "| Hornet Sportabout | -1.390625 |  1.8125 |  129.278125 |  28.3125 | -0.4465625 |  0.22275 | -0.82875 | -0.4375 | -0.40625 | -0.6875 | -0.8125 |\n",
       "| Valiant | -1.990625 | -0.1875 |   -5.721875 | -41.6875 | -0.8365625 |  0.24275 |  2.37125 |  0.5625 | -0.40625 | -0.6875 | -1.8125 |\n",
       "\n"
      ],
      "text/plain": [
       "                  mpg       cyl     disp        hp       drat       wt      \n",
       "Mazda RX4          0.909375 -0.1875  -70.721875 -36.6875  0.3034375 -0.59725\n",
       "Mazda RX4 Wag      0.909375 -0.1875  -70.721875 -36.6875  0.3034375 -0.34225\n",
       "Datsun 710         2.709375 -2.1875 -122.721875 -53.6875  0.2534375 -0.89725\n",
       "Hornet 4 Drive     1.309375 -0.1875   27.278125 -36.6875 -0.5165625 -0.00225\n",
       "Hornet Sportabout -1.390625  1.8125  129.278125  28.3125 -0.4465625  0.22275\n",
       "Valiant           -1.990625 -0.1875   -5.721875 -41.6875 -0.8365625  0.24275\n",
       "                  qsec     vs      am       gear    carb   \n",
       "Mazda RX4         -1.38875 -0.4375  0.59375  0.3125  1.1875\n",
       "Mazda RX4 Wag     -0.82875 -0.4375  0.59375  0.3125  1.1875\n",
       "Datsun 710         0.76125  0.5625  0.59375  0.3125 -1.8125\n",
       "Hornet 4 Drive     1.59125  0.5625 -0.40625 -0.6875 -1.8125\n",
       "Hornet Sportabout -0.82875 -0.4375 -0.40625 -0.6875 -0.8125\n",
       "Valiant            2.37125  0.5625 -0.40625 -0.6875 -1.8125"
      ]
     },
     "metadata": {},
     "output_type": "display_data"
    },
    {
     "name": "stdout",
     "output_type": "stream",
     "text": [
      "          mpg           cyl          disp            hp          drat \n",
      " 4.440892e-16  0.000000e+00 -1.199041e-14  0.000000e+00 -1.526557e-16 \n",
      "           wt          qsec            vs            am          gear \n",
      " 3.469447e-17  9.436896e-16  0.000000e+00  0.000000e+00  0.000000e+00 \n",
      "         carb \n",
      " 0.000000e+00 \n"
     ]
    }
   ],
   "source": [
    "# Repeat the column means along the rows of a matrix\n",
    "center_matrix <- matrix( rep(column_means, nrow(cars)),   \n",
    "                          nrow=nrow(cars),\n",
    "                          ncol=ncol(cars),\n",
    "                          byrow = TRUE)       # Construct row by row\n",
    "\n",
    "centered <- cars - center_matrix     # Subtract column means\n",
    "\n",
    "head( centered )             # Check the new data set\n",
    "\n",
    "print(colMeans(centered))    # Check the new column means to confirm they are 0"
   ]
  },
  {
   "cell_type": "code",
   "execution_count": 3,
   "id": "b4cf28ca",
   "metadata": {},
   "outputs": [
    {
     "name": "stdout",
     "output_type": "stream",
     "text": [
      "          mpg           cyl          disp            hp          drat \n",
      " 4.440892e-16  0.000000e+00 -1.199041e-14  0.000000e+00 -1.526557e-16 \n",
      "           wt          qsec            vs            am          gear \n",
      " 3.469447e-17  9.436896e-16  0.000000e+00  0.000000e+00  0.000000e+00 \n",
      "         carb \n",
      " 0.000000e+00 \n"
     ]
    }
   ],
   "source": [
    "centered <- data.frame(t(t(cars) - column_means))\n",
    "print(colMeans(centered))"
   ]
  },
  {
   "cell_type": "code",
   "execution_count": 4,
   "id": "61a9703f",
   "metadata": {},
   "outputs": [
    {
     "data": {
      "text/html": [
       "6.0269480520891"
      ],
      "text/latex": [
       "6.0269480520891"
      ],
      "text/markdown": [
       "6.0269480520891"
      ],
      "text/plain": [
       "[1] 6.026948"
      ]
     },
     "metadata": {},
     "output_type": "display_data"
    }
   ],
   "source": [
    "# Get the standard deviation of the mpg column\n",
    "sd(centered$mpg)"
   ]
  },
  {
   "cell_type": "code",
   "execution_count": 5,
   "id": "f253d0fd",
   "metadata": {},
   "outputs": [
    {
     "name": "stdout",
     "output_type": "stream",
     "text": [
      "        mpg         cyl        disp          hp        drat          wt \n",
      "  6.0269481   1.7859216 123.9386938  68.5628685   0.5346787   0.9784574 \n",
      "       qsec          vs          am        gear        carb \n",
      "  1.7869432   0.5040161   0.4989909   0.7378041   1.6152000 \n"
     ]
    }
   ],
   "source": [
    "column_sds <- apply(centered,    # A matrix or data frame\n",
    "                    MARGIN = 2,  # Operate on rows(1) or columns(2)\n",
    "                    FUN = sd)    # Function to apply\n",
    "\n",
    "print(column_sds)                   # Check standard deviations"
   ]
  },
  {
   "cell_type": "code",
   "execution_count": 6,
   "id": "7f89c9e3",
   "metadata": {},
   "outputs": [
    {
     "data": {
      "text/plain": [
       "      mpg               cyl              disp               hp         \n",
       " Min.   :-1.6079   Min.   :-1.225   Min.   :-1.2879   Min.   :-1.3810  \n",
       " 1st Qu.:-0.7741   1st Qu.:-1.225   1st Qu.:-0.8867   1st Qu.:-0.7320  \n",
       " Median :-0.1478   Median :-0.105   Median :-0.2777   Median :-0.3455  \n",
       " Mean   : 0.0000   Mean   : 0.000   Mean   : 0.0000   Mean   : 0.0000  \n",
       " 3rd Qu.: 0.4495   3rd Qu.: 1.015   3rd Qu.: 0.7688   3rd Qu.: 0.4859  \n",
       " Max.   : 2.2913   Max.   : 1.015   Max.   : 1.9468   Max.   : 2.7466  \n",
       "      drat               wt               qsec                vs        \n",
       " Min.   :-1.5646   Min.   :-1.7418   Min.   :-1.87401   Min.   :-0.868  \n",
       " 1st Qu.:-0.9661   1st Qu.:-0.6500   1st Qu.:-0.53513   1st Qu.:-0.868  \n",
       " Median : 0.1841   Median : 0.1101   Median :-0.07765   Median :-0.868  \n",
       " Mean   : 0.0000   Mean   : 0.0000   Mean   : 0.00000   Mean   : 0.000  \n",
       " 3rd Qu.: 0.6049   3rd Qu.: 0.4014   3rd Qu.: 0.58830   3rd Qu.: 1.116  \n",
       " Max.   : 2.4939   Max.   : 2.2553   Max.   : 2.82675   Max.   : 1.116  \n",
       "       am               gear              carb        \n",
       " Min.   :-0.8141   Min.   :-0.9318   Min.   :-1.1222  \n",
       " 1st Qu.:-0.8141   1st Qu.:-0.9318   1st Qu.:-0.5030  \n",
       " Median :-0.8141   Median : 0.4236   Median :-0.5030  \n",
       " Mean   : 0.0000   Mean   : 0.0000   Mean   : 0.0000  \n",
       " 3rd Qu.: 1.1899   3rd Qu.: 0.4236   3rd Qu.: 0.7352  \n",
       " Max.   : 1.1899   Max.   : 1.7789   Max.   : 3.2117  "
      ]
     },
     "metadata": {},
     "output_type": "display_data"
    }
   ],
   "source": [
    "centered_scaled <- data.frame(t(t(centered) / column_sds))\n",
    "summary(centered_scaled)"
   ]
  },
  {
   "cell_type": "code",
   "execution_count": 7,
   "id": "a2146e00",
   "metadata": {},
   "outputs": [
    {
     "data": {
      "text/plain": [
       "      mpg               cyl              disp               hp         \n",
       " Min.   :-1.6079   Min.   :-1.225   Min.   :-1.2879   Min.   :-1.3810  \n",
       " 1st Qu.:-0.7741   1st Qu.:-1.225   1st Qu.:-0.8867   1st Qu.:-0.7320  \n",
       " Median :-0.1478   Median :-0.105   Median :-0.2777   Median :-0.3455  \n",
       " Mean   : 0.0000   Mean   : 0.000   Mean   : 0.0000   Mean   : 0.0000  \n",
       " 3rd Qu.: 0.4495   3rd Qu.: 1.015   3rd Qu.: 0.7688   3rd Qu.: 0.4859  \n",
       " Max.   : 2.2913   Max.   : 1.015   Max.   : 1.9468   Max.   : 2.7466  \n",
       "      drat               wt               qsec                vs        \n",
       " Min.   :-1.5646   Min.   :-1.7418   Min.   :-1.87401   Min.   :-0.868  \n",
       " 1st Qu.:-0.9661   1st Qu.:-0.6500   1st Qu.:-0.53513   1st Qu.:-0.868  \n",
       " Median : 0.1841   Median : 0.1101   Median :-0.07765   Median :-0.868  \n",
       " Mean   : 0.0000   Mean   : 0.0000   Mean   : 0.00000   Mean   : 0.000  \n",
       " 3rd Qu.: 0.6049   3rd Qu.: 0.4014   3rd Qu.: 0.58830   3rd Qu.: 1.116  \n",
       " Max.   : 2.4939   Max.   : 2.2553   Max.   : 2.82675   Max.   : 1.116  \n",
       "       am               gear              carb        \n",
       " Min.   :-0.8141   Min.   :-0.9318   Min.   :-1.1222  \n",
       " 1st Qu.:-0.8141   1st Qu.:-0.9318   1st Qu.:-0.5030  \n",
       " Median :-0.8141   Median : 0.4236   Median :-0.5030  \n",
       " Mean   : 0.0000   Mean   : 0.0000   Mean   : 0.0000  \n",
       " 3rd Qu.: 1.1899   3rd Qu.: 0.4236   3rd Qu.: 0.7352  \n",
       " Max.   : 1.1899   Max.   : 1.7789   Max.   : 3.2117  "
      ]
     },
     "metadata": {},
     "output_type": "display_data"
    }
   ],
   "source": [
    "auto_scaled <- scale(cars,          # Numeric data object\n",
    "                    center=TRUE,    # Center the data?\n",
    "                    scale=TRUE)     # Scale the data?\n",
    "\n",
    "summary(auto_scaled)        # Check the auto scaled data"
   ]
  },
  {
   "cell_type": "markdown",
   "id": "92932416",
   "metadata": {},
   "source": [
    "**Dealing With Skewed Data**"
   ]
  },
  {
   "cell_type": "code",
   "execution_count": 8,
   "id": "16ca9111",
   "metadata": {},
   "outputs": [
    {
     "data": {
      "image/png": "[encoded data removed]",
      "text/plain": [
       "Plot with title “Histogram of normally_distributed”"
      ]
     },
     "metadata": {
      "image/png": {
       "height": 240,
       "width": 240
      }
     },
     "output_type": "display_data"
    },
    {
     "data": {
      "image/png": "[encoded data removed]",
      "text/plain": [
       "Plot with title “Histogram of skewed_right”"
      ]
     },
     "metadata": {
      "image/png": {
       "height": 240,
       "width": 240
      }
     },
     "output_type": "display_data"
    }
   ],
   "source": [
    "options(repr.plot.width=4, repr.plot.height=4)\n",
    "\n",
    "# Generate normally distributed data\n",
    "normally_distributed <- rnorm(10000)    \n",
    "\n",
    "# Create a histogram of the distribution\n",
    "hist(normally_distributed, breaks=30)\n",
    "\n",
    " # Generate skewed data\n",
    "skewed_right <- rexp(10000, 0.5)       \n",
    "\n",
    " # Create a histogram of the distribution\n",
    "hist(skewed_right, breaks=50)"
   ]
  },
  {
   "cell_type": "code",
   "execution_count": 9,
   "id": "86b4ac28",
   "metadata": {},
   "outputs": [
    {
     "data": {
      "image/png": "[encoded data removed]",
      "text/plain": [
       "Plot with title “Histogram of sqrt_transformed”"
      ]
     },
     "metadata": {
      "image/png": {
       "height": 240,
       "width": 240
      }
     },
     "output_type": "display_data"
    },
    {
     "data": {
      "image/png": "[encoded data removed]",
      "text/plain": [
       "Plot with title “Histogram of log_transformed”"
      ]
     },
     "metadata": {
      "image/png": {
       "height": 240,
       "width": 240
      }
     },
     "output_type": "display_data"
    }
   ],
   "source": [
    "sqrt_transformed <- sqrt(skewed_right)\n",
    "\n",
    "hist(sqrt_transformed, breaks=50)\n",
    "\n",
    "log_transformed <- log(skewed_right+1)\n",
    "\n",
    "hist(log_transformed, breaks=50)"
   ]
  },
  {
   "cell_type": "markdown",
   "id": "abdde748",
   "metadata": {},
   "source": [
    "**Highly Correlated Variables**"
   ]
  },
  {
   "cell_type": "code",
   "execution_count": 10,
   "id": "043def35",
   "metadata": {},
   "outputs": [
    {
     "data": {
      "text/html": [
       "<table class=\"dataframe\">\n",
       "<caption>A matrix: 6 × 6 of type dbl</caption>\n",
       "<thead>\n",
       "\t<tr><th></th><th scope=col>mpg</th><th scope=col>cyl</th><th scope=col>disp</th><th scope=col>hp</th><th scope=col>drat</th><th scope=col>wt</th></tr>\n",
       "</thead>\n",
       "<tbody>\n",
       "\t<tr><th scope=row>mpg</th><td> 1.0000000</td><td>-0.8521620</td><td>-0.8475514</td><td>-0.7761684</td><td> 0.6811719</td><td>-0.8676594</td></tr>\n",
       "\t<tr><th scope=row>cyl</th><td>-0.8521620</td><td> 1.0000000</td><td> 0.9020329</td><td> 0.8324475</td><td>-0.6999381</td><td> 0.7824958</td></tr>\n",
       "\t<tr><th scope=row>disp</th><td>-0.8475514</td><td> 0.9020329</td><td> 1.0000000</td><td> 0.7909486</td><td>-0.7102139</td><td> 0.8879799</td></tr>\n",
       "\t<tr><th scope=row>hp</th><td>-0.7761684</td><td> 0.8324475</td><td> 0.7909486</td><td> 1.0000000</td><td>-0.4487591</td><td> 0.6587479</td></tr>\n",
       "\t<tr><th scope=row>drat</th><td> 0.6811719</td><td>-0.6999381</td><td>-0.7102139</td><td>-0.4487591</td><td> 1.0000000</td><td>-0.7124406</td></tr>\n",
       "\t<tr><th scope=row>wt</th><td>-0.8676594</td><td> 0.7824958</td><td> 0.8879799</td><td> 0.6587479</td><td>-0.7124406</td><td> 1.0000000</td></tr>\n",
       "</tbody>\n",
       "</table>\n"
      ],
      "text/latex": [
       "A matrix: 6 × 6 of type dbl\n",
       "\\begin{tabular}{r|llllll}\n",
       "  & mpg & cyl & disp & hp & drat & wt\\\\\n",
       "\\hline\n",
       "\tmpg &  1.0000000 & -0.8521620 & -0.8475514 & -0.7761684 &  0.6811719 & -0.8676594\\\\\n",
       "\tcyl & -0.8521620 &  1.0000000 &  0.9020329 &  0.8324475 & -0.6999381 &  0.7824958\\\\\n",
       "\tdisp & -0.8475514 &  0.9020329 &  1.0000000 &  0.7909486 & -0.7102139 &  0.8879799\\\\\n",
       "\thp & -0.7761684 &  0.8324475 &  0.7909486 &  1.0000000 & -0.4487591 &  0.6587479\\\\\n",
       "\tdrat &  0.6811719 & -0.6999381 & -0.7102139 & -0.4487591 &  1.0000000 & -0.7124406\\\\\n",
       "\twt & -0.8676594 &  0.7824958 &  0.8879799 &  0.6587479 & -0.7124406 &  1.0000000\\\\\n",
       "\\end{tabular}\n"
      ],
      "text/markdown": [
       "\n",
       "A matrix: 6 × 6 of type dbl\n",
       "\n",
       "| <!--/--> | mpg | cyl | disp | hp | drat | wt |\n",
       "|---|---|---|---|---|---|---|\n",
       "| mpg |  1.0000000 | -0.8521620 | -0.8475514 | -0.7761684 |  0.6811719 | -0.8676594 |\n",
       "| cyl | -0.8521620 |  1.0000000 |  0.9020329 |  0.8324475 | -0.6999381 |  0.7824958 |\n",
       "| disp | -0.8475514 |  0.9020329 |  1.0000000 |  0.7909486 | -0.7102139 |  0.8879799 |\n",
       "| hp | -0.7761684 |  0.8324475 |  0.7909486 |  1.0000000 | -0.4487591 |  0.6587479 |\n",
       "| drat |  0.6811719 | -0.6999381 | -0.7102139 | -0.4487591 |  1.0000000 | -0.7124406 |\n",
       "| wt | -0.8676594 |  0.7824958 |  0.8879799 |  0.6587479 | -0.7124406 |  1.0000000 |\n",
       "\n"
      ],
      "text/plain": [
       "     mpg        cyl        disp       hp         drat       wt        \n",
       "mpg   1.0000000 -0.8521620 -0.8475514 -0.7761684  0.6811719 -0.8676594\n",
       "cyl  -0.8521620  1.0000000  0.9020329  0.8324475 -0.6999381  0.7824958\n",
       "disp -0.8475514  0.9020329  1.0000000  0.7909486 -0.7102139  0.8879799\n",
       "hp   -0.7761684  0.8324475  0.7909486  1.0000000 -0.4487591  0.6587479\n",
       "drat  0.6811719 -0.6999381 -0.7102139 -0.4487591  1.0000000 -0.7124406\n",
       "wt   -0.8676594  0.7824958  0.8879799  0.6587479 -0.7124406  1.0000000"
      ]
     },
     "metadata": {},
     "output_type": "display_data"
    }
   ],
   "source": [
    "# Check the pairwise correlations of 6 variables\n",
    "cor(cars[,1:6])"
   ]
  },
  {
   "cell_type": "code",
   "execution_count": 11,
   "id": "5b9a1e10",
   "metadata": {},
   "outputs": [
    {
     "data": {
      "image/png": "[encoded data removed]",
      "text/plain": [
       "plot without title"
      ]
     },
     "metadata": {
      "image/png": {
       "height": 420,
       "width": 420
      }
     },
     "output_type": "display_data"
    }
   ],
   "source": [
    "options(repr.plot.width=7, repr.plot.height=7)\n",
    "\n",
    "pairs(cars[,1:6])"
   ]
  },
  {
   "cell_type": "markdown",
   "id": "3b9cdbf9",
   "metadata": {},
   "source": [
    "**Imputing Missing Data**"
   ]
  },
  {
   "cell_type": "code",
   "execution_count": 12,
   "id": "14cefe95",
   "metadata": {},
   "outputs": [],
   "source": [
    "#install.packages(\"caret\")\n",
    "#install.packages(\"RANN\")"
   ]
  },
  {
   "cell_type": "code",
   "execution_count": 13,
   "id": "f4744a49",
   "metadata": {},
   "outputs": [
    {
     "name": "stderr",
     "output_type": "stream",
     "text": [
      "Loading required package: ggplot2\n",
      "\n",
      "Loading required package: lattice\n",
      "\n"
     ]
    }
   ],
   "source": [
    "library(caret)\n",
    "library(RANN)"
   ]
  },
  {
   "cell_type": "code",
   "execution_count": 14,
   "id": "6d256987",
   "metadata": {},
   "outputs": [
    {
     "data": {
      "text/plain": [
       "   Min. 1st Qu.  Median    Mean 3rd Qu.    Max.    NA's \n",
       "  10.40   15.28   18.65   19.61   21.40   32.40       6 "
      ]
     },
     "metadata": {},
     "output_type": "display_data"
    }
   ],
   "source": [
    "remove_rows <- c(3,5,8,9,15,20)\n",
    "original_vals <- cars$mpg[remove_rows]\n",
    "\n",
    "# Set some rows to NA\n",
    "cars$mpg[remove_rows] <- NA\n",
    "\n",
    "summary(cars$mpg)   # Check mpg to confirm NA's have been added"
   ]
  },
  {
   "cell_type": "code",
   "execution_count": 15,
   "id": "400bb27f",
   "metadata": {},
   "outputs": [
    {
     "data": {
      "text/plain": [
       "    Min.  1st Qu.   Median     Mean  3rd Qu.     Max. \n",
       "-1.62809 -0.73995 -0.07274  0.07440  0.37620  2.26030 "
      ]
     },
     "metadata": {},
     "output_type": "display_data"
    }
   ],
   "source": [
    "impute <- preProcess(cars, method=c(\"knnImpute\"))\n",
    "\n",
    "# Predict new values based on preprocessing\n",
    "cars <- predict(impute, cars)          \n",
    "\n",
    "summary(cars$mpg)"
   ]
  },
  {
   "cell_type": "code",
   "execution_count": 16,
   "id": "928b84da",
   "metadata": {},
   "outputs": [
    {
     "data": {
      "text/html": [
       "<style>\n",
       ".list-inline {list-style: none; margin:0; padding: 0}\n",
       ".list-inline>li {display: inline-block}\n",
       ".list-inline>li:not(:last-child)::after {content: \"\\00b7\"; padding: 0 .5ex}\n",
       "</style>\n",
       "<ol class=list-inline><li>29.4310814096666</li><li>16.7548062401305</li><li>20.7813877645714</li><li>23.1249008211242</li><li>15.3700030703492</li><li>29.4310814096666</li></ol>\n"
      ],
      "text/latex": [
       "\\begin{enumerate*}\n",
       "\\item 29.4310814096666\n",
       "\\item 16.7548062401305\n",
       "\\item 20.7813877645714\n",
       "\\item 23.1249008211242\n",
       "\\item 15.3700030703492\n",
       "\\item 29.4310814096666\n",
       "\\end{enumerate*}\n"
      ],
      "text/markdown": [
       "1. 29.4310814096666\n",
       "2. 16.7548062401305\n",
       "3. 20.7813877645714\n",
       "4. 23.1249008211242\n",
       "5. 15.3700030703492\n",
       "6. 29.4310814096666\n",
       "\n",
       "\n"
      ],
      "text/plain": [
       "[1] 29.43108 16.75481 20.78139 23.12490 15.37000 29.43108"
      ]
     },
     "metadata": {},
     "output_type": "display_data"
    },
    {
     "data": {
      "text/html": [
       "<style>\n",
       ".list-inline {list-style: none; margin:0; padding: 0}\n",
       ".list-inline>li {display: inline-block}\n",
       ".list-inline>li:not(:last-child)::after {content: \"\\00b7\"; padding: 0 .5ex}\n",
       "</style>\n",
       "<ol class=list-inline><li>22.8</li><li>18.7</li><li>24.4</li><li>22.8</li><li>10.4</li><li>33.9</li></ol>\n"
      ],
      "text/latex": [
       "\\begin{enumerate*}\n",
       "\\item 22.8\n",
       "\\item 18.7\n",
       "\\item 24.4\n",
       "\\item 22.8\n",
       "\\item 10.4\n",
       "\\item 33.9\n",
       "\\end{enumerate*}\n"
      ],
      "text/markdown": [
       "1. 22.8\n",
       "2. 18.7\n",
       "3. 24.4\n",
       "4. 22.8\n",
       "5. 10.4\n",
       "6. 33.9\n",
       "\n",
       "\n"
      ],
      "text/plain": [
       "[1] 22.8 18.7 24.4 22.8 10.4 33.9"
      ]
     },
     "metadata": {},
     "output_type": "display_data"
    },
    {
     "data": {
      "text/html": [
       "3.65978498112861"
      ],
      "text/latex": [
       "3.65978498112861"
      ],
      "text/markdown": [
       "3.65978498112861"
      ],
      "text/plain": [
       "[1] 3.659785"
      ]
     },
     "metadata": {},
     "output_type": "display_data"
    }
   ],
   "source": [
    "# Imputed values\n",
    "imp_vals <- cars$mpg[remove_rows] * sd(mtcars$mpg) + mean(mtcars$mpg)\n",
    "imp_vals\n",
    "\n",
    "# Original values\n",
    "original_vals\n",
    "\n",
    "# Average absolute difference\n",
    "mean(abs(original_vals - imp_vals))"
   ]
  },
  {
   "cell_type": "code",
   "execution_count": 17,
   "id": "bff6334a",
   "metadata": {},
   "outputs": [
    {
     "data": {
      "text/html": [
       "18.65"
      ],
      "text/latex": [
       "18.65"
      ],
      "text/markdown": [
       "18.65"
      ],
      "text/plain": [
       "[1] 18.65"
      ]
     },
     "metadata": {},
     "output_type": "display_data"
    },
    {
     "data": {
      "text/html": [
       "6.26666666666667"
      ],
      "text/latex": [
       "6.26666666666667"
      ],
      "text/markdown": [
       "6.26666666666667"
      ],
      "text/plain": [
       "[1] 6.266667"
      ]
     },
     "metadata": {},
     "output_type": "display_data"
    }
   ],
   "source": [
    "mpg_median <- median(mtcars$mpg[-remove_rows])\n",
    "mpg_median\n",
    "\n",
    "mean(abs(original_vals - mpg_median))"
   ]
  },
  {
   "cell_type": "code",
   "execution_count": null,
   "id": "034d788b",
   "metadata": {},
   "outputs": [],
   "source": []
  },
  {
   "cell_type": "code",
   "execution_count": null,
   "id": "5c4d336f",
   "metadata": {},
   "outputs": [],
   "source": []
  },
  {
   "cell_type": "code",
   "execution_count": null,
   "id": "64ee7ae6",
   "metadata": {},
   "outputs": [],
   "source": []
  },
  {
   "cell_type": "code",
   "execution_count": null,
   "id": "e34ccef5",
   "metadata": {},
   "outputs": [],
   "source": []
  },
  {
   "cell_type": "code",
   "execution_count": null,
   "id": "dbc1144d",
   "metadata": {},
   "outputs": [],
   "source": []
  },
  {
   "cell_type": "code",
   "execution_count": null,
   "id": "acb8e0dc",
   "metadata": {},
   "outputs": [],
   "source": []
  },
  {
   "cell_type": "code",
   "execution_count": null,
   "id": "69c77283",
   "metadata": {},
   "outputs": [],
   "source": []
  },
  {
   "cell_type": "code",
   "execution_count": null,
   "id": "5517b3a8",
   "metadata": {},
   "outputs": [],
   "source": []
  },
  {
   "cell_type": "code",
   "execution_count": null,
   "id": "47a44e89",
   "metadata": {},
   "outputs": [],
   "source": []
  },
  {
   "cell_type": "code",
   "execution_count": null,
   "id": "3ce11df3",
   "metadata": {},
   "outputs": [],
   "source": []
  },
  {
   "cell_type": "code",
   "execution_count": null,
   "id": "3bf45e31",
   "metadata": {},
   "outputs": [],
   "source": []
  },
  {
   "cell_type": "code",
   "execution_count": null,
   "id": "1590c156",
   "metadata": {},
   "outputs": [],
   "source": []
  }
 ],
 "metadata": {
  "kernelspec": {
   "display_name": "R",
   "language": "R",
   "name": "ir"
  },
  "language_info": {
   "codemirror_mode": "r",
   "file_extension": ".r",
   "mimetype": "text/x-r-source",
   "name": "R",
   "pygments_lexer": "r",
   "version": "4.1.2"
  }
 },
 "nbformat": 4,
 "nbformat_minor": 5
}
