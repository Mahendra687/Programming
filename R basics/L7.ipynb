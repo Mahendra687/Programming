{
 "cells": [
  {
   "cell_type": "markdown",
   "id": "29688226",
   "metadata": {},
   "source": [
    "<div align=\"center\">\n",
    "    <h4> Data Structure: Factor</h4>\n",
    "</div>"
   ]
  },
  {
   "cell_type": "code",
   "execution_count": 2,
   "id": "adcc5680",
   "metadata": {},
   "outputs": [],
   "source": [
    "y <- c(1,4,3,5,4,2,4)"
   ]
  },
  {
   "cell_type": "code",
   "execution_count": 3,
   "id": "214a6927",
   "metadata": {},
   "outputs": [],
   "source": [
    "possible.dieface <- c(1,2,3,4,5,6)"
   ]
  },
  {
   "cell_type": "code",
   "execution_count": 4,
   "id": "748be353",
   "metadata": {},
   "outputs": [],
   "source": [
    "labels.dieface <- c(\"one\",\"two\",\"three\",\"four\",\"five\",\"six\")"
   ]
  },
  {
   "cell_type": "code",
   "execution_count": 5,
   "id": "ed3284db",
   "metadata": {},
   "outputs": [
    {
     "data": {
      "text/html": [
       "<style>\n",
       ".list-inline {list-style: none; margin:0; padding: 0}\n",
       ".list-inline>li {display: inline-block}\n",
       ".list-inline>li:not(:last-child)::after {content: \"\\00b7\"; padding: 0 .5ex}\n",
       "</style>\n",
       "<ol class=list-inline><li>one</li><li>four</li><li>three</li><li>five</li><li>four</li><li>two</li><li>four</li></ol>\n",
       "\n",
       "<details>\n",
       "\t<summary style=display:list-item;cursor:pointer>\n",
       "\t\t<strong>Levels</strong>:\n",
       "\t</summary>\n",
       "\t<style>\n",
       "\t.list-inline {list-style: none; margin:0; padding: 0}\n",
       "\t.list-inline>li {display: inline-block}\n",
       "\t.list-inline>li:not(:last-child)::after {content: \"\\00b7\"; padding: 0 .5ex}\n",
       "\t</style>\n",
       "\t<ol class=list-inline><li>'one'</li><li>'two'</li><li>'three'</li><li>'four'</li><li>'five'</li><li>'six'</li></ol>\n",
       "</details>"
      ],
      "text/latex": [
       "\\begin{enumerate*}\n",
       "\\item one\n",
       "\\item four\n",
       "\\item three\n",
       "\\item five\n",
       "\\item four\n",
       "\\item two\n",
       "\\item four\n",
       "\\end{enumerate*}\n",
       "\n",
       "\\emph{Levels}: \\begin{enumerate*}\n",
       "\\item 'one'\n",
       "\\item 'two'\n",
       "\\item 'three'\n",
       "\\item 'four'\n",
       "\\item 'five'\n",
       "\\item 'six'\n",
       "\\end{enumerate*}\n"
      ],
      "text/markdown": [
       "1. one\n",
       "2. four\n",
       "3. three\n",
       "4. five\n",
       "5. four\n",
       "6. two\n",
       "7. four\n",
       "\n",
       "\n",
       "\n",
       "**Levels**: 1. 'one'\n",
       "2. 'two'\n",
       "3. 'three'\n",
       "4. 'four'\n",
       "5. 'five'\n",
       "6. 'six'\n",
       "\n",
       "\n"
      ],
      "text/plain": [
       "[1] one   four  three five  four  two   four \n",
       "Levels: one two three four five six"
      ]
     },
     "metadata": {},
     "output_type": "display_data"
    }
   ],
   "source": [
    "facy <- factor(y, levels = possible.dieface, labels = labels.dieface)\n",
    "facy"
   ]
  },
  {
   "cell_type": "code",
   "execution_count": 7,
   "id": "4400cf12",
   "metadata": {},
   "outputs": [
    {
     "data": {
      "text/html": [
       "<style>\n",
       ".list-inline {list-style: none; margin:0; padding: 0}\n",
       ".list-inline>li {display: inline-block}\n",
       ".list-inline>li:not(:last-child)::after {content: \"\\00b7\"; padding: 0 .5ex}\n",
       "</style>\n",
       "<ol class=list-inline><li>juice</li><li>juice</li><li>lemonade</li><li>juice</li><li>water</li></ol>\n",
       "\n",
       "<details>\n",
       "\t<summary style=display:list-item;cursor:pointer>\n",
       "\t\t<strong>Levels</strong>:\n",
       "\t</summary>\n",
       "\t<style>\n",
       "\t.list-inline {list-style: none; margin:0; padding: 0}\n",
       "\t.list-inline>li {display: inline-block}\n",
       "\t.list-inline>li:not(:last-child)::after {content: \"\\00b7\"; padding: 0 .5ex}\n",
       "\t</style>\n",
       "\t<ol class=list-inline><li>'juice'</li><li>'lemonade'</li><li>'water'</li></ol>\n",
       "</details>"
      ],
      "text/latex": [
       "\\begin{enumerate*}\n",
       "\\item juice\n",
       "\\item juice\n",
       "\\item lemonade\n",
       "\\item juice\n",
       "\\item water\n",
       "\\end{enumerate*}\n",
       "\n",
       "\\emph{Levels}: \\begin{enumerate*}\n",
       "\\item 'juice'\n",
       "\\item 'lemonade'\n",
       "\\item 'water'\n",
       "\\end{enumerate*}\n"
      ],
      "text/markdown": [
       "1. juice\n",
       "2. juice\n",
       "3. lemonade\n",
       "4. juice\n",
       "5. water\n",
       "\n",
       "\n",
       "\n",
       "**Levels**: 1. 'juice'\n",
       "2. 'lemonade'\n",
       "3. 'water'\n",
       "\n",
       "\n"
      ],
      "text/plain": [
       "[1] juice    juice    lemonade juice    water   \n",
       "Levels: juice lemonade water"
      ]
     },
     "metadata": {},
     "output_type": "display_data"
    }
   ],
   "source": [
    "x <- factor(c(\"juice\", \"juice\", \"lemonade\", \"juice\", \"water\"))\n",
    "x"
   ]
  },
  {
   "cell_type": "markdown",
   "id": "c24247ff",
   "metadata": {},
   "source": [
    "**unclass() function**"
   ]
  },
  {
   "cell_type": "code",
   "execution_count": 8,
   "id": "906e21f0",
   "metadata": {},
   "outputs": [
    {
     "data": {
      "text/html": [
       "<style>\n",
       ".list-inline {list-style: none; margin:0; padding: 0}\n",
       ".list-inline>li {display: inline-block}\n",
       ".list-inline>li:not(:last-child)::after {content: \"\\00b7\"; padding: 0 .5ex}\n",
       "</style>\n",
       "<ol class=list-inline><li>1</li><li>1</li><li>2</li><li>1</li><li>3</li></ol>\n"
      ],
      "text/latex": [
       "\\begin{enumerate*}\n",
       "\\item 1\n",
       "\\item 1\n",
       "\\item 2\n",
       "\\item 1\n",
       "\\item 3\n",
       "\\end{enumerate*}\n"
      ],
      "text/markdown": [
       "1. 1\n",
       "2. 1\n",
       "3. 2\n",
       "4. 1\n",
       "5. 3\n",
       "\n",
       "\n"
      ],
      "text/plain": [
       "[1] 1 1 2 1 3\n",
       "attr(,\"levels\")\n",
       "[1] \"juice\"    \"lemonade\" \"water\"   "
      ]
     },
     "metadata": {},
     "output_type": "display_data"
    }
   ],
   "source": [
    "unclass(x)"
   ]
  },
  {
   "cell_type": "code",
   "execution_count": 11,
   "id": "84b4a2b7",
   "metadata": {},
   "outputs": [
    {
     "data": {
      "text/html": [
       "<style>\n",
       ".list-inline {list-style: none; margin:0; padding: 0}\n",
       ".list-inline>li {display: inline-block}\n",
       ".list-inline>li:not(:last-child)::after {content: \"\\00b7\"; padding: 0 .5ex}\n",
       "</style>\n",
       "<ol class=list-inline><li>'juice'</li><li>'lemonade'</li><li>'water'</li></ol>\n"
      ],
      "text/latex": [
       "\\begin{enumerate*}\n",
       "\\item 'juice'\n",
       "\\item 'lemonade'\n",
       "\\item 'water'\n",
       "\\end{enumerate*}\n"
      ],
      "text/markdown": [
       "1. 'juice'\n",
       "2. 'lemonade'\n",
       "3. 'water'\n",
       "\n",
       "\n"
      ],
      "text/plain": [
       "[1] \"juice\"    \"lemonade\" \"water\"   "
      ]
     },
     "metadata": {},
     "output_type": "display_data"
    }
   ],
   "source": [
    "attr(x,'levels')"
   ]
  },
  {
   "cell_type": "code",
   "execution_count": 12,
   "id": "aadec0b2",
   "metadata": {},
   "outputs": [
    {
     "data": {
      "text/html": [
       "'factor'"
      ],
      "text/latex": [
       "'factor'"
      ],
      "text/markdown": [
       "'factor'"
      ],
      "text/plain": [
       "[1] \"factor\""
      ]
     },
     "metadata": {},
     "output_type": "display_data"
    }
   ],
   "source": [
    "class(x)"
   ]
  },
  {
   "cell_type": "code",
   "execution_count": 14,
   "id": "2c1274be",
   "metadata": {},
   "outputs": [
    {
     "data": {
      "text/html": [
       "<style>\n",
       ".list-inline {list-style: none; margin:0; padding: 0}\n",
       ".list-inline>li {display: inline-block}\n",
       ".list-inline>li:not(:last-child)::after {content: \"\\00b7\"; padding: 0 .5ex}\n",
       "</style>\n",
       "<ol class=list-inline><li>1</li><li>1</li><li>2</li><li>1</li><li>3</li></ol>\n"
      ],
      "text/latex": [
       "\\begin{enumerate*}\n",
       "\\item 1\n",
       "\\item 1\n",
       "\\item 2\n",
       "\\item 1\n",
       "\\item 3\n",
       "\\end{enumerate*}\n"
      ],
      "text/markdown": [
       "1. 1\n",
       "2. 1\n",
       "3. 2\n",
       "4. 1\n",
       "5. 3\n",
       "\n",
       "\n"
      ],
      "text/plain": [
       "[1] 1 1 2 1 3\n",
       "attr(,\"levels\")\n",
       "[1] \"juice\"    \"lemonade\" \"water\"   "
      ]
     },
     "metadata": {},
     "output_type": "display_data"
    }
   ],
   "source": [
    "z = unclass(x)\n",
    "z"
   ]
  },
  {
   "cell_type": "code",
   "execution_count": 15,
   "id": "86ae25d2",
   "metadata": {},
   "outputs": [
    {
     "data": {
      "text/html": [
       "'integer'"
      ],
      "text/latex": [
       "'integer'"
      ],
      "text/markdown": [
       "'integer'"
      ],
      "text/plain": [
       "[1] \"integer\""
      ]
     },
     "metadata": {},
     "output_type": "display_data"
    }
   ],
   "source": [
    "class(z)"
   ]
  },
  {
   "cell_type": "code",
   "execution_count": 16,
   "id": "a67c526c",
   "metadata": {},
   "outputs": [
    {
     "data": {
      "text/html": [
       "<style>\n",
       ".list-inline {list-style: none; margin:0; padding: 0}\n",
       ".list-inline>li {display: inline-block}\n",
       ".list-inline>li:not(:last-child)::after {content: \"\\00b7\"; padding: 0 .5ex}\n",
       "</style>\n",
       "<ol class=list-inline><li>1</li><li>1</li><li>2</li><li>1</li><li>3</li></ol>\n"
      ],
      "text/latex": [
       "\\begin{enumerate*}\n",
       "\\item 1\n",
       "\\item 1\n",
       "\\item 2\n",
       "\\item 1\n",
       "\\item 3\n",
       "\\end{enumerate*}\n"
      ],
      "text/markdown": [
       "1. 1\n",
       "2. 1\n",
       "3. 2\n",
       "4. 1\n",
       "5. 3\n",
       "\n",
       "\n"
      ],
      "text/plain": [
       "[1] 1 1 2 1 3\n",
       "attr(,\"levels\")\n",
       "[1] \"juice\"    \"lemonade\" \"water\"   "
      ]
     },
     "metadata": {},
     "output_type": "display_data"
    }
   ],
   "source": [
    "unclass(x)"
   ]
  },
  {
   "cell_type": "code",
   "execution_count": 20,
   "id": "b6df6415",
   "metadata": {},
   "outputs": [
    {
     "data": {
      "text/html": [
       "<style>\n",
       ".list-inline {list-style: none; margin:0; padding: 0}\n",
       ".list-inline>li {display: inline-block}\n",
       ".list-inline>li:not(:last-child)::after {content: \"\\00b7\"; padding: 0 .5ex}\n",
       "</style>\n",
       "<ol class=list-inline><li>'juice'</li><li>'lemonade'</li><li>'water'</li></ol>\n"
      ],
      "text/latex": [
       "\\begin{enumerate*}\n",
       "\\item 'juice'\n",
       "\\item 'lemonade'\n",
       "\\item 'water'\n",
       "\\end{enumerate*}\n"
      ],
      "text/markdown": [
       "1. 'juice'\n",
       "2. 'lemonade'\n",
       "3. 'water'\n",
       "\n",
       "\n"
      ],
      "text/plain": [
       "[1] \"juice\"    \"lemonade\" \"water\"   "
      ]
     },
     "metadata": {},
     "output_type": "display_data"
    }
   ],
   "source": [
    "attr(x,'levels')"
   ]
  },
  {
   "cell_type": "code",
   "execution_count": 22,
   "id": "77b881fd",
   "metadata": {},
   "outputs": [
    {
     "data": {
      "text/html": [
       "<style>\n",
       ".list-inline {list-style: none; margin:0; padding: 0}\n",
       ".list-inline>li {display: inline-block}\n",
       ".list-inline>li:not(:last-child)::after {content: \"\\00b7\"; padding: 0 .5ex}\n",
       "</style>\n",
       "<ol class=list-inline><li>high</li><li>high</li><li>low</li><li>medium</li><li>medium</li></ol>\n",
       "\n",
       "<details>\n",
       "\t<summary style=display:list-item;cursor:pointer>\n",
       "\t\t<strong>Levels</strong>:\n",
       "\t</summary>\n",
       "\t<style>\n",
       "\t.list-inline {list-style: none; margin:0; padding: 0}\n",
       "\t.list-inline>li {display: inline-block}\n",
       "\t.list-inline>li:not(:last-child)::after {content: \"\\00b7\"; padding: 0 .5ex}\n",
       "\t</style>\n",
       "\t<ol class=list-inline><li>'low'</li><li>'medium'</li><li>'high'</li></ol>\n",
       "</details>"
      ],
      "text/latex": [
       "\\begin{enumerate*}\n",
       "\\item high\n",
       "\\item high\n",
       "\\item low\n",
       "\\item medium\n",
       "\\item medium\n",
       "\\end{enumerate*}\n",
       "\n",
       "\\emph{Levels}: \\begin{enumerate*}\n",
       "\\item 'low'\n",
       "\\item 'medium'\n",
       "\\item 'high'\n",
       "\\end{enumerate*}\n"
      ],
      "text/markdown": [
       "1. high\n",
       "2. high\n",
       "3. low\n",
       "4. medium\n",
       "5. medium\n",
       "\n",
       "\n",
       "\n",
       "**Levels**: 1. 'low'\n",
       "2. 'medium'\n",
       "3. 'high'\n",
       "\n",
       "\n"
      ],
      "text/plain": [
       "[1] high   high   low    medium medium\n",
       "Levels: low < medium < high"
      ]
     },
     "metadata": {},
     "output_type": "display_data"
    }
   ],
   "source": [
    "income <- ordered(c(\"high\",\"high\", \"low\",\"medium\", \"medium\"), levels=c(\"low\",\"medium\", \"high\"))\n",
    "income"
   ]
  },
  {
   "cell_type": "code",
   "execution_count": 23,
   "id": "a0566aa8",
   "metadata": {},
   "outputs": [
    {
     "data": {
      "text/html": [
       "<style>\n",
       ".list-inline {list-style: none; margin:0; padding: 0}\n",
       ".list-inline>li {display: inline-block}\n",
       ".list-inline>li:not(:last-child)::after {content: \"\\00b7\"; padding: 0 .5ex}\n",
       "</style>\n",
       "<ol class=list-inline><li>3</li><li>3</li><li>1</li><li>2</li><li>2</li></ol>\n"
      ],
      "text/latex": [
       "\\begin{enumerate*}\n",
       "\\item 3\n",
       "\\item 3\n",
       "\\item 1\n",
       "\\item 2\n",
       "\\item 2\n",
       "\\end{enumerate*}\n"
      ],
      "text/markdown": [
       "1. 3\n",
       "2. 3\n",
       "3. 1\n",
       "4. 2\n",
       "5. 2\n",
       "\n",
       "\n"
      ],
      "text/plain": [
       "[1] 3 3 1 2 2\n",
       "attr(,\"levels\")\n",
       "[1] \"low\"    \"medium\" \"high\"  "
      ]
     },
     "metadata": {},
     "output_type": "display_data"
    }
   ],
   "source": [
    "unclass(income)"
   ]
  },
  {
   "cell_type": "code",
   "execution_count": 26,
   "id": "f8e7bb46",
   "metadata": {},
   "outputs": [
    {
     "data": {
      "text/html": [
       "<style>\n",
       ".list-inline {list-style: none; margin:0; padding: 0}\n",
       ".list-inline>li {display: inline-block}\n",
       ".list-inline>li:not(:last-child)::after {content: \"\\00b7\"; padding: 0 .5ex}\n",
       "</style>\n",
       "<ol class=list-inline><li>'low'</li><li>'medium'</li><li>'high'</li></ol>\n"
      ],
      "text/latex": [
       "\\begin{enumerate*}\n",
       "\\item 'low'\n",
       "\\item 'medium'\n",
       "\\item 'high'\n",
       "\\end{enumerate*}\n"
      ],
      "text/markdown": [
       "1. 'low'\n",
       "2. 'medium'\n",
       "3. 'high'\n",
       "\n",
       "\n"
      ],
      "text/plain": [
       "[1] \"low\"    \"medium\" \"high\"  "
      ]
     },
     "metadata": {},
     "output_type": "display_data"
    }
   ],
   "source": [
    "attr(income,'levels')"
   ]
  },
  {
   "cell_type": "code",
   "execution_count": 27,
   "id": "1f8c260e",
   "metadata": {},
   "outputs": [
    {
     "data": {
      "text/html": [
       "<style>\n",
       ".list-inline {list-style: none; margin:0; padding: 0}\n",
       ".list-inline>li {display: inline-block}\n",
       ".list-inline>li:not(:last-child)::after {content: \"\\00b7\"; padding: 0 .5ex}\n",
       "</style>\n",
       "<ol class=list-inline><li>'ordered'</li><li>'factor'</li></ol>\n"
      ],
      "text/latex": [
       "\\begin{enumerate*}\n",
       "\\item 'ordered'\n",
       "\\item 'factor'\n",
       "\\end{enumerate*}\n"
      ],
      "text/markdown": [
       "1. 'ordered'\n",
       "2. 'factor'\n",
       "\n",
       "\n"
      ],
      "text/plain": [
       "[1] \"ordered\" \"factor\" "
      ]
     },
     "metadata": {},
     "output_type": "display_data"
    }
   ],
   "source": [
    "class(income)"
   ]
  },
  {
   "cell_type": "code",
   "execution_count": 28,
   "id": "15e2f289",
   "metadata": {},
   "outputs": [
    {
     "data": {
      "text/html": [
       "'integer'"
      ],
      "text/latex": [
       "'integer'"
      ],
      "text/markdown": [
       "'integer'"
      ],
      "text/plain": [
       "[1] \"integer\""
      ]
     },
     "metadata": {},
     "output_type": "display_data"
    }
   ],
   "source": [
    "class(unclass(income))"
   ]
  },
  {
   "cell_type": "code",
   "execution_count": 31,
   "id": "80b32596",
   "metadata": {},
   "outputs": [
    {
     "data": {
      "text/html": [
       "<style>\n",
       ".list-inline {list-style: none; margin:0; padding: 0}\n",
       ".list-inline>li {display: inline-block}\n",
       ".list-inline>li:not(:last-child)::after {content: \"\\00b7\"; padding: 0 .5ex}\n",
       "</style>\n",
       "<ol class=list-inline><li>4</li><li>5</li><li>1</li><li>2</li><li>3</li><li>4</li><li>4</li><li>5</li><li>6</li></ol>\n"
      ],
      "text/latex": [
       "\\begin{enumerate*}\n",
       "\\item 4\n",
       "\\item 5\n",
       "\\item 1\n",
       "\\item 2\n",
       "\\item 3\n",
       "\\item 4\n",
       "\\item 4\n",
       "\\item 5\n",
       "\\item 6\n",
       "\\end{enumerate*}\n"
      ],
      "text/markdown": [
       "1. 4\n",
       "2. 5\n",
       "3. 1\n",
       "4. 2\n",
       "5. 3\n",
       "6. 4\n",
       "7. 4\n",
       "8. 5\n",
       "9. 6\n",
       "\n",
       "\n"
      ],
      "text/plain": [
       "[1] 4 5 1 2 3 4 4 5 6"
      ]
     },
     "metadata": {},
     "output_type": "display_data"
    }
   ],
   "source": [
    "x <- c(4,5,1,2,3,4,4,5,6)\n",
    "x"
   ]
  },
  {
   "cell_type": "code",
   "execution_count": 32,
   "id": "52d208e4",
   "metadata": {},
   "outputs": [
    {
     "data": {
      "text/html": [
       "<style>\n",
       ".list-inline {list-style: none; margin:0; padding: 0}\n",
       ".list-inline>li {display: inline-block}\n",
       ".list-inline>li:not(:last-child)::after {content: \"\\00b7\"; padding: 0 .5ex}\n",
       "</style>\n",
       "<ol class=list-inline><li>4</li><li>5</li><li>1</li><li>2</li><li>3</li><li>4</li><li>4</li><li>5</li><li>6</li></ol>\n",
       "\n",
       "<details>\n",
       "\t<summary style=display:list-item;cursor:pointer>\n",
       "\t\t<strong>Levels</strong>:\n",
       "\t</summary>\n",
       "\t<style>\n",
       "\t.list-inline {list-style: none; margin:0; padding: 0}\n",
       "\t.list-inline>li {display: inline-block}\n",
       "\t.list-inline>li:not(:last-child)::after {content: \"\\00b7\"; padding: 0 .5ex}\n",
       "\t</style>\n",
       "\t<ol class=list-inline><li>'1'</li><li>'2'</li><li>'3'</li><li>'4'</li><li>'5'</li><li>'6'</li></ol>\n",
       "</details>"
      ],
      "text/latex": [
       "\\begin{enumerate*}\n",
       "\\item 4\n",
       "\\item 5\n",
       "\\item 1\n",
       "\\item 2\n",
       "\\item 3\n",
       "\\item 4\n",
       "\\item 4\n",
       "\\item 5\n",
       "\\item 6\n",
       "\\end{enumerate*}\n",
       "\n",
       "\\emph{Levels}: \\begin{enumerate*}\n",
       "\\item '1'\n",
       "\\item '2'\n",
       "\\item '3'\n",
       "\\item '4'\n",
       "\\item '5'\n",
       "\\item '6'\n",
       "\\end{enumerate*}\n"
      ],
      "text/markdown": [
       "1. 4\n",
       "2. 5\n",
       "3. 1\n",
       "4. 2\n",
       "5. 3\n",
       "6. 4\n",
       "7. 4\n",
       "8. 5\n",
       "9. 6\n",
       "\n",
       "\n",
       "\n",
       "**Levels**: 1. '1'\n",
       "2. '2'\n",
       "3. '3'\n",
       "4. '4'\n",
       "5. '5'\n",
       "6. '6'\n",
       "\n",
       "\n"
      ],
      "text/plain": [
       "[1] 4 5 1 2 3 4 4 5 6\n",
       "Levels: 1 2 3 4 5 6"
      ]
     },
     "metadata": {},
     "output_type": "display_data"
    }
   ],
   "source": [
    "x <- as.factor(x)\n",
    "x"
   ]
  },
  {
   "cell_type": "code",
   "execution_count": 33,
   "id": "db11dd6a",
   "metadata": {},
   "outputs": [
    {
     "data": {
      "text/html": [
       "'factor'"
      ],
      "text/latex": [
       "'factor'"
      ],
      "text/markdown": [
       "'factor'"
      ],
      "text/plain": [
       "[1] \"factor\""
      ]
     },
     "metadata": {},
     "output_type": "display_data"
    }
   ],
   "source": [
    "class(x)"
   ]
  },
  {
   "cell_type": "code",
   "execution_count": 2,
   "id": "41ff1a78",
   "metadata": {},
   "outputs": [
    {
     "name": "stdout",
     "output_type": "stream",
     "text": [
      " [1] male   male   male   male   male   male   male   male   male   male  \n",
      "[11] female female female female female female female female female female\n",
      "Levels: female male\n"
     ]
    }
   ],
   "source": [
    "# create a factor by passing a character or numeric vector into the factor() function:\n",
    "gender_vector <- c(rep(\"male\", 10),rep(\"female\",10)) # Create a character variable\n",
    "gender_factor <- factor(gender_vector) # convert to factor\n",
    "print(gender_factor)"
   ]
  },
  {
   "cell_type": "code",
   "execution_count": 3,
   "id": "69b871d9",
   "metadata": {},
   "outputs": [
    {
     "name": "stdout",
     "output_type": "stream",
     "text": [
      " [1] male   male   male   male   male   male   male   male   male   male  \n",
      "[11] female female female female female female female female female female\n",
      "Levels: male female other\n"
     ]
    }
   ],
   "source": [
    "# specify the levels a factor can take by passing a character vector of levels to the levels argument:\n",
    "gender_factor <- factor(gender_vector, levels = c('male', 'female','other'))\n",
    "print(gender_factor)"
   ]
  },
  {
   "cell_type": "code",
   "execution_count": 4,
   "id": "2c660a19",
   "metadata": {},
   "outputs": [
    {
     "data": {
      "text/html": [
       "<style>\n",
       ".list-inline {list-style: none; margin:0; padding: 0}\n",
       ".list-inline>li {display: inline-block}\n",
       ".list-inline>li:not(:last-child)::after {content: \"\\00b7\"; padding: 0 .5ex}\n",
       "</style>\n",
       "<ol class=list-inline><li>'male'</li><li>'female'</li><li>'other'</li></ol>\n"
      ],
      "text/latex": [
       "\\begin{enumerate*}\n",
       "\\item 'male'\n",
       "\\item 'female'\n",
       "\\item 'other'\n",
       "\\end{enumerate*}\n"
      ],
      "text/markdown": [
       "1. 'male'\n",
       "2. 'female'\n",
       "3. 'other'\n",
       "\n",
       "\n"
      ],
      "text/plain": [
       "[1] \"male\"   \"female\" \"other\" "
      ]
     },
     "metadata": {},
     "output_type": "display_data"
    }
   ],
   "source": [
    "# You can check, rename and add to the levels of a factor with the levels() function:\n",
    "levels(gender_factor)    # Check levels"
   ]
  },
  {
   "cell_type": "code",
   "execution_count": 5,
   "id": "7dcdf9dd",
   "metadata": {},
   "outputs": [
    {
     "data": {
      "text/html": [
       "<style>\n",
       ".list-inline {list-style: none; margin:0; padding: 0}\n",
       ".list-inline>li {display: inline-block}\n",
       ".list-inline>li:not(:last-child)::after {content: \"\\00b7\"; padding: 0 .5ex}\n",
       "</style>\n",
       "<ol class=list-inline><li>'male'</li><li>'female'</li><li>'unknown'</li></ol>\n"
      ],
      "text/latex": [
       "\\begin{enumerate*}\n",
       "\\item 'male'\n",
       "\\item 'female'\n",
       "\\item 'unknown'\n",
       "\\end{enumerate*}\n"
      ],
      "text/markdown": [
       "1. 'male'\n",
       "2. 'female'\n",
       "3. 'unknown'\n",
       "\n",
       "\n"
      ],
      "text/plain": [
       "[1] \"male\"    \"female\"  \"unknown\""
      ]
     },
     "metadata": {},
     "output_type": "display_data"
    }
   ],
   "source": [
    "levels(gender_factor) <- c('male','female','unknown') # change levels\n",
    "levels(gender_factor)"
   ]
  },
  {
   "cell_type": "code",
   "execution_count": 6,
   "id": "6b194e0a",
   "metadata": {},
   "outputs": [
    {
     "data": {
      "text/html": [
       "<style>\n",
       ".list-inline {list-style: none; margin:0; padding: 0}\n",
       ".list-inline>li {display: inline-block}\n",
       ".list-inline>li:not(:last-child)::after {content: \"\\00b7\"; padding: 0 .5ex}\n",
       "</style>\n",
       "<ol class=list-inline><li>'male'</li><li>'female'</li><li>'unknown'</li><li>'no_one'</li></ol>\n"
      ],
      "text/latex": [
       "\\begin{enumerate*}\n",
       "\\item 'male'\n",
       "\\item 'female'\n",
       "\\item 'unknown'\n",
       "\\item 'no\\_one'\n",
       "\\end{enumerate*}\n"
      ],
      "text/markdown": [
       "1. 'male'\n",
       "2. 'female'\n",
       "3. 'unknown'\n",
       "4. 'no_one'\n",
       "\n",
       "\n"
      ],
      "text/plain": [
       "[1] \"male\"    \"female\"  \"unknown\" \"no_one\" "
      ]
     },
     "metadata": {},
     "output_type": "display_data"
    }
   ],
   "source": [
    "levels(gender_factor) <- c('male', 'female','unknown', 'no_one') # add a level\n",
    "levels(gender_factor)"
   ]
  },
  {
   "cell_type": "markdown",
   "id": "e61a3fd0",
   "metadata": {},
   "source": [
    "remove the factor levels with no data present by recreating the factor with the factor() function or by using the droplevels() function\n"
   ]
  },
  {
   "cell_type": "code",
   "execution_count": 7,
   "id": "b4b90cb3",
   "metadata": {},
   "outputs": [
    {
     "data": {
      "text/html": [
       "<style>\n",
       ".list-inline {list-style: none; margin:0; padding: 0}\n",
       ".list-inline>li {display: inline-block}\n",
       ".list-inline>li:not(:last-child)::after {content: \"\\00b7\"; padding: 0 .5ex}\n",
       "</style>\n",
       "<ol class=list-inline><li>'male'</li><li>'female'</li></ol>\n"
      ],
      "text/latex": [
       "\\begin{enumerate*}\n",
       "\\item 'male'\n",
       "\\item 'female'\n",
       "\\end{enumerate*}\n"
      ],
      "text/markdown": [
       "1. 'male'\n",
       "2. 'female'\n",
       "\n",
       "\n"
      ],
      "text/plain": [
       "[1] \"male\"   \"female\""
      ]
     },
     "metadata": {},
     "output_type": "display_data"
    }
   ],
   "source": [
    "gender_factor <- droplevels(gender_factor) # drop unused levels\n",
    "levels(gender_factor)"
   ]
  },
  {
   "cell_type": "markdown",
   "id": "cf7e8761",
   "metadata": {},
   "source": [
    "R offers a second type of factor called an ordered factor for ordinal data. Ordinal data is non-numeric data that has some sense of natural ordering. For example, a variable with the levels \"very low\", \"low\", \"medium\", \"high\", and \"very high\" is not numeric but it has a natural ordering, so it can be encoded as an ordered factor. To create an ordered factor, use the factor() function with the additional argument ordered=TRUE or use the ordered() function.\n",
    "\n",
    "**Note:** it is important to use the levels argument when creating an ordered factor because the levels you supply are used to create the ordering from lowest to highest."
   ]
  },
  {
   "cell_type": "code",
   "execution_count": 11,
   "id": "baa9c231",
   "metadata": {},
   "outputs": [
    {
     "name": "stdout",
     "output_type": "stream",
     "text": [
      " [1] very low  low       medium    high      very high very low  low      \n",
      " [8] medium    high      very high\n",
      "Levels: very low < low < medium < high < very high\n"
     ]
    }
   ],
   "source": [
    "dat <- rep(c(\"very low\",\"low\", \"medium\", \"high\",\"very high\"), 2)\n",
    "dat_factor <- factor(dat, levels = c(\"very low\", \"low\", \"medium\", \"high\", \"very high\"), ordered=T)\n",
    "print(dat_factor)"
   ]
  },
  {
   "cell_type": "markdown",
   "id": "7953bf53",
   "metadata": {},
   "source": [
    "Convert a factor to character using **as.character()** function "
   ]
  },
  {
   "cell_type": "code",
   "execution_count": 12,
   "id": "802beae1",
   "metadata": {},
   "outputs": [
    {
     "data": {
      "text/html": [
       "<style>\n",
       ".list-inline {list-style: none; margin:0; padding: 0}\n",
       ".list-inline>li {display: inline-block}\n",
       ".list-inline>li:not(:last-child)::after {content: \"\\00b7\"; padding: 0 .5ex}\n",
       "</style>\n",
       "<ol class=list-inline><li>'male'</li><li>'male'</li><li>'male'</li><li>'male'</li><li>'male'</li><li>'male'</li><li>'male'</li><li>'male'</li><li>'male'</li><li>'male'</li><li>'female'</li><li>'female'</li><li>'female'</li><li>'female'</li><li>'female'</li><li>'female'</li><li>'female'</li><li>'female'</li><li>'female'</li><li>'female'</li></ol>\n"
      ],
      "text/latex": [
       "\\begin{enumerate*}\n",
       "\\item 'male'\n",
       "\\item 'male'\n",
       "\\item 'male'\n",
       "\\item 'male'\n",
       "\\item 'male'\n",
       "\\item 'male'\n",
       "\\item 'male'\n",
       "\\item 'male'\n",
       "\\item 'male'\n",
       "\\item 'male'\n",
       "\\item 'female'\n",
       "\\item 'female'\n",
       "\\item 'female'\n",
       "\\item 'female'\n",
       "\\item 'female'\n",
       "\\item 'female'\n",
       "\\item 'female'\n",
       "\\item 'female'\n",
       "\\item 'female'\n",
       "\\item 'female'\n",
       "\\end{enumerate*}\n"
      ],
      "text/markdown": [
       "1. 'male'\n",
       "2. 'male'\n",
       "3. 'male'\n",
       "4. 'male'\n",
       "5. 'male'\n",
       "6. 'male'\n",
       "7. 'male'\n",
       "8. 'male'\n",
       "9. 'male'\n",
       "10. 'male'\n",
       "11. 'female'\n",
       "12. 'female'\n",
       "13. 'female'\n",
       "14. 'female'\n",
       "15. 'female'\n",
       "16. 'female'\n",
       "17. 'female'\n",
       "18. 'female'\n",
       "19. 'female'\n",
       "20. 'female'\n",
       "\n",
       "\n"
      ],
      "text/plain": [
       " [1] \"male\"   \"male\"   \"male\"   \"male\"   \"male\"   \"male\"   \"male\"   \"male\"  \n",
       " [9] \"male\"   \"male\"   \"female\" \"female\" \"female\" \"female\" \"female\" \"female\"\n",
       "[17] \"female\" \"female\" \"female\" \"female\""
      ]
     },
     "metadata": {},
     "output_type": "display_data"
    }
   ],
   "source": [
    "as.character(gender_factor)"
   ]
  },
  {
   "cell_type": "markdown",
   "id": "58d2d244",
   "metadata": {},
   "source": [
    "If you try to convert a factor to numeric, the result will be a numeric vector corresponding to the integers assigned to each factor level:"
   ]
  },
  {
   "cell_type": "code",
   "execution_count": 13,
   "id": "d4783616",
   "metadata": {},
   "outputs": [
    {
     "data": {
      "text/html": [
       "<style>\n",
       ".list-inline {list-style: none; margin:0; padding: 0}\n",
       ".list-inline>li {display: inline-block}\n",
       ".list-inline>li:not(:last-child)::after {content: \"\\00b7\"; padding: 0 .5ex}\n",
       "</style>\n",
       "<ol class=list-inline><li>1</li><li>1</li><li>1</li><li>1</li><li>1</li><li>1</li><li>1</li><li>1</li><li>1</li><li>1</li><li>2</li><li>2</li><li>2</li><li>2</li><li>2</li><li>2</li><li>2</li><li>2</li><li>2</li><li>2</li></ol>\n"
      ],
      "text/latex": [
       "\\begin{enumerate*}\n",
       "\\item 1\n",
       "\\item 1\n",
       "\\item 1\n",
       "\\item 1\n",
       "\\item 1\n",
       "\\item 1\n",
       "\\item 1\n",
       "\\item 1\n",
       "\\item 1\n",
       "\\item 1\n",
       "\\item 2\n",
       "\\item 2\n",
       "\\item 2\n",
       "\\item 2\n",
       "\\item 2\n",
       "\\item 2\n",
       "\\item 2\n",
       "\\item 2\n",
       "\\item 2\n",
       "\\item 2\n",
       "\\end{enumerate*}\n"
      ],
      "text/markdown": [
       "1. 1\n",
       "2. 1\n",
       "3. 1\n",
       "4. 1\n",
       "5. 1\n",
       "6. 1\n",
       "7. 1\n",
       "8. 1\n",
       "9. 1\n",
       "10. 1\n",
       "11. 2\n",
       "12. 2\n",
       "13. 2\n",
       "14. 2\n",
       "15. 2\n",
       "16. 2\n",
       "17. 2\n",
       "18. 2\n",
       "19. 2\n",
       "20. 2\n",
       "\n",
       "\n"
      ],
      "text/plain": [
       " [1] 1 1 1 1 1 1 1 1 1 1 2 2 2 2 2 2 2 2 2 2"
      ]
     },
     "metadata": {},
     "output_type": "display_data"
    }
   ],
   "source": [
    "as.numeric(gender_factor)"
   ]
  },
  {
   "cell_type": "markdown",
   "id": "a26a4400",
   "metadata": {},
   "source": [
    "If for some reason you have numeric data encoded as a factor, this might not be the desired behavior. To convert a factor with numeric levels to a numeric vector of the level values use the following construction:"
   ]
  },
  {
   "cell_type": "code",
   "execution_count": 14,
   "id": "99d5378b",
   "metadata": {},
   "outputs": [
    {
     "data": {
      "text/html": [
       "<style>\n",
       ".list-inline {list-style: none; margin:0; padding: 0}\n",
       ".list-inline>li {display: inline-block}\n",
       ".list-inline>li:not(:last-child)::after {content: \"\\00b7\"; padding: 0 .5ex}\n",
       "</style>\n",
       "<ol class=list-inline><li>-1.3</li><li>-2.6</li><li>2.6</li><li>3.2</li><li>2.6</li><li>4.5</li><li>-1.3</li></ol>\n"
      ],
      "text/latex": [
       "\\begin{enumerate*}\n",
       "\\item -1.3\n",
       "\\item -2.6\n",
       "\\item 2.6\n",
       "\\item 3.2\n",
       "\\item 2.6\n",
       "\\item 4.5\n",
       "\\item -1.3\n",
       "\\end{enumerate*}\n"
      ],
      "text/markdown": [
       "1. -1.3\n",
       "2. -2.6\n",
       "3. 2.6\n",
       "4. 3.2\n",
       "5. 2.6\n",
       "6. 4.5\n",
       "7. -1.3\n",
       "\n",
       "\n"
      ],
      "text/plain": [
       "[1] -1.3 -2.6  2.6  3.2  2.6  4.5 -1.3"
      ]
     },
     "metadata": {},
     "output_type": "display_data"
    },
    {
     "data": {
      "text/html": [
       "<style>\n",
       ".list-inline {list-style: none; margin:0; padding: 0}\n",
       ".list-inline>li {display: inline-block}\n",
       ".list-inline>li:not(:last-child)::after {content: \"\\00b7\"; padding: 0 .5ex}\n",
       "</style>\n",
       "<ol class=list-inline><li>-1.3</li><li>-2.6</li><li>2.6</li><li>3.2</li><li>2.6</li><li>4.5</li><li>-1.3</li></ol>\n"
      ],
      "text/latex": [
       "\\begin{enumerate*}\n",
       "\\item -1.3\n",
       "\\item -2.6\n",
       "\\item 2.6\n",
       "\\item 3.2\n",
       "\\item 2.6\n",
       "\\item 4.5\n",
       "\\item -1.3\n",
       "\\end{enumerate*}\n"
      ],
      "text/markdown": [
       "1. -1.3\n",
       "2. -2.6\n",
       "3. 2.6\n",
       "4. 3.2\n",
       "5. 2.6\n",
       "6. 4.5\n",
       "7. -1.3\n",
       "\n",
       "\n"
      ],
      "text/plain": [
       "[1] -1.3 -2.6  2.6  3.2  2.6  4.5 -1.3"
      ]
     },
     "metadata": {},
     "output_type": "display_data"
    }
   ],
   "source": [
    "numeric_factor <- factor(c(-1.3,-2.6,2.6,3.2,2.6,4.5,-1.3))\n",
    "# this construction lets you extract the numbers\n",
    "as.numeric(levels(numeric_factor))[numeric_factor]\n",
    "# converting to charactor first also works (but run maybe slower)\n",
    "as.numeric(as.character(numeric_factor))"
   ]
  },
  {
   "cell_type": "markdown",
   "id": "3a98875d",
   "metadata": {},
   "source": [
    "If you'd like to add more values to an existing factor, you can't just use c() like you would when combining normal vectors. One way to add to a factor is to convert the factor to character, concatenate it with the new values, and then convert it back to factor."
   ]
  },
  {
   "cell_type": "code",
   "execution_count": 17,
   "id": "82c8faf2",
   "metadata": {},
   "outputs": [
    {
     "data": {
      "text/html": [
       "<style>\n",
       ".dl-inline {width: auto; margin:0; padding: 0}\n",
       ".dl-inline>dt, .dl-inline>dd {float: none; width: auto; display: inline-block}\n",
       ".dl-inline>dt::after {content: \":\\0020\"; padding-right: .5ex}\n",
       ".dl-inline>dt:not(:first-of-type) {padding-left: .5ex}\n",
       "</style><dl class=dl-inline><dt>female</dt><dd>10</dd><dt>male</dt><dd>10</dd><dt>Prefer not to say</dt><dd>3</dd><dt>Unknown</dt><dd>6</dd></dl>\n"
      ],
      "text/latex": [
       "\\begin{description*}\n",
       "\\item[female] 10\n",
       "\\item[male] 10\n",
       "\\item[Prefer not to say] 3\n",
       "\\item[Unknown] 6\n",
       "\\end{description*}\n"
      ],
      "text/markdown": [
       "female\n",
       ":   10male\n",
       ":   10Prefer not to say\n",
       ":   3Unknown\n",
       ":   6\n",
       "\n"
      ],
      "text/plain": [
       "           female              male Prefer not to say           Unknown \n",
       "               10                10                 3                 6 "
      ]
     },
     "metadata": {},
     "output_type": "display_data"
    }
   ],
   "source": [
    "# This adds more values to the gender_factor\n",
    "gender_factor <- as.factor(c(as.character(gender_factor), \"Unknown\", \"Unknown\", \"Prefer not to say\"))\n",
    "summary(gender_factor)"
   ]
  },
  {
   "cell_type": "markdown",
   "id": "b85f4962",
   "metadata": {},
   "source": [
    "**Factor Indexing**"
   ]
  },
  {
   "cell_type": "code",
   "execution_count": 18,
   "id": "f3696b4f",
   "metadata": {},
   "outputs": [
    {
     "data": {
      "text/html": [
       "male\n",
       "<details>\n",
       "\t<summary style=display:list-item;cursor:pointer>\n",
       "\t\t<strong>Levels</strong>:\n",
       "\t</summary>\n",
       "\t<style>\n",
       "\t.list-inline {list-style: none; margin:0; padding: 0}\n",
       "\t.list-inline>li {display: inline-block}\n",
       "\t.list-inline>li:not(:last-child)::after {content: \"\\00b7\"; padding: 0 .5ex}\n",
       "\t</style>\n",
       "\t<ol class=list-inline><li>'female'</li><li>'male'</li><li>'Prefer not to say'</li><li>'Unknown'</li></ol>\n",
       "</details>"
      ],
      "text/latex": [
       "male\n",
       "\\emph{Levels}: \\begin{enumerate*}\n",
       "\\item 'female'\n",
       "\\item 'male'\n",
       "\\item 'Prefer not to say'\n",
       "\\item 'Unknown'\n",
       "\\end{enumerate*}\n"
      ],
      "text/markdown": [
       "male\n",
       "**Levels**: 1. 'female'\n",
       "2. 'male'\n",
       "3. 'Prefer not to say'\n",
       "4. 'Unknown'\n",
       "\n",
       "\n"
      ],
      "text/plain": [
       "[1] male\n",
       "Levels: female male Prefer not to say Unknown"
      ]
     },
     "metadata": {},
     "output_type": "display_data"
    },
    {
     "data": {
      "text/html": [
       "<style>\n",
       ".list-inline {list-style: none; margin:0; padding: 0}\n",
       ".list-inline>li {display: inline-block}\n",
       ".list-inline>li:not(:last-child)::after {content: \"\\00b7\"; padding: 0 .5ex}\n",
       "</style>\n",
       "<ol class=list-inline><li>male</li><li>male</li><li>female</li><li>female</li><li>female</li><li>female</li><li>female</li></ol>\n",
       "\n",
       "<details>\n",
       "\t<summary style=display:list-item;cursor:pointer>\n",
       "\t\t<strong>Levels</strong>:\n",
       "\t</summary>\n",
       "\t<style>\n",
       "\t.list-inline {list-style: none; margin:0; padding: 0}\n",
       "\t.list-inline>li {display: inline-block}\n",
       "\t.list-inline>li:not(:last-child)::after {content: \"\\00b7\"; padding: 0 .5ex}\n",
       "\t</style>\n",
       "\t<ol class=list-inline><li>'female'</li><li>'male'</li><li>'Prefer not to say'</li><li>'Unknown'</li></ol>\n",
       "</details>"
      ],
      "text/latex": [
       "\\begin{enumerate*}\n",
       "\\item male\n",
       "\\item male\n",
       "\\item female\n",
       "\\item female\n",
       "\\item female\n",
       "\\item female\n",
       "\\item female\n",
       "\\end{enumerate*}\n",
       "\n",
       "\\emph{Levels}: \\begin{enumerate*}\n",
       "\\item 'female'\n",
       "\\item 'male'\n",
       "\\item 'Prefer not to say'\n",
       "\\item 'Unknown'\n",
       "\\end{enumerate*}\n"
      ],
      "text/markdown": [
       "1. male\n",
       "2. male\n",
       "3. female\n",
       "4. female\n",
       "5. female\n",
       "6. female\n",
       "7. female\n",
       "\n",
       "\n",
       "\n",
       "**Levels**: 1. 'female'\n",
       "2. 'male'\n",
       "3. 'Prefer not to say'\n",
       "4. 'Unknown'\n",
       "\n",
       "\n"
      ],
      "text/plain": [
       "[1] male   male   female female female female female\n",
       "Levels: female male Prefer not to say Unknown"
      ]
     },
     "metadata": {},
     "output_type": "display_data"
    },
    {
     "data": {
      "text/html": [
       "<style>\n",
       ".list-inline {list-style: none; margin:0; padding: 0}\n",
       ".list-inline>li {display: inline-block}\n",
       ".list-inline>li:not(:last-child)::after {content: \"\\00b7\"; padding: 0 .5ex}\n",
       "</style>\n",
       "<ol class=list-inline><li>male</li><li>male</li><li>female</li></ol>\n",
       "\n",
       "<details>\n",
       "\t<summary style=display:list-item;cursor:pointer>\n",
       "\t\t<strong>Levels</strong>:\n",
       "\t</summary>\n",
       "\t<style>\n",
       "\t.list-inline {list-style: none; margin:0; padding: 0}\n",
       "\t.list-inline>li {display: inline-block}\n",
       "\t.list-inline>li:not(:last-child)::after {content: \"\\00b7\"; padding: 0 .5ex}\n",
       "\t</style>\n",
       "\t<ol class=list-inline><li>'female'</li><li>'male'</li><li>'Prefer not to say'</li><li>'Unknown'</li></ol>\n",
       "</details>"
      ],
      "text/latex": [
       "\\begin{enumerate*}\n",
       "\\item male\n",
       "\\item male\n",
       "\\item female\n",
       "\\end{enumerate*}\n",
       "\n",
       "\\emph{Levels}: \\begin{enumerate*}\n",
       "\\item 'female'\n",
       "\\item 'male'\n",
       "\\item 'Prefer not to say'\n",
       "\\item 'Unknown'\n",
       "\\end{enumerate*}\n"
      ],
      "text/markdown": [
       "1. male\n",
       "2. male\n",
       "3. female\n",
       "\n",
       "\n",
       "\n",
       "**Levels**: 1. 'female'\n",
       "2. 'male'\n",
       "3. 'Prefer not to say'\n",
       "4. 'Unknown'\n",
       "\n",
       "\n"
      ],
      "text/plain": [
       "[1] male   male   female\n",
       "Levels: female male Prefer not to say Unknown"
      ]
     },
     "metadata": {},
     "output_type": "display_data"
    },
    {
     "data": {
      "text/html": [
       "<style>\n",
       ".list-inline {list-style: none; margin:0; padding: 0}\n",
       ".list-inline>li {display: inline-block}\n",
       ".list-inline>li:not(:last-child)::after {content: \"\\00b7\"; padding: 0 .5ex}\n",
       "</style>\n",
       "<ol class=list-inline><li>male</li><li>male</li><li>male</li><li>male</li><li>male</li><li>male</li><li>male</li><li>male</li><li>male</li><li>male</li></ol>\n",
       "\n",
       "<details>\n",
       "\t<summary style=display:list-item;cursor:pointer>\n",
       "\t\t<strong>Levels</strong>:\n",
       "\t</summary>\n",
       "\t<style>\n",
       "\t.list-inline {list-style: none; margin:0; padding: 0}\n",
       "\t.list-inline>li {display: inline-block}\n",
       "\t.list-inline>li:not(:last-child)::after {content: \"\\00b7\"; padding: 0 .5ex}\n",
       "\t</style>\n",
       "\t<ol class=list-inline><li>'female'</li><li>'male'</li><li>'Prefer not to say'</li><li>'Unknown'</li></ol>\n",
       "</details>"
      ],
      "text/latex": [
       "\\begin{enumerate*}\n",
       "\\item male\n",
       "\\item male\n",
       "\\item male\n",
       "\\item male\n",
       "\\item male\n",
       "\\item male\n",
       "\\item male\n",
       "\\item male\n",
       "\\item male\n",
       "\\item male\n",
       "\\end{enumerate*}\n",
       "\n",
       "\\emph{Levels}: \\begin{enumerate*}\n",
       "\\item 'female'\n",
       "\\item 'male'\n",
       "\\item 'Prefer not to say'\n",
       "\\item 'Unknown'\n",
       "\\end{enumerate*}\n"
      ],
      "text/markdown": [
       "1. male\n",
       "2. male\n",
       "3. male\n",
       "4. male\n",
       "5. male\n",
       "6. male\n",
       "7. male\n",
       "8. male\n",
       "9. male\n",
       "10. male\n",
       "\n",
       "\n",
       "\n",
       "**Levels**: 1. 'female'\n",
       "2. 'male'\n",
       "3. 'Prefer not to say'\n",
       "4. 'Unknown'\n",
       "\n",
       "\n"
      ],
      "text/plain": [
       " [1] male male male male male male male male male male\n",
       "Levels: female male Prefer not to say Unknown"
      ]
     },
     "metadata": {},
     "output_type": "display_data"
    }
   ],
   "source": [
    "gender_factor[2]                      # Get the second element\n",
    "gender_factor[9:15]                   # Get a slice of elements\n",
    "gender_factor[c(3,6,12)]              # Get a selection of specific elements\n",
    "gender_factor[gender_factor==\"male\"]  # Get all values where the level equals male"
   ]
  },
  {
   "cell_type": "markdown",
   "id": "06ece803",
   "metadata": {},
   "source": [
    "**Factor Summary Functions**"
   ]
  },
  {
   "cell_type": "code",
   "execution_count": 20,
   "id": "2ea43f5d",
   "metadata": {},
   "outputs": [
    {
     "data": {
      "text/html": [
       "<style>\n",
       ".dl-inline {width: auto; margin:0; padding: 0}\n",
       ".dl-inline>dt, .dl-inline>dd {float: none; width: auto; display: inline-block}\n",
       ".dl-inline>dt::after {content: \":\\0020\"; padding-right: .5ex}\n",
       ".dl-inline>dt:not(:first-of-type) {padding-left: .5ex}\n",
       "</style><dl class=dl-inline><dt>female</dt><dd>10</dd><dt>male</dt><dd>10</dd><dt>Prefer not to say</dt><dd>3</dd><dt>Unknown</dt><dd>6</dd></dl>\n"
      ],
      "text/latex": [
       "\\begin{description*}\n",
       "\\item[female] 10\n",
       "\\item[male] 10\n",
       "\\item[Prefer not to say] 3\n",
       "\\item[Unknown] 6\n",
       "\\end{description*}\n"
      ],
      "text/markdown": [
       "female\n",
       ":   10male\n",
       ":   10Prefer not to say\n",
       ":   3Unknown\n",
       ":   6\n",
       "\n"
      ],
      "text/plain": [
       "           female              male Prefer not to say           Unknown \n",
       "               10                10                 3                 6 "
      ]
     },
     "metadata": {},
     "output_type": "display_data"
    },
    {
     "name": "stdout",
     "output_type": "stream",
     "text": [
      " Factor w/ 4 levels \"female\",\"male\",..: 2 2 2 2 2 2 2 2 2 2 ...\n"
     ]
    },
    {
     "data": {
      "text/html": [
       "29"
      ],
      "text/latex": [
       "29"
      ],
      "text/markdown": [
       "29"
      ],
      "text/plain": [
       "[1] 29"
      ]
     },
     "metadata": {},
     "output_type": "display_data"
    },
    {
     "data": {
      "text/plain": [
       "gender_factor\n",
       "           female              male Prefer not to say           Unknown \n",
       "               10                10                 3                 6 "
      ]
     },
     "metadata": {},
     "output_type": "display_data"
    }
   ],
   "source": [
    "summary(gender_factor)  # summary() returns counts for each level\n",
    "str(gender_factor)     # str() shows the factor's stucture\n",
    "length(gender_factor)  # Get the length of the factor\n",
    "table(gender_factor)   # table() creates a data table of counts"
   ]
  },
  {
   "cell_type": "code",
   "execution_count": null,
   "id": "33355f12",
   "metadata": {},
   "outputs": [],
   "source": []
  },
  {
   "cell_type": "code",
   "execution_count": 21,
   "id": "d108b75d",
   "metadata": {},
   "outputs": [
    {
     "data": {
      "text/html": [
       "<style>\n",
       ".list-inline {list-style: none; margin:0; padding: 0}\n",
       ".list-inline>li {display: inline-block}\n",
       ".list-inline>li:not(:last-child)::after {content: \"\\00b7\"; padding: 0 .5ex}\n",
       "</style>\n",
       "<ol class=list-inline><li>python</li><li>python</li><li>python</li><li>python</li><li>python</li><li>python</li><li>python</li><li>python</li><li>python</li><li>python</li><li>python</li><li>python</li><li>python</li><li>python</li><li>python</li><li>R</li><li>R</li><li>R</li><li>R</li><li>R</li><li>R</li><li>R</li><li>R</li><li>R</li><li>R</li><li>SQL</li><li>SQL</li><li>SQL</li><li>SQL</li><li>SQL</li></ol>\n",
       "\n",
       "<details>\n",
       "\t<summary style=display:list-item;cursor:pointer>\n",
       "\t\t<strong>Levels</strong>:\n",
       "\t</summary>\n",
       "\t<style>\n",
       "\t.list-inline {list-style: none; margin:0; padding: 0}\n",
       "\t.list-inline>li {display: inline-block}\n",
       "\t.list-inline>li:not(:last-child)::after {content: \"\\00b7\"; padding: 0 .5ex}\n",
       "\t</style>\n",
       "\t<ol class=list-inline><li>'python'</li><li>'R'</li><li>'SQL'</li></ol>\n",
       "</details>"
      ],
      "text/latex": [
       "\\begin{enumerate*}\n",
       "\\item python\n",
       "\\item python\n",
       "\\item python\n",
       "\\item python\n",
       "\\item python\n",
       "\\item python\n",
       "\\item python\n",
       "\\item python\n",
       "\\item python\n",
       "\\item python\n",
       "\\item python\n",
       "\\item python\n",
       "\\item python\n",
       "\\item python\n",
       "\\item python\n",
       "\\item R\n",
       "\\item R\n",
       "\\item R\n",
       "\\item R\n",
       "\\item R\n",
       "\\item R\n",
       "\\item R\n",
       "\\item R\n",
       "\\item R\n",
       "\\item R\n",
       "\\item SQL\n",
       "\\item SQL\n",
       "\\item SQL\n",
       "\\item SQL\n",
       "\\item SQL\n",
       "\\end{enumerate*}\n",
       "\n",
       "\\emph{Levels}: \\begin{enumerate*}\n",
       "\\item 'python'\n",
       "\\item 'R'\n",
       "\\item 'SQL'\n",
       "\\end{enumerate*}\n"
      ],
      "text/markdown": [
       "1. python\n",
       "2. python\n",
       "3. python\n",
       "4. python\n",
       "5. python\n",
       "6. python\n",
       "7. python\n",
       "8. python\n",
       "9. python\n",
       "10. python\n",
       "11. python\n",
       "12. python\n",
       "13. python\n",
       "14. python\n",
       "15. python\n",
       "16. R\n",
       "17. R\n",
       "18. R\n",
       "19. R\n",
       "20. R\n",
       "21. R\n",
       "22. R\n",
       "23. R\n",
       "24. R\n",
       "25. R\n",
       "26. SQL\n",
       "27. SQL\n",
       "28. SQL\n",
       "29. SQL\n",
       "30. SQL\n",
       "\n",
       "\n",
       "\n",
       "**Levels**: 1. 'python'\n",
       "2. 'R'\n",
       "3. 'SQL'\n",
       "\n",
       "\n"
      ],
      "text/plain": [
       " [1] python python python python python python python python python python\n",
       "[11] python python python python python R      R      R      R      R     \n",
       "[21] R      R      R      R      R      SQL    SQL    SQL    SQL    SQL   \n",
       "Levels: python R SQL"
      ]
     },
     "metadata": {},
     "output_type": "display_data"
    }
   ],
   "source": [
    "language <- c(rep(\"python\",15),rep(\"R\",10),rep(\"SQL\",5))\n",
    "\n",
    "language_factor <- factor(language)\n",
    "language_factor"
   ]
  },
  {
   "cell_type": "code",
   "execution_count": null,
   "id": "bba70701",
   "metadata": {},
   "outputs": [],
   "source": []
  },
  {
   "cell_type": "code",
   "execution_count": 22,
   "id": "8002d38f",
   "metadata": {},
   "outputs": [
    {
     "data": {
      "text/html": [
       "<style>\n",
       ".dl-inline {width: auto; margin:0; padding: 0}\n",
       ".dl-inline>dt, .dl-inline>dd {float: none; width: auto; display: inline-block}\n",
       ".dl-inline>dt::after {content: \":\\0020\"; padding-right: .5ex}\n",
       ".dl-inline>dt:not(:first-of-type) {padding-left: .5ex}\n",
       "</style><dl class=dl-inline><dt>python</dt><dd>15</dd><dt>R</dt><dd>10</dd><dt>SQL</dt><dd>5</dd></dl>\n"
      ],
      "text/latex": [
       "\\begin{description*}\n",
       "\\item[python] 15\n",
       "\\item[R] 10\n",
       "\\item[SQL] 5\n",
       "\\end{description*}\n"
      ],
      "text/markdown": [
       "python\n",
       ":   15R\n",
       ":   10SQL\n",
       ":   5\n",
       "\n"
      ],
      "text/plain": [
       "python      R    SQL \n",
       "    15     10      5 "
      ]
     },
     "metadata": {},
     "output_type": "display_data"
    }
   ],
   "source": [
    "summary(language_factor)"
   ]
  },
  {
   "cell_type": "code",
   "execution_count": null,
   "id": "98e2a223",
   "metadata": {},
   "outputs": [],
   "source": []
  },
  {
   "cell_type": "code",
   "execution_count": null,
   "id": "b3f6f953",
   "metadata": {},
   "outputs": [],
   "source": []
  },
  {
   "cell_type": "code",
   "execution_count": null,
   "id": "fc6fcc14",
   "metadata": {},
   "outputs": [],
   "source": []
  }
 ],
 "metadata": {
  "kernelspec": {
   "display_name": "R",
   "language": "R",
   "name": "ir"
  },
  "language_info": {
   "codemirror_mode": "r",
   "file_extension": ".r",
   "mimetype": "text/x-r-source",
   "name": "R",
   "pygments_lexer": "r",
   "version": "4.1.2"
  }
 },
 "nbformat": 4,
 "nbformat_minor": 5
}
