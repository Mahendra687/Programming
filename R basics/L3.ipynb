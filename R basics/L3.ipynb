{
 "cells": [
  {
   "cell_type": "markdown",
   "id": "9435145c",
   "metadata": {},
   "source": [
    "### Variables"
   ]
  },
  {
   "cell_type": "code",
   "execution_count": 1,
   "id": "8a2a6b06",
   "metadata": {},
   "outputs": [
    {
     "data": {
      "text/html": [
       "10"
      ],
      "text/latex": [
       "10"
      ],
      "text/markdown": [
       "10"
      ],
      "text/plain": [
       "[1] 10"
      ]
     },
     "metadata": {},
     "output_type": "display_data"
    },
    {
     "data": {
      "text/html": [
       "'R is funnnnnnnn'"
      ],
      "text/latex": [
       "'R is funnnnnnnn'"
      ],
      "text/markdown": [
       "'R is funnnnnnnn'"
      ],
      "text/plain": [
       "[1] \"R is funnnnnnnn\""
      ]
     },
     "metadata": {},
     "output_type": "display_data"
    },
    {
     "data": {
      "text/html": [
       "TRUE"
      ],
      "text/latex": [
       "TRUE"
      ],
      "text/markdown": [
       "TRUE"
      ],
      "text/plain": [
       "[1] TRUE"
      ]
     },
     "metadata": {},
     "output_type": "display_data"
    }
   ],
   "source": [
    "x = 10\n",
    "y = \"R is funnnnnnnn\"\n",
    "z = (sqrt(144) == 12)\n",
    "\n",
    "\n",
    "\n",
    "x\n",
    "y\n",
    "z"
   ]
  },
  {
   "cell_type": "code",
   "execution_count": 2,
   "id": "8e2a74af",
   "metadata": {},
   "outputs": [
    {
     "data": {
      "text/html": [
       "8"
      ],
      "text/latex": [
       "8"
      ],
      "text/markdown": [
       "8"
      ],
      "text/plain": [
       "[1] 8"
      ]
     },
     "metadata": {},
     "output_type": "display_data"
    },
    {
     "data": {
      "text/html": [
       "10"
      ],
      "text/latex": [
       "10"
      ],
      "text/markdown": [
       "10"
      ],
      "text/plain": [
       "[1] 10"
      ]
     },
     "metadata": {},
     "output_type": "display_data"
    }
   ],
   "source": [
    "p = 8  # This works, but it looks messy.\n",
    "p   \n",
    "\n",
    "p = 10 # Use spaces instead!\n",
    "p"
   ]
  },
  {
   "cell_type": "code",
   "execution_count": 3,
   "id": "8c375cb3",
   "metadata": {},
   "outputs": [
    {
     "data": {
      "text/html": [
       "20"
      ],
      "text/latex": [
       "20"
      ],
      "text/markdown": [
       "20"
      ],
      "text/plain": [
       "[1] 20"
      ]
     },
     "metadata": {},
     "output_type": "display_data"
    }
   ],
   "source": [
    "x + p"
   ]
  },
  {
   "cell_type": "code",
   "execution_count": 4,
   "id": "b15bd472",
   "metadata": {},
   "outputs": [
    {
     "data": {
      "text/html": [
       "23.46"
      ],
      "text/latex": [
       "23.46"
      ],
      "text/markdown": [
       "23.46"
      ],
      "text/plain": [
       "[1] 23.46"
      ]
     },
     "metadata": {},
     "output_type": "display_data"
    }
   ],
   "source": [
    "round(23.4567, digits = 2)"
   ]
  },
  {
   "cell_type": "code",
   "execution_count": 5,
   "id": "943a3ed7",
   "metadata": {},
   "outputs": [
    {
     "data": {
      "text/html": [
       "23.5"
      ],
      "text/latex": [
       "23.5"
      ],
      "text/markdown": [
       "23.5"
      ],
      "text/plain": [
       "[1] 23.5"
      ]
     },
     "metadata": {},
     "output_type": "display_data"
    }
   ],
   "source": [
    "round(23.4567, digits = 1)"
   ]
  },
  {
   "cell_type": "code",
   "execution_count": 7,
   "id": "924b9dec",
   "metadata": {},
   "outputs": [],
   "source": [
    "# digits   # The variable digits doesn't exist"
   ]
  },
  {
   "cell_type": "code",
   "execution_count": 11,
   "id": "60884600",
   "metadata": {},
   "outputs": [
    {
     "data": {
      "text/html": [
       "0"
      ],
      "text/latex": [
       "0"
      ],
      "text/markdown": [
       "0"
      ],
      "text/plain": [
       "[1] 0"
      ]
     },
     "metadata": {},
     "output_type": "display_data"
    },
    {
     "data": {
      "text/html": [
       "-2"
      ],
      "text/latex": [
       "-2"
      ],
      "text/markdown": [
       "-2"
      ],
      "text/plain": [
       "[1] -2"
      ]
     },
     "metadata": {},
     "output_type": "display_data"
    }
   ],
   "source": [
    "round(23.4567, digits <- -2)\n",
    "digits"
   ]
  },
  {
   "cell_type": "code",
   "execution_count": 9,
   "id": "75365b79",
   "metadata": {},
   "outputs": [
    {
     "data": {
      "text/html": [
       "2"
      ],
      "text/latex": [
       "2"
      ],
      "text/markdown": [
       "2"
      ],
      "text/plain": [
       "[1] 2"
      ]
     },
     "metadata": {},
     "output_type": "display_data"
    },
    {
     "data": {
      "text/html": [
       "3"
      ],
      "text/latex": [
       "3"
      ],
      "text/markdown": [
       "3"
      ],
      "text/plain": [
       "[1] 3"
      ]
     },
     "metadata": {},
     "output_type": "display_data"
    }
   ],
   "source": [
    "# Example of using the assign function\n",
    "assign(\"dogs\", 2)\n",
    "assign(\"cats\", 3)\n",
    "\n",
    "\n",
    "dogs\n",
    "cats"
   ]
  },
  {
   "cell_type": "markdown",
   "id": "a528f2b4",
   "metadata": {},
   "source": [
    "Done:) @Mahendra | SCIS, JNU"
   ]
  },
  {
   "cell_type": "code",
   "execution_count": null,
   "id": "060bab5c",
   "metadata": {},
   "outputs": [],
   "source": []
  }
 ],
 "metadata": {
  "kernelspec": {
   "display_name": "R",
   "language": "R",
   "name": "ir"
  },
  "language_info": {
   "codemirror_mode": "r",
   "file_extension": ".r",
   "mimetype": "text/x-r-source",
   "name": "R",
   "pygments_lexer": "r",
   "version": "4.1.2"
  }
 },
 "nbformat": 4,
 "nbformat_minor": 5
}
