{
 "cells": [
  {
   "cell_type": "markdown",
   "id": "bb412a5c",
   "metadata": {},
   "source": [
    "<div align=\"center\">\n",
    "    <h4>Data Structures: List </h4>\n",
    "</div>"
   ]
  },
  {
   "cell_type": "code",
   "execution_count": 1,
   "id": "ed235f6e",
   "metadata": {},
   "outputs": [
    {
     "name": "stdout",
     "output_type": "stream",
     "text": [
      "[[1]]\n",
      "[1] 1 2 3\n",
      "\n",
      "[[2]]\n",
      "[1] \"R is Fun\"\n",
      "\n",
      "[[3]]\n",
      "     [,1] [,2] [,3]\n",
      "[1,]    1    3    5\n",
      "[2,]    2    4    6\n",
      "\n"
     ]
    }
   ],
   "source": [
    "# Create a new list containing a vector, text and a matrix\n",
    "new_list <- list(c(1,2,3), \"R is Fun\", matrix(seq(1,6,1),2,3))\n",
    "print(new_list)"
   ]
  },
  {
   "cell_type": "code",
   "execution_count": 2,
   "id": "8d670cd2",
   "metadata": {},
   "outputs": [
    {
     "data": {
      "text/html": [
       "<dl>\n",
       "\t<dt>$vector</dt>\n",
       "\t\t<dd><style>\n",
       ".list-inline {list-style: none; margin:0; padding: 0}\n",
       ".list-inline>li {display: inline-block}\n",
       ".list-inline>li:not(:last-child)::after {content: \"\\00b7\"; padding: 0 .5ex}\n",
       "</style>\n",
       "<ol class=list-inline><li>1</li><li>2</li><li>3</li></ol>\n",
       "</dd>\n",
       "\t<dt>$char_string</dt>\n",
       "\t\t<dd>'R is Fun'</dd>\n",
       "\t<dt>$my_matrix</dt>\n",
       "\t\t<dd><table class=\"dataframe\">\n",
       "<caption>A matrix: 2 × 3 of type dbl</caption>\n",
       "<tbody>\n",
       "\t<tr><td>1</td><td>3</td><td>5</td></tr>\n",
       "\t<tr><td>2</td><td>4</td><td>6</td></tr>\n",
       "</tbody>\n",
       "</table>\n",
       "</dd>\n",
       "</dl>\n"
      ],
      "text/latex": [
       "\\begin{description}\n",
       "\\item[\\$vector] \\begin{enumerate*}\n",
       "\\item 1\n",
       "\\item 2\n",
       "\\item 3\n",
       "\\end{enumerate*}\n",
       "\n",
       "\\item[\\$char\\_string] 'R is Fun'\n",
       "\\item[\\$my\\_matrix] A matrix: 2 × 3 of type dbl\n",
       "\\begin{tabular}{lll}\n",
       "\t 1 & 3 & 5\\\\\n",
       "\t 2 & 4 & 6\\\\\n",
       "\\end{tabular}\n",
       "\n",
       "\\end{description}\n"
      ],
      "text/markdown": [
       "$vector\n",
       ":   1. 1\n",
       "2. 2\n",
       "3. 3\n",
       "\n",
       "\n",
       "\n",
       "$char_string\n",
       ":   'R is Fun'\n",
       "$my_matrix\n",
       ":   \n",
       "A matrix: 2 × 3 of type dbl\n",
       "\n",
       "| 1 | 3 | 5 |\n",
       "| 2 | 4 | 6 |\n",
       "\n",
       "\n",
       "\n",
       "\n"
      ],
      "text/plain": [
       "$vector\n",
       "[1] 1 2 3\n",
       "\n",
       "$char_string\n",
       "[1] \"R is Fun\"\n",
       "\n",
       "$my_matrix\n",
       "     [,1] [,2] [,3]\n",
       "[1,]    1    3    5\n",
       "[2,]    2    4    6\n"
      ]
     },
     "metadata": {},
     "output_type": "display_data"
    }
   ],
   "source": [
    "# Create the same list but give the objects names\n",
    "new_list <- list(vector = c(1,2,3), char_string = \"R is Fun\", my_matrix = matrix(seq(1,6,1),2,3))\n",
    "new_list"
   ]
  },
  {
   "cell_type": "code",
   "execution_count": 3,
   "id": "23477cd0",
   "metadata": {},
   "outputs": [
    {
     "data": {
      "text/html": [
       "<style>\n",
       ".list-inline {list-style: none; margin:0; padding: 0}\n",
       ".list-inline>li {display: inline-block}\n",
       ".list-inline>li:not(:last-child)::after {content: \"\\00b7\"; padding: 0 .5ex}\n",
       "</style>\n",
       "<ol class=list-inline><li>'vector'</li><li>'char_string'</li><li>'my_matrix'</li></ol>\n"
      ],
      "text/latex": [
       "\\begin{enumerate*}\n",
       "\\item 'vector'\n",
       "\\item 'char\\_string'\n",
       "\\item 'my\\_matrix'\n",
       "\\end{enumerate*}\n"
      ],
      "text/markdown": [
       "1. 'vector'\n",
       "2. 'char_string'\n",
       "3. 'my_matrix'\n",
       "\n",
       "\n"
      ],
      "text/plain": [
       "[1] \"vector\"      \"char_string\" \"my_matrix\"  "
      ]
     },
     "metadata": {},
     "output_type": "display_data"
    },
    {
     "data": {
      "text/html": [
       "<style>\n",
       ".list-inline {list-style: none; margin:0; padding: 0}\n",
       ".list-inline>li {display: inline-block}\n",
       ".list-inline>li:not(:last-child)::after {content: \"\\00b7\"; padding: 0 .5ex}\n",
       "</style>\n",
       "<ol class=list-inline><li>'obj1'</li><li>'obj2'</li><li>'obj3'</li></ol>\n"
      ],
      "text/latex": [
       "\\begin{enumerate*}\n",
       "\\item 'obj1'\n",
       "\\item 'obj2'\n",
       "\\item 'obj3'\n",
       "\\end{enumerate*}\n"
      ],
      "text/markdown": [
       "1. 'obj1'\n",
       "2. 'obj2'\n",
       "3. 'obj3'\n",
       "\n",
       "\n"
      ],
      "text/plain": [
       "[1] \"obj1\" \"obj2\" \"obj3\""
      ]
     },
     "metadata": {},
     "output_type": "display_data"
    }
   ],
   "source": [
    "names(new_list) # access names\n",
    "names(new_list) <- c(\"obj1\", \"obj2\", \"obj3\")\n",
    "names(new_list)"
   ]
  },
  {
   "cell_type": "markdown",
   "id": "fd9ab39f",
   "metadata": {},
   "source": [
    "1. List of biological data: You can create a list to store different types of biological data related to your analysis. Here's an example:"
   ]
  },
  {
   "cell_type": "code",
   "execution_count": 6,
   "id": "8db3327d",
   "metadata": {},
   "outputs": [
    {
     "data": {
      "text/html": [
       "<dl>\n",
       "\t<dt>$name</dt>\n",
       "\t\t<dd><style>\n",
       ".list-inline {list-style: none; margin:0; padding: 0}\n",
       ".list-inline>li {display: inline-block}\n",
       ".list-inline>li:not(:last-child)::after {content: \"\\00b7\"; padding: 0 .5ex}\n",
       "</style>\n",
       "<ol class=list-inline><li>'GeneA'</li><li>'GeneB'</li><li>'GeneC'</li></ol>\n",
       "</dd>\n",
       "\t<dt>$sequence</dt>\n",
       "\t\t<dd><style>\n",
       ".list-inline {list-style: none; margin:0; padding: 0}\n",
       ".list-inline>li {display: inline-block}\n",
       ".list-inline>li:not(:last-child)::after {content: \"\\00b7\"; padding: 0 .5ex}\n",
       "</style>\n",
       "<ol class=list-inline><li>'ATCGATCG'</li><li>'TGCAGCA'</li><li>'GGGCCCG'</li></ol>\n",
       "</dd>\n",
       "\t<dt>$role</dt>\n",
       "\t\t<dd><style>\n",
       ".list-inline {list-style: none; margin:0; padding: 0}\n",
       ".list-inline>li {display: inline-block}\n",
       ".list-inline>li:not(:last-child)::after {content: \"\\00b7\"; padding: 0 .5ex}\n",
       "</style>\n",
       "<ol class=list-inline><li>'Transcription factor'</li><li>'Enzyme'</li><li>'Unknown'</li></ol>\n",
       "</dd>\n",
       "</dl>\n"
      ],
      "text/latex": [
       "\\begin{description}\n",
       "\\item[\\$name] \\begin{enumerate*}\n",
       "\\item 'GeneA'\n",
       "\\item 'GeneB'\n",
       "\\item 'GeneC'\n",
       "\\end{enumerate*}\n",
       "\n",
       "\\item[\\$sequence] \\begin{enumerate*}\n",
       "\\item 'ATCGATCG'\n",
       "\\item 'TGCAGCA'\n",
       "\\item 'GGGCCCG'\n",
       "\\end{enumerate*}\n",
       "\n",
       "\\item[\\$role] \\begin{enumerate*}\n",
       "\\item 'Transcription factor'\n",
       "\\item 'Enzyme'\n",
       "\\item 'Unknown'\n",
       "\\end{enumerate*}\n",
       "\n",
       "\\end{description}\n"
      ],
      "text/markdown": [
       "$name\n",
       ":   1. 'GeneA'\n",
       "2. 'GeneB'\n",
       "3. 'GeneC'\n",
       "\n",
       "\n",
       "\n",
       "$sequence\n",
       ":   1. 'ATCGATCG'\n",
       "2. 'TGCAGCA'\n",
       "3. 'GGGCCCG'\n",
       "\n",
       "\n",
       "\n",
       "$role\n",
       ":   1. 'Transcription factor'\n",
       "2. 'Enzyme'\n",
       "3. 'Unknown'\n",
       "\n",
       "\n",
       "\n",
       "\n",
       "\n"
      ],
      "text/plain": [
       "$name\n",
       "[1] \"GeneA\" \"GeneB\" \"GeneC\"\n",
       "\n",
       "$sequence\n",
       "[1] \"ATCGATCG\" \"TGCAGCA\"  \"GGGCCCG\" \n",
       "\n",
       "$role\n",
       "[1] \"Transcription factor\" \"Enzyme\"               \"Unknown\"             \n"
      ]
     },
     "metadata": {},
     "output_type": "display_data"
    }
   ],
   "source": [
    "# List containing gene names, sequences, and functions\n",
    "gene_list <- list(name = c('GeneA', 'GeneB', 'GeneC'),\n",
    "                 sequence = c('ATCGATCG', 'TGCAGCA','GGGCCCG'),\n",
    "                 role = c('Transcription factor', 'Enzyme', \"Unknown\"))\n",
    "gene_list"
   ]
  },
  {
   "cell_type": "markdown",
   "id": "600288b5",
   "metadata": {},
   "source": [
    "2. List of results from bioinformatics tools:Many bioinformatics tools in R packages output results as lists. Here's a generic example:"
   ]
  },
  {
   "cell_type": "code",
   "execution_count": 7,
   "id": "848234ec",
   "metadata": {},
   "outputs": [],
   "source": [
    "# Differential expression analysis with DESeq2 package\n",
    "#library(DESeq2)\n",
    "\n",
    "# Load data (replace with your actual data)\n",
    "# ...\n",
    "\n",
    "# Differential expression results\n",
    "#de_results <- DESeq(dds)\n",
    "\n",
    "# This will be a list containing various statistics"
   ]
  },
  {
   "cell_type": "markdown",
   "id": "d0fe6fa6",
   "metadata": {},
   "source": [
    "**List Indexing**"
   ]
  },
  {
   "cell_type": "code",
   "execution_count": 8,
   "id": "fee87dea",
   "metadata": {},
   "outputs": [
    {
     "data": {
      "text/html": [
       "<dl>\n",
       "\t<dt>$obj1</dt>\n",
       "\t\t<dd><style>\n",
       ".list-inline {list-style: none; margin:0; padding: 0}\n",
       ".list-inline>li {display: inline-block}\n",
       ".list-inline>li:not(:last-child)::after {content: \"\\00b7\"; padding: 0 .5ex}\n",
       "</style>\n",
       "<ol class=list-inline><li>1</li><li>2</li><li>3</li></ol>\n",
       "</dd>\n",
       "\t<dt>$obj2</dt>\n",
       "\t\t<dd>'R is Fun'</dd>\n",
       "</dl>\n"
      ],
      "text/latex": [
       "\\begin{description}\n",
       "\\item[\\$obj1] \\begin{enumerate*}\n",
       "\\item 1\n",
       "\\item 2\n",
       "\\item 3\n",
       "\\end{enumerate*}\n",
       "\n",
       "\\item[\\$obj2] 'R is Fun'\n",
       "\\end{description}\n"
      ],
      "text/markdown": [
       "$obj1\n",
       ":   1. 1\n",
       "2. 2\n",
       "3. 3\n",
       "\n",
       "\n",
       "\n",
       "$obj2\n",
       ":   'R is Fun'\n",
       "\n",
       "\n"
      ],
      "text/plain": [
       "$obj1\n",
       "[1] 1 2 3\n",
       "\n",
       "$obj2\n",
       "[1] \"R is Fun\"\n"
      ]
     },
     "metadata": {},
     "output_type": "display_data"
    },
    {
     "data": {
      "text/html": [
       "<strong>$obj2</strong> = 'R is Fun'"
      ],
      "text/latex": [
       "\\textbf{\\$obj2} = 'R is Fun'"
      ],
      "text/markdown": [
       "**$obj2** = 'R is Fun'"
      ],
      "text/plain": [
       "$obj2\n",
       "[1] \"R is Fun\"\n"
      ]
     },
     "metadata": {},
     "output_type": "display_data"
    },
    {
     "data": {
      "text/html": [
       "'list'"
      ],
      "text/latex": [
       "'list'"
      ],
      "text/markdown": [
       "'list'"
      ],
      "text/plain": [
       "[1] \"list\""
      ]
     },
     "metadata": {},
     "output_type": "display_data"
    }
   ],
   "source": [
    "new_list[1:2]       # Take a slice of the first 2 objects\n",
    "\n",
    "new_list[2]         # Take a slice that contains only the second object\n",
    "\n",
    "typeof(new_list[2]) # Check the type of the single-object slice"
   ]
  },
  {
   "cell_type": "code",
   "execution_count": 9,
   "id": "500d14e1",
   "metadata": {},
   "outputs": [
    {
     "data": {
      "text/html": [
       "'R is Fun'"
      ],
      "text/latex": [
       "'R is Fun'"
      ],
      "text/markdown": [
       "'R is Fun'"
      ],
      "text/plain": [
       "[1] \"R is Fun\""
      ]
     },
     "metadata": {},
     "output_type": "display_data"
    },
    {
     "data": {
      "text/html": [
       "'character'"
      ],
      "text/latex": [
       "'character'"
      ],
      "text/markdown": [
       "'character'"
      ],
      "text/plain": [
       "[1] \"character\""
      ]
     },
     "metadata": {},
     "output_type": "display_data"
    }
   ],
   "source": [
    "new_list[[2]]          # Access the second list object\n",
    "\n",
    "typeof(new_list[[2]])  # Check the object's type"
   ]
  },
  {
   "cell_type": "code",
   "execution_count": 10,
   "id": "aecc651d",
   "metadata": {},
   "outputs": [
    {
     "data": {
      "text/html": [
       "<table class=\"dataframe\">\n",
       "<caption>A matrix: 2 × 3 of type dbl</caption>\n",
       "<tbody>\n",
       "\t<tr><td>1</td><td>3</td><td>5</td></tr>\n",
       "\t<tr><td>2</td><td>4</td><td>6</td></tr>\n",
       "</tbody>\n",
       "</table>\n"
      ],
      "text/latex": [
       "A matrix: 2 × 3 of type dbl\n",
       "\\begin{tabular}{lll}\n",
       "\t 1 & 3 & 5\\\\\n",
       "\t 2 & 4 & 6\\\\\n",
       "\\end{tabular}\n"
      ],
      "text/markdown": [
       "\n",
       "A matrix: 2 × 3 of type dbl\n",
       "\n",
       "| 1 | 3 | 5 |\n",
       "| 2 | 4 | 6 |\n",
       "\n"
      ],
      "text/plain": [
       "     [,1] [,2] [,3]\n",
       "[1,] 1    3    5   \n",
       "[2,] 2    4    6   "
      ]
     },
     "metadata": {},
     "output_type": "display_data"
    },
    {
     "data": {
      "text/html": [
       "<table class=\"dataframe\">\n",
       "<caption>A matrix: 2 × 3 of type dbl</caption>\n",
       "<tbody>\n",
       "\t<tr><td>1</td><td>3</td><td>5</td></tr>\n",
       "\t<tr><td>2</td><td>4</td><td>6</td></tr>\n",
       "</tbody>\n",
       "</table>\n"
      ],
      "text/latex": [
       "A matrix: 2 × 3 of type dbl\n",
       "\\begin{tabular}{lll}\n",
       "\t 1 & 3 & 5\\\\\n",
       "\t 2 & 4 & 6\\\\\n",
       "\\end{tabular}\n"
      ],
      "text/markdown": [
       "\n",
       "A matrix: 2 × 3 of type dbl\n",
       "\n",
       "| 1 | 3 | 5 |\n",
       "| 2 | 4 | 6 |\n",
       "\n"
      ],
      "text/plain": [
       "     [,1] [,2] [,3]\n",
       "[1,] 1    3    5   \n",
       "[2,] 2    4    6   "
      ]
     },
     "metadata": {},
     "output_type": "display_data"
    }
   ],
   "source": [
    "new_list[[\"obj3\"]]\n",
    "\n",
    "new_list$obj3"
   ]
  },
  {
   "cell_type": "code",
   "execution_count": 11,
   "id": "2abcd97f",
   "metadata": {},
   "outputs": [
    {
     "data": {
      "text/html": [
       "4"
      ],
      "text/latex": [
       "4"
      ],
      "text/markdown": [
       "4"
      ],
      "text/plain": [
       "[1] 4"
      ]
     },
     "metadata": {},
     "output_type": "display_data"
    }
   ],
   "source": [
    "# Get obj3 from the list and then access row 2 column 2\n",
    "new_list[[\"obj3\"]][2,2]"
   ]
  },
  {
   "cell_type": "code",
   "execution_count": 12,
   "id": "de37969f",
   "metadata": {},
   "outputs": [
    {
     "data": {
      "text/html": [
       "3"
      ],
      "text/latex": [
       "3"
      ],
      "text/markdown": [
       "3"
      ],
      "text/plain": [
       "[1] 3"
      ]
     },
     "metadata": {},
     "output_type": "display_data"
    },
    {
     "name": "stdout",
     "output_type": "stream",
     "text": [
      "List of 3\n",
      " $ obj1: num [1:3] 1 2 3\n",
      " $ obj2: chr \"R is Fun\"\n",
      " $ obj3: num [1:2, 1:3] 1 2 3 4 5 6\n"
     ]
    },
    {
     "data": {
      "text/plain": [
       "     Length Class  Mode     \n",
       "obj1 3      -none- numeric  \n",
       "obj2 1      -none- character\n",
       "obj3 6      -none- numeric  "
      ]
     },
     "metadata": {},
     "output_type": "display_data"
    }
   ],
   "source": [
    "length(new_list)    # Return the length of a list\n",
    "  \n",
    "str(new_list)       # Get an overview of the list's structure\n",
    "\n",
    "summary(new_list)   # Get a summary of the list's contents"
   ]
  },
  {
   "cell_type": "code",
   "execution_count": 13,
   "id": "af0f4bad",
   "metadata": {},
   "outputs": [
    {
     "name": "stdout",
     "output_type": "stream",
     "text": [
      "List of 4\n",
      " $ obj1: num [1:3] 1 2 3\n",
      " $ obj2: chr \"R is Fun\"\n",
      " $ obj3: num [1:2, 1:3] 1 2 3 4 5 6\n",
      " $ obj4: chr \"Additional object\"\n"
     ]
    }
   ],
   "source": [
    "new_list$obj4 <- \"Additional object\"\n",
    "\n",
    "str(new_list)"
   ]
  },
  {
   "cell_type": "code",
   "execution_count": 14,
   "id": "34268365",
   "metadata": {},
   "outputs": [
    {
     "name": "stdout",
     "output_type": "stream",
     "text": [
      "List of 5\n",
      " $ obj1: num [1:3] 1 2 3\n",
      " $ obj2: chr \"R is Fun\"\n",
      " $ obj3: num [1:2, 1:3] 1 2 3 4 5 6\n",
      " $ obj4: chr \"Additional object\"\n",
      " $     : chr \"this object has no name!\"\n"
     ]
    }
   ],
   "source": [
    "new_list[[5]] <- \"this object has no name!\"\n",
    "\n",
    "str(new_list)"
   ]
  },
  {
   "cell_type": "code",
   "execution_count": 15,
   "id": "1bf6dac0",
   "metadata": {},
   "outputs": [
    {
     "name": "stdout",
     "output_type": "stream",
     "text": [
      "List of 7\n",
      " $ obj1: num [1:3] 1 2 3\n",
      " $ obj2: chr \"R is Fun\"\n",
      " $ obj3: num [1:2, 1:3] 1 2 3 4 5 6\n",
      " $ obj4: chr \"Additional object\"\n",
      " $     : chr \"this object has no name!\"\n",
      " $     : chr \"combine me\"\n",
      " $     : chr \"with new_list\"\n"
     ]
    }
   ],
   "source": [
    "second_list <- list(\"combine me\", \"with new_list\")\n",
    "combined_list <- c(new_list, second_list)\n",
    "\n",
    "str(combined_list)"
   ]
  },
  {
   "cell_type": "code",
   "execution_count": 16,
   "id": "8b501c29",
   "metadata": {},
   "outputs": [
    {
     "name": "stdout",
     "output_type": "stream",
     "text": [
      "List of 5\n",
      " $ obj2: chr \"R is Fun\"\n",
      " $ obj3: num [1:2, 1:3] 1 2 3 4 5 6\n",
      " $ obj4: chr \"Additional object\"\n",
      " $     : chr \"this object has no name!\"\n",
      " $     : chr \"combine me\"\n"
     ]
    }
   ],
   "source": [
    "combined_list[[7]] <- NULL   # remove item 7\n",
    "\n",
    "combined_list$obj1 <- NULL   # remove item the with the name obj1\n",
    "\n",
    "str(combined_list)"
   ]
  },
  {
   "cell_type": "markdown",
   "id": "42ba1de9",
   "metadata": {},
   "source": [
    "**Exercise #1:** Create a list called \"my_list\" from the 3 vectors provided below."
   ]
  },
  {
   "cell_type": "code",
   "execution_count": 18,
   "id": "3ec75a99",
   "metadata": {},
   "outputs": [
    {
     "name": "stdout",
     "output_type": "stream",
     "text": [
      "List of 3\n",
      " $ : chr \"My first list\"\n",
      " $ : chr [1:3] \"R\" \"is\" \"Fun!\"\n",
      " $ : int [1:3, 1:3] 1 2 3 4 5 6 7 8 9\n"
     ]
    }
   ],
   "source": [
    "a <- \"My first list\"\n",
    "b <- c(\"R\", \"is\", \"Fun!\")\n",
    "c <- matrix(1:9,3,3)\n",
    "\n",
    "mylist <- list(a,b,c)\n",
    "\n",
    "str(mylist)"
   ]
  },
  {
   "cell_type": "markdown",
   "id": "7388eab9",
   "metadata": {},
   "source": [
    "**Exercise #2:** Access the elements in rows 2 and 3 and columns 2 and 3 of the third object in my_list."
   ]
  },
  {
   "cell_type": "code",
   "execution_count": 20,
   "id": "39830632",
   "metadata": {},
   "outputs": [
    {
     "data": {
      "text/html": [
       "<table class=\"dataframe\">\n",
       "<caption>A matrix: 2 × 2 of type int</caption>\n",
       "<tbody>\n",
       "\t<tr><td>5</td><td>8</td></tr>\n",
       "\t<tr><td>6</td><td>9</td></tr>\n",
       "</tbody>\n",
       "</table>\n"
      ],
      "text/latex": [
       "A matrix: 2 × 2 of type int\n",
       "\\begin{tabular}{ll}\n",
       "\t 5 & 8\\\\\n",
       "\t 6 & 9\\\\\n",
       "\\end{tabular}\n"
      ],
      "text/markdown": [
       "\n",
       "A matrix: 2 × 2 of type int\n",
       "\n",
       "| 5 | 8 |\n",
       "| 6 | 9 |\n",
       "\n"
      ],
      "text/plain": [
       "     [,1] [,2]\n",
       "[1,] 5    8   \n",
       "[2,] 6    9   "
      ]
     },
     "metadata": {},
     "output_type": "display_data"
    }
   ],
   "source": [
    "mylist[[3]][2:3,2:3]"
   ]
  },
  {
   "cell_type": "markdown",
   "id": "eb1de30e",
   "metadata": {},
   "source": [
    "**Exercise #3:** Remove the first and third items from my_list."
   ]
  },
  {
   "cell_type": "code",
   "execution_count": 21,
   "id": "fdfd8d30",
   "metadata": {},
   "outputs": [
    {
     "data": {
      "text/html": [
       "<ol>\n",
       "\t<li><style>\n",
       ".list-inline {list-style: none; margin:0; padding: 0}\n",
       ".list-inline>li {display: inline-block}\n",
       ".list-inline>li:not(:last-child)::after {content: \"\\00b7\"; padding: 0 .5ex}\n",
       "</style>\n",
       "<ol class=list-inline><li>'R'</li><li>'is'</li><li>'Fun!'</li></ol>\n",
       "</li>\n",
       "</ol>\n"
      ],
      "text/latex": [
       "\\begin{enumerate}\n",
       "\\item \\begin{enumerate*}\n",
       "\\item 'R'\n",
       "\\item 'is'\n",
       "\\item 'Fun!'\n",
       "\\end{enumerate*}\n",
       "\n",
       "\\end{enumerate}\n"
      ],
      "text/markdown": [
       "1. 1. 'R'\n",
       "2. 'is'\n",
       "3. 'Fun!'\n",
       "\n",
       "\n",
       "\n",
       "\n",
       "\n"
      ],
      "text/plain": [
       "[[1]]\n",
       "[1] \"R\"    \"is\"   \"Fun!\"\n"
      ]
     },
     "metadata": {},
     "output_type": "display_data"
    }
   ],
   "source": [
    "mylist[c(1,3)] <- NULL\n",
    "mylist"
   ]
  },
  {
   "cell_type": "markdown",
   "id": "a92206db",
   "metadata": {},
   "source": [
    "**Mode:**"
   ]
  },
  {
   "cell_type": "markdown",
   "id": "76089137",
   "metadata": {},
   "source": [
    "| Object | Example | Mode |\n",
    "|---|---|---|\n",
    "| Number | 1.234 | numeric |\n",
    "| Vector of numbers | c(5, 6, 7, 8) | numeric |\n",
    "| Character string | \"India\" | character |\n",
    "| Vector of character strings | c(\"India\", \"USA\") | character |\n",
    "| Factor | factor(c(\"UP\", \"MP\")) | numeric |\n",
    "| List | list(\"India\", \"USA\") | list |\n",
    "| Data frame | data.frame(x = 1:2, y = c(\"India\", \"USA\")) | list |\n",
    "| Function | print | function |"
   ]
  },
  {
   "cell_type": "code",
   "execution_count": 1,
   "id": "012e9a16",
   "metadata": {},
   "outputs": [
    {
     "data": {
      "text/html": [
       "'numeric'"
      ],
      "text/latex": [
       "'numeric'"
      ],
      "text/markdown": [
       "'numeric'"
      ],
      "text/plain": [
       "[1] \"numeric\""
      ]
     },
     "metadata": {},
     "output_type": "display_data"
    }
   ],
   "source": [
    "mode(1.234)"
   ]
  },
  {
   "cell_type": "code",
   "execution_count": 3,
   "id": "be409c66",
   "metadata": {},
   "outputs": [
    {
     "data": {
      "text/html": [
       "'numeric'"
      ],
      "text/latex": [
       "'numeric'"
      ],
      "text/markdown": [
       "'numeric'"
      ],
      "text/plain": [
       "[1] \"numeric\""
      ]
     },
     "metadata": {},
     "output_type": "display_data"
    }
   ],
   "source": [
    "mode(c(5,6,7,8))"
   ]
  },
  {
   "cell_type": "code",
   "execution_count": 4,
   "id": "84707efc",
   "metadata": {},
   "outputs": [
    {
     "data": {
      "text/html": [
       "'character'"
      ],
      "text/latex": [
       "'character'"
      ],
      "text/markdown": [
       "'character'"
      ],
      "text/plain": [
       "[1] \"character\""
      ]
     },
     "metadata": {},
     "output_type": "display_data"
    }
   ],
   "source": [
    "mode(\"india\")"
   ]
  },
  {
   "cell_type": "code",
   "execution_count": 5,
   "id": "354c4e18",
   "metadata": {},
   "outputs": [
    {
     "data": {
      "text/html": [
       "'character'"
      ],
      "text/latex": [
       "'character'"
      ],
      "text/markdown": [
       "'character'"
      ],
      "text/plain": [
       "[1] \"character\""
      ]
     },
     "metadata": {},
     "output_type": "display_data"
    }
   ],
   "source": [
    "mode(c(\"Mahendra\", \"is\", \"Pro\", \"in\", \"R\"))"
   ]
  },
  {
   "cell_type": "code",
   "execution_count": 6,
   "id": "2261dbbb",
   "metadata": {},
   "outputs": [
    {
     "data": {
      "text/html": [
       "'character'"
      ],
      "text/latex": [
       "'character'"
      ],
      "text/markdown": [
       "'character'"
      ],
      "text/plain": [
       "[1] \"character\""
      ]
     },
     "metadata": {},
     "output_type": "display_data"
    }
   ],
   "source": [
    "mode(c(\"MP\",\"UP\"))"
   ]
  },
  {
   "cell_type": "code",
   "execution_count": 9,
   "id": "91f534c4",
   "metadata": {},
   "outputs": [
    {
     "data": {
      "text/html": [
       "'numeric'"
      ],
      "text/latex": [
       "'numeric'"
      ],
      "text/markdown": [
       "'numeric'"
      ],
      "text/plain": [
       "[1] \"numeric\""
      ]
     },
     "metadata": {},
     "output_type": "display_data"
    }
   ],
   "source": [
    "mode(factor(c(\"UP\",\"MP\")))"
   ]
  },
  {
   "cell_type": "code",
   "execution_count": 10,
   "id": "72fea4b0",
   "metadata": {},
   "outputs": [
    {
     "data": {
      "text/html": [
       "'list'"
      ],
      "text/latex": [
       "'list'"
      ],
      "text/markdown": [
       "'list'"
      ],
      "text/plain": [
       "[1] \"list\""
      ]
     },
     "metadata": {},
     "output_type": "display_data"
    }
   ],
   "source": [
    "mode(list(\"India\",\"USA\"))"
   ]
  },
  {
   "cell_type": "code",
   "execution_count": 11,
   "id": "caa1b45c",
   "metadata": {},
   "outputs": [
    {
     "data": {
      "text/html": [
       "'list'"
      ],
      "text/latex": [
       "'list'"
      ],
      "text/markdown": [
       "'list'"
      ],
      "text/plain": [
       "[1] \"list\""
      ]
     },
     "metadata": {},
     "output_type": "display_data"
    }
   ],
   "source": [
    "mode(data.frame(x=1:2, y=c(\"India\",\"USA\")))"
   ]
  },
  {
   "cell_type": "code",
   "execution_count": 12,
   "id": "7fd195cf",
   "metadata": {},
   "outputs": [
    {
     "data": {
      "text/html": [
       "'function'"
      ],
      "text/latex": [
       "'function'"
      ],
      "text/markdown": [
       "'function'"
      ],
      "text/plain": [
       "[1] \"function\""
      ]
     },
     "metadata": {},
     "output_type": "display_data"
    }
   ],
   "source": [
    "mode(print)"
   ]
  },
  {
   "cell_type": "code",
   "execution_count": 20,
   "id": "282d80d1",
   "metadata": {},
   "outputs": [
    {
     "data": {
      "text/html": [
       "<table class=\"dataframe\">\n",
       "<caption>A matrix: 2 × 2 of type int</caption>\n",
       "<tbody>\n",
       "\t<tr><td>1</td><td>2</td></tr>\n",
       "\t<tr><td>3</td><td>4</td></tr>\n",
       "</tbody>\n",
       "</table>\n"
      ],
      "text/latex": [
       "A matrix: 2 × 2 of type int\n",
       "\\begin{tabular}{ll}\n",
       "\t 1 & 2\\\\\n",
       "\t 3 & 4\\\\\n",
       "\\end{tabular}\n"
      ],
      "text/markdown": [
       "\n",
       "A matrix: 2 × 2 of type int\n",
       "\n",
       "| 1 | 2 |\n",
       "| 3 | 4 |\n",
       "\n"
      ],
      "text/plain": [
       "     [,1] [,2]\n",
       "[1,] 1    2   \n",
       "[2,] 3    4   "
      ]
     },
     "metadata": {},
     "output_type": "display_data"
    },
    {
     "data": {
      "text/html": [
       "<table class=\"dataframe\">\n",
       "<caption>A matrix: 2 × 2 of type int</caption>\n",
       "<tbody>\n",
       "\t<tr><td>5</td><td>6</td></tr>\n",
       "\t<tr><td>7</td><td>8</td></tr>\n",
       "</tbody>\n",
       "</table>\n"
      ],
      "text/latex": [
       "A matrix: 2 × 2 of type int\n",
       "\\begin{tabular}{ll}\n",
       "\t 5 & 6\\\\\n",
       "\t 7 & 8\\\\\n",
       "\\end{tabular}\n"
      ],
      "text/markdown": [
       "\n",
       "A matrix: 2 × 2 of type int\n",
       "\n",
       "| 5 | 6 |\n",
       "| 7 | 8 |\n",
       "\n"
      ],
      "text/plain": [
       "     [,1] [,2]\n",
       "[1,] 5    6   \n",
       "[2,] 7    8   "
      ]
     },
     "metadata": {},
     "output_type": "display_data"
    }
   ],
   "source": [
    "x1 <- matrix(nrow = 2, ncol = 2, data = 1:4, byrow = T)\n",
    "x2 <- matrix(nrow = 2, ncol = 2, data = 5:8, byrow = T)\n",
    "\n",
    "x1\n",
    "x2"
   ]
  },
  {
   "cell_type": "code",
   "execution_count": 15,
   "id": "b1d624da",
   "metadata": {},
   "outputs": [
    {
     "data": {
      "text/html": [
       "<table class=\"dataframe\">\n",
       "<caption>A matrix: 2 × 2 of type int</caption>\n",
       "<tbody>\n",
       "\t<tr><td> 6</td><td> 8</td></tr>\n",
       "\t<tr><td>10</td><td>12</td></tr>\n",
       "</tbody>\n",
       "</table>\n"
      ],
      "text/latex": [
       "A matrix: 2 × 2 of type int\n",
       "\\begin{tabular}{ll}\n",
       "\t  6 &  8\\\\\n",
       "\t 10 & 12\\\\\n",
       "\\end{tabular}\n"
      ],
      "text/markdown": [
       "\n",
       "A matrix: 2 × 2 of type int\n",
       "\n",
       "|  6 |  8 |\n",
       "| 10 | 12 |\n",
       "\n"
      ],
      "text/plain": [
       "     [,1] [,2]\n",
       "[1,]  6    8  \n",
       "[2,] 10   12  "
      ]
     },
     "metadata": {},
     "output_type": "display_data"
    }
   ],
   "source": [
    "x1+x2"
   ]
  },
  {
   "cell_type": "code",
   "execution_count": 18,
   "id": "6a0fbb6c",
   "metadata": {},
   "outputs": [
    {
     "data": {
      "text/html": [
       "<table class=\"dataframe\">\n",
       "<caption>A matrix: 2 × 2 of type chr</caption>\n",
       "<tbody>\n",
       "\t<tr><td>1    </td><td>2</td></tr>\n",
       "\t<tr><td>hello</td><td>4</td></tr>\n",
       "</tbody>\n",
       "</table>\n"
      ],
      "text/latex": [
       "A matrix: 2 × 2 of type chr\n",
       "\\begin{tabular}{ll}\n",
       "\t 1     & 2\\\\\n",
       "\t hello & 4\\\\\n",
       "\\end{tabular}\n"
      ],
      "text/markdown": [
       "\n",
       "A matrix: 2 × 2 of type chr\n",
       "\n",
       "| 1     | 2 |\n",
       "| hello | 4 |\n",
       "\n"
      ],
      "text/plain": [
       "     [,1]  [,2]\n",
       "[1,] 1     2   \n",
       "[2,] hello 4   "
      ]
     },
     "metadata": {},
     "output_type": "display_data"
    }
   ],
   "source": [
    "x1[2,1] <- \"hello\"\n",
    "x1"
   ]
  },
  {
   "cell_type": "code",
   "execution_count": 21,
   "id": "6e937385",
   "metadata": {},
   "outputs": [
    {
     "data": {
      "text/html": [
       "<table class=\"dataframe\">\n",
       "<caption>A matrix: 2 × 2 of type int</caption>\n",
       "<tbody>\n",
       "\t<tr><td>1</td><td>2</td></tr>\n",
       "\t<tr><td>3</td><td>4</td></tr>\n",
       "</tbody>\n",
       "</table>\n"
      ],
      "text/latex": [
       "A matrix: 2 × 2 of type int\n",
       "\\begin{tabular}{ll}\n",
       "\t 1 & 2\\\\\n",
       "\t 3 & 4\\\\\n",
       "\\end{tabular}\n"
      ],
      "text/markdown": [
       "\n",
       "A matrix: 2 × 2 of type int\n",
       "\n",
       "| 1 | 2 |\n",
       "| 3 | 4 |\n",
       "\n"
      ],
      "text/plain": [
       "     [,1] [,2]\n",
       "[1,] 1    2   \n",
       "[2,] 3    4   "
      ]
     },
     "metadata": {},
     "output_type": "display_data"
    }
   ],
   "source": [
    "x1"
   ]
  },
  {
   "cell_type": "code",
   "execution_count": 22,
   "id": "e5212864",
   "metadata": {},
   "outputs": [
    {
     "data": {
      "text/html": [
       "<table class=\"dataframe\">\n",
       "<caption>A matrix: 2 × 2 of type int</caption>\n",
       "<tbody>\n",
       "\t<tr><td>5</td><td>6</td></tr>\n",
       "\t<tr><td>7</td><td>8</td></tr>\n",
       "</tbody>\n",
       "</table>\n"
      ],
      "text/latex": [
       "A matrix: 2 × 2 of type int\n",
       "\\begin{tabular}{ll}\n",
       "\t 5 & 6\\\\\n",
       "\t 7 & 8\\\\\n",
       "\\end{tabular}\n"
      ],
      "text/markdown": [
       "\n",
       "A matrix: 2 × 2 of type int\n",
       "\n",
       "| 5 | 6 |\n",
       "| 7 | 8 |\n",
       "\n"
      ],
      "text/plain": [
       "     [,1] [,2]\n",
       "[1,] 5    6   \n",
       "[2,] 7    8   "
      ]
     },
     "metadata": {},
     "output_type": "display_data"
    }
   ],
   "source": [
    "x2"
   ]
  },
  {
   "cell_type": "code",
   "execution_count": 23,
   "id": "8ce5ece7",
   "metadata": {},
   "outputs": [
    {
     "data": {
      "text/html": [
       "<ol>\n",
       "\t<li><table class=\"dataframe\">\n",
       "<caption>A matrix: 2 × 2 of type int</caption>\n",
       "<tbody>\n",
       "\t<tr><td>1</td><td>2</td></tr>\n",
       "\t<tr><td>3</td><td>4</td></tr>\n",
       "</tbody>\n",
       "</table>\n",
       "</li>\n",
       "\t<li><table class=\"dataframe\">\n",
       "<caption>A matrix: 2 × 2 of type int</caption>\n",
       "<tbody>\n",
       "\t<tr><td>5</td><td>6</td></tr>\n",
       "\t<tr><td>7</td><td>8</td></tr>\n",
       "</tbody>\n",
       "</table>\n",
       "</li>\n",
       "</ol>\n"
      ],
      "text/latex": [
       "\\begin{enumerate}\n",
       "\\item A matrix: 2 × 2 of type int\n",
       "\\begin{tabular}{ll}\n",
       "\t 1 & 2\\\\\n",
       "\t 3 & 4\\\\\n",
       "\\end{tabular}\n",
       "\n",
       "\\item A matrix: 2 × 2 of type int\n",
       "\\begin{tabular}{ll}\n",
       "\t 5 & 6\\\\\n",
       "\t 7 & 8\\\\\n",
       "\\end{tabular}\n",
       "\n",
       "\\end{enumerate}\n"
      ],
      "text/markdown": [
       "1. \n",
       "A matrix: 2 × 2 of type int\n",
       "\n",
       "| 1 | 2 |\n",
       "| 3 | 4 |\n",
       "\n",
       "\n",
       "2. \n",
       "A matrix: 2 × 2 of type int\n",
       "\n",
       "| 5 | 6 |\n",
       "| 7 | 8 |\n",
       "\n",
       "\n",
       "\n",
       "\n"
      ],
      "text/plain": [
       "[[1]]\n",
       "     [,1] [,2]\n",
       "[1,]    1    2\n",
       "[2,]    3    4\n",
       "\n",
       "[[2]]\n",
       "     [,1] [,2]\n",
       "[1,]    5    6\n",
       "[2,]    7    8\n"
      ]
     },
     "metadata": {},
     "output_type": "display_data"
    }
   ],
   "source": [
    "matlist <- list(x1,x2)\n",
    "matlist"
   ]
  },
  {
   "cell_type": "code",
   "execution_count": 24,
   "id": "d3105cbd",
   "metadata": {},
   "outputs": [
    {
     "data": {
      "text/html": [
       "<ol>\n",
       "\t<li><table class=\"dataframe\">\n",
       "<caption>A matrix: 2 × 2 of type int</caption>\n",
       "<tbody>\n",
       "\t<tr><td>1</td><td>2</td></tr>\n",
       "\t<tr><td>3</td><td>4</td></tr>\n",
       "</tbody>\n",
       "</table>\n",
       "</li>\n",
       "</ol>\n"
      ],
      "text/latex": [
       "\\begin{enumerate}\n",
       "\\item A matrix: 2 × 2 of type int\n",
       "\\begin{tabular}{ll}\n",
       "\t 1 & 2\\\\\n",
       "\t 3 & 4\\\\\n",
       "\\end{tabular}\n",
       "\n",
       "\\end{enumerate}\n"
      ],
      "text/markdown": [
       "1. \n",
       "A matrix: 2 × 2 of type int\n",
       "\n",
       "| 1 | 2 |\n",
       "| 3 | 4 |\n",
       "\n",
       "\n",
       "\n",
       "\n"
      ],
      "text/plain": [
       "[[1]]\n",
       "     [,1] [,2]\n",
       "[1,]    1    2\n",
       "[2,]    3    4\n"
      ]
     },
     "metadata": {},
     "output_type": "display_data"
    }
   ],
   "source": [
    "matlist[1]"
   ]
  },
  {
   "cell_type": "code",
   "execution_count": 25,
   "id": "c45a4b33",
   "metadata": {},
   "outputs": [
    {
     "data": {
      "text/html": [
       "<ol>\n",
       "\t<li><table class=\"dataframe\">\n",
       "<caption>A matrix: 2 × 2 of type int</caption>\n",
       "<tbody>\n",
       "\t<tr><td>5</td><td>6</td></tr>\n",
       "\t<tr><td>7</td><td>8</td></tr>\n",
       "</tbody>\n",
       "</table>\n",
       "</li>\n",
       "</ol>\n"
      ],
      "text/latex": [
       "\\begin{enumerate}\n",
       "\\item A matrix: 2 × 2 of type int\n",
       "\\begin{tabular}{ll}\n",
       "\t 5 & 6\\\\\n",
       "\t 7 & 8\\\\\n",
       "\\end{tabular}\n",
       "\n",
       "\\end{enumerate}\n"
      ],
      "text/markdown": [
       "1. \n",
       "A matrix: 2 × 2 of type int\n",
       "\n",
       "| 5 | 6 |\n",
       "| 7 | 8 |\n",
       "\n",
       "\n",
       "\n",
       "\n"
      ],
      "text/plain": [
       "[[1]]\n",
       "     [,1] [,2]\n",
       "[1,]    5    6\n",
       "[2,]    7    8\n"
      ]
     },
     "metadata": {},
     "output_type": "display_data"
    }
   ],
   "source": [
    "matlist[2]"
   ]
  },
  {
   "cell_type": "code",
   "execution_count": 26,
   "id": "e8a897b4",
   "metadata": {},
   "outputs": [
    {
     "data": {
      "text/html": [
       "<ol>\n",
       "\t<li><style>\n",
       ".list-inline {list-style: none; margin:0; padding: 0}\n",
       ".list-inline>li {display: inline-block}\n",
       ".list-inline>li:not(:last-child)::after {content: \"\\00b7\"; padding: 0 .5ex}\n",
       "</style>\n",
       "<ol class=list-inline><li>'Water'</li><li>'Juice'</li><li>'Lemonade'</li></ol>\n",
       "</li>\n",
       "\t<li><style>\n",
       ".list-inline {list-style: none; margin:0; padding: 0}\n",
       ".list-inline>li {display: inline-block}\n",
       ".list-inline>li:not(:last-child)::after {content: \"\\00b7\"; padding: 0 .5ex}\n",
       "</style>\n",
       "<ol class=list-inline><li>1</li><li>1</li><li>2</li><li>2</li><li>3</li><li>3</li><li>4</li><li>4</li></ol>\n",
       "</li>\n",
       "\t<li><table class=\"dataframe\">\n",
       "<caption>A matrix: 2 × 2 of type int</caption>\n",
       "<tbody>\n",
       "\t<tr><td>5</td><td>6</td></tr>\n",
       "\t<tr><td>7</td><td>8</td></tr>\n",
       "</tbody>\n",
       "</table>\n",
       "</li>\n",
       "</ol>\n"
      ],
      "text/latex": [
       "\\begin{enumerate}\n",
       "\\item \\begin{enumerate*}\n",
       "\\item 'Water'\n",
       "\\item 'Juice'\n",
       "\\item 'Lemonade'\n",
       "\\end{enumerate*}\n",
       "\n",
       "\\item \\begin{enumerate*}\n",
       "\\item 1\n",
       "\\item 1\n",
       "\\item 2\n",
       "\\item 2\n",
       "\\item 3\n",
       "\\item 3\n",
       "\\item 4\n",
       "\\item 4\n",
       "\\end{enumerate*}\n",
       "\n",
       "\\item A matrix: 2 × 2 of type int\n",
       "\\begin{tabular}{ll}\n",
       "\t 5 & 6\\\\\n",
       "\t 7 & 8\\\\\n",
       "\\end{tabular}\n",
       "\n",
       "\\end{enumerate}\n"
      ],
      "text/markdown": [
       "1. 1. 'Water'\n",
       "2. 'Juice'\n",
       "3. 'Lemonade'\n",
       "\n",
       "\n",
       "\n",
       "2. 1. 1\n",
       "2. 1\n",
       "3. 2\n",
       "4. 2\n",
       "5. 3\n",
       "6. 3\n",
       "7. 4\n",
       "8. 4\n",
       "\n",
       "\n",
       "\n",
       "3. \n",
       "A matrix: 2 × 2 of type int\n",
       "\n",
       "| 5 | 6 |\n",
       "| 7 | 8 |\n",
       "\n",
       "\n",
       "\n",
       "\n"
      ],
      "text/plain": [
       "[[1]]\n",
       "[1] \"Water\"    \"Juice\"    \"Lemonade\"\n",
       "\n",
       "[[2]]\n",
       "[1] 1 1 2 2 3 3 4 4\n",
       "\n",
       "[[3]]\n",
       "     [,1] [,2]\n",
       "[1,]    5    6\n",
       "[2,]    7    8\n"
      ]
     },
     "metadata": {},
     "output_type": "display_data"
    }
   ],
   "source": [
    "z1 <- list(c(\"Water\",\"Juice\", \"Lemonade\"), rep(1:4, each = 2), matrix(data = 5:8, nrow = 2,ncol = 2, byrow = T))\n",
    "z1"
   ]
  },
  {
   "cell_type": "markdown",
   "id": "1c179f64",
   "metadata": {},
   "source": [
    "Access the elements of a list using the operator **[[ ]]**"
   ]
  },
  {
   "cell_type": "code",
   "execution_count": 27,
   "id": "c419dba8",
   "metadata": {},
   "outputs": [
    {
     "data": {
      "text/html": [
       "<style>\n",
       ".list-inline {list-style: none; margin:0; padding: 0}\n",
       ".list-inline>li {display: inline-block}\n",
       ".list-inline>li:not(:last-child)::after {content: \"\\00b7\"; padding: 0 .5ex}\n",
       "</style>\n",
       "<ol class=list-inline><li>'Water'</li><li>'Juice'</li><li>'Lemonade'</li></ol>\n"
      ],
      "text/latex": [
       "\\begin{enumerate*}\n",
       "\\item 'Water'\n",
       "\\item 'Juice'\n",
       "\\item 'Lemonade'\n",
       "\\end{enumerate*}\n"
      ],
      "text/markdown": [
       "1. 'Water'\n",
       "2. 'Juice'\n",
       "3. 'Lemonade'\n",
       "\n",
       "\n"
      ],
      "text/plain": [
       "[1] \"Water\"    \"Juice\"    \"Lemonade\""
      ]
     },
     "metadata": {},
     "output_type": "display_data"
    }
   ],
   "source": [
    "z1[[1]]"
   ]
  },
  {
   "cell_type": "code",
   "execution_count": 28,
   "id": "0ca1aa4e",
   "metadata": {},
   "outputs": [
    {
     "data": {
      "text/html": [
       "<style>\n",
       ".list-inline {list-style: none; margin:0; padding: 0}\n",
       ".list-inline>li {display: inline-block}\n",
       ".list-inline>li:not(:last-child)::after {content: \"\\00b7\"; padding: 0 .5ex}\n",
       "</style>\n",
       "<ol class=list-inline><li>1</li><li>1</li><li>2</li><li>2</li><li>3</li><li>3</li><li>4</li><li>4</li></ol>\n"
      ],
      "text/latex": [
       "\\begin{enumerate*}\n",
       "\\item 1\n",
       "\\item 1\n",
       "\\item 2\n",
       "\\item 2\n",
       "\\item 3\n",
       "\\item 3\n",
       "\\item 4\n",
       "\\item 4\n",
       "\\end{enumerate*}\n"
      ],
      "text/markdown": [
       "1. 1\n",
       "2. 1\n",
       "3. 2\n",
       "4. 2\n",
       "5. 3\n",
       "6. 3\n",
       "7. 4\n",
       "8. 4\n",
       "\n",
       "\n"
      ],
      "text/plain": [
       "[1] 1 1 2 2 3 3 4 4"
      ]
     },
     "metadata": {},
     "output_type": "display_data"
    }
   ],
   "source": [
    "z1[[2]]"
   ]
  },
  {
   "cell_type": "code",
   "execution_count": 29,
   "id": "21da30c4",
   "metadata": {},
   "outputs": [
    {
     "data": {
      "text/html": [
       "<table class=\"dataframe\">\n",
       "<caption>A matrix: 2 × 2 of type int</caption>\n",
       "<tbody>\n",
       "\t<tr><td>5</td><td>6</td></tr>\n",
       "\t<tr><td>7</td><td>8</td></tr>\n",
       "</tbody>\n",
       "</table>\n"
      ],
      "text/latex": [
       "A matrix: 2 × 2 of type int\n",
       "\\begin{tabular}{ll}\n",
       "\t 5 & 6\\\\\n",
       "\t 7 & 8\\\\\n",
       "\\end{tabular}\n"
      ],
      "text/markdown": [
       "\n",
       "A matrix: 2 × 2 of type int\n",
       "\n",
       "| 5 | 6 |\n",
       "| 7 | 8 |\n",
       "\n"
      ],
      "text/plain": [
       "     [,1] [,2]\n",
       "[1,] 5    6   \n",
       "[2,] 7    8   "
      ]
     },
     "metadata": {},
     "output_type": "display_data"
    }
   ],
   "source": [
    "z1[[3]]"
   ]
  },
  {
   "cell_type": "code",
   "execution_count": 30,
   "id": "0343cbdd",
   "metadata": {},
   "outputs": [
    {
     "data": {
      "text/html": [
       "'Water'"
      ],
      "text/latex": [
       "'Water'"
      ],
      "text/markdown": [
       "'Water'"
      ],
      "text/plain": [
       "[1] \"Water\""
      ]
     },
     "metadata": {},
     "output_type": "display_data"
    }
   ],
   "source": [
    "z1[[1]][1]"
   ]
  },
  {
   "cell_type": "code",
   "execution_count": 31,
   "id": "8059076b",
   "metadata": {},
   "outputs": [
    {
     "data": {
      "text/html": [
       "1"
      ],
      "text/latex": [
       "1"
      ],
      "text/markdown": [
       "1"
      ],
      "text/plain": [
       "[1] 1"
      ]
     },
     "metadata": {},
     "output_type": "display_data"
    }
   ],
   "source": [
    "z1[[2]][2]"
   ]
  },
  {
   "cell_type": "code",
   "execution_count": 34,
   "id": "f9511bdb",
   "metadata": {},
   "outputs": [
    {
     "data": {
      "text/html": [
       "6"
      ],
      "text/latex": [
       "6"
      ],
      "text/markdown": [
       "6"
      ],
      "text/plain": [
       "[1] 6"
      ]
     },
     "metadata": {},
     "output_type": "display_data"
    }
   ],
   "source": [
    "z1[[3]][3]"
   ]
  }
 ],
 "metadata": {
  "kernelspec": {
   "display_name": "R",
   "language": "R",
   "name": "ir"
  },
  "language_info": {
   "codemirror_mode": "r",
   "file_extension": ".r",
   "mimetype": "text/x-r-source",
   "name": "R",
   "pygments_lexer": "r",
   "version": "4.1.2"
  }
 },
 "nbformat": 4,
 "nbformat_minor": 5
}
