{
 "cells": [
  {
   "cell_type": "markdown",
   "id": "d3685e92",
   "metadata": {},
   "source": [
    "<div align=\"center\">\n",
    "    <h4>Introduction to R</h4>\n",
    "</div>"
   ]
  },
  {
   "cell_type": "markdown",
   "id": "78f37e05",
   "metadata": {},
   "source": [
    "### Arithmetic Operations"
   ]
  },
  {
   "cell_type": "code",
   "execution_count": 1,
   "id": "a57b9682",
   "metadata": {},
   "outputs": [
    {
     "data": {
      "text/html": [
       "25"
      ],
      "text/latex": [
       "25"
      ],
      "text/markdown": [
       "25"
      ],
      "text/plain": [
       "[1] 25"
      ]
     },
     "metadata": {},
     "output_type": "display_data"
    }
   ],
   "source": [
    "# Use the + sign to perform addition:\n",
    "15+10"
   ]
  },
  {
   "cell_type": "code",
   "execution_count": 2,
   "id": "7e7455ed",
   "metadata": {},
   "outputs": [
    {
     "data": {
      "text/html": [
       "15"
      ],
      "text/latex": [
       "15"
      ],
      "text/markdown": [
       "15"
      ],
      "text/plain": [
       "[1] 15"
      ]
     },
     "metadata": {},
     "output_type": "display_data"
    }
   ],
   "source": [
    "# Use the - sign to perform subtraction:\n",
    "25-10"
   ]
  },
  {
   "cell_type": "code",
   "execution_count": 4,
   "id": "e424a5b2",
   "metadata": {},
   "outputs": [
    {
     "data": {
      "text/html": [
       "50"
      ],
      "text/latex": [
       "50"
      ],
      "text/markdown": [
       "50"
      ],
      "text/plain": [
       "[1] 50"
      ]
     },
     "metadata": {},
     "output_type": "display_data"
    }
   ],
   "source": [
    "# Use * for multiplication:\n",
    "10 * 5"
   ]
  },
  {
   "cell_type": "code",
   "execution_count": 5,
   "id": "4ed6069e",
   "metadata": {},
   "outputs": [
    {
     "data": {
      "text/html": [
       "2"
      ],
      "text/latex": [
       "2"
      ],
      "text/markdown": [
       "2"
      ],
      "text/plain": [
       "[1] 2"
      ]
     },
     "metadata": {},
     "output_type": "display_data"
    }
   ],
   "source": [
    "# Use / for division:\n",
    "10 / 5 "
   ]
  },
  {
   "cell_type": "code",
   "execution_count": 6,
   "id": "5a526fc7",
   "metadata": {},
   "outputs": [
    {
     "data": {
      "text/html": [
       "1000"
      ],
      "text/latex": [
       "1000"
      ],
      "text/markdown": [
       "1000"
      ],
      "text/plain": [
       "[1] 1000"
      ]
     },
     "metadata": {},
     "output_type": "display_data"
    }
   ],
   "source": [
    "# Use ^ for exponentiation: in python [we use (**) ]\n",
    "10 ** 3"
   ]
  },
  {
   "cell_type": "code",
   "execution_count": 7,
   "id": "bd142d18",
   "metadata": {},
   "outputs": [
    {
     "data": {
      "text/html": [
       "1000"
      ],
      "text/latex": [
       "1000"
      ],
      "text/markdown": [
       "1000"
      ],
      "text/plain": [
       "[1] 1000"
      ]
     },
     "metadata": {},
     "output_type": "display_data"
    }
   ],
   "source": [
    "10^3"
   ]
  },
  {
   "cell_type": "code",
   "execution_count": 8,
   "id": "cd5deee9",
   "metadata": {},
   "outputs": [
    {
     "data": {
      "text/html": [
       "77"
      ],
      "text/latex": [
       "77"
      ],
      "text/markdown": [
       "77"
      ],
      "text/plain": [
       "[1] 77"
      ]
     },
     "metadata": {},
     "output_type": "display_data"
    }
   ],
   "source": [
    "# These operations are executed in reverse order of appearance due to the order of operations.\n",
    "2 + 3 * 5 ^ 2"
   ]
  },
  {
   "cell_type": "code",
   "execution_count": 9,
   "id": "27e48ddc",
   "metadata": {},
   "outputs": [
    {
     "data": {
      "text/html": [
       "625"
      ],
      "text/latex": [
       "625"
      ],
      "text/markdown": [
       "625"
      ],
      "text/plain": [
       "[1] 625"
      ]
     },
     "metadata": {},
     "output_type": "display_data"
    }
   ],
   "source": [
    "# This time, the addition comes first and the exponentiation comes last.\n",
    "\n",
    "((2 + 3) * 5 ) ^ 2"
   ]
  },
  {
   "cell_type": "code",
   "execution_count": 10,
   "id": "2f948862",
   "metadata": {},
   "outputs": [
    {
     "data": {
      "text/html": [
       "25"
      ],
      "text/latex": [
       "25"
      ],
      "text/markdown": [
       "25"
      ],
      "text/plain": [
       "[1] 25"
      ]
     },
     "metadata": {},
     "output_type": "display_data"
    }
   ],
   "source": [
    "# Modulus \n",
    "100 %% 75"
   ]
  },
  {
   "cell_type": "code",
   "execution_count": 11,
   "id": "1f2b61f4",
   "metadata": {},
   "outputs": [
    {
     "data": {
      "text/html": [
       "0.99996989653911"
      ],
      "text/latex": [
       "0.99996989653911"
      ],
      "text/markdown": [
       "0.99996989653911"
      ],
      "text/plain": [
       "[1] 0.9999699"
      ]
     },
     "metadata": {},
     "output_type": "display_data"
    }
   ],
   "source": [
    "# log() takes the natural logarithm of its argument\n",
    "log(2.7182)"
   ]
  },
  {
   "cell_type": "code",
   "execution_count": 13,
   "id": "4815f15e",
   "metadata": {},
   "outputs": [
    {
     "data": {
      "text/html": [
       "22026.4657948067"
      ],
      "text/latex": [
       "22026.4657948067"
      ],
      "text/markdown": [
       "22026.4657948067"
      ],
      "text/plain": [
       "[1] 22026.47"
      ]
     },
     "metadata": {},
     "output_type": "display_data"
    }
   ],
   "source": [
    "# exp() raises e to the power of its argument\n",
    "exp(10)"
   ]
  },
  {
   "cell_type": "code",
   "execution_count": 14,
   "id": "8ccf4f21",
   "metadata": {},
   "outputs": [
    {
     "data": {
      "text/html": [
       "8"
      ],
      "text/latex": [
       "8"
      ],
      "text/markdown": [
       "8"
      ],
      "text/plain": [
       "[1] 8"
      ]
     },
     "metadata": {},
     "output_type": "display_data"
    }
   ],
   "source": [
    "# sqrt() returns the square root of its argument\n",
    "sqrt(64)"
   ]
  },
  {
   "cell_type": "code",
   "execution_count": 15,
   "id": "b209f49d",
   "metadata": {},
   "outputs": [
    {
     "data": {
      "text/html": [
       "10"
      ],
      "text/latex": [
       "10"
      ],
      "text/markdown": [
       "10"
      ],
      "text/plain": [
       "[1] 10"
      ]
     },
     "metadata": {},
     "output_type": "display_data"
    }
   ],
   "source": [
    "# abs() returns the absolute value of the argument\n",
    "abs(-10)"
   ]
  },
  {
   "cell_type": "code",
   "execution_count": 16,
   "id": "c2892fab",
   "metadata": {},
   "outputs": [
    {
     "data": {
      "text/html": [
       "3.14159265358979"
      ],
      "text/latex": [
       "3.14159265358979"
      ],
      "text/markdown": [
       "3.14159265358979"
      ],
      "text/plain": [
       "[1] 3.141593"
      ]
     },
     "metadata": {},
     "output_type": "display_data"
    }
   ],
   "source": [
    "# pi returns the constant pi\n",
    "pi"
   ]
  },
  {
   "cell_type": "markdown",
   "id": "1cbacc87",
   "metadata": {},
   "source": [
    "### Rounding Numbers"
   ]
  },
  {
   "cell_type": "code",
   "execution_count": 17,
   "id": "e6557ecc",
   "metadata": {},
   "outputs": [
    {
     "data": {
      "text/html": [
       "233"
      ],
      "text/latex": [
       "233"
      ],
      "text/markdown": [
       "233"
      ],
      "text/plain": [
       "[1] 233"
      ]
     },
     "metadata": {},
     "output_type": "display_data"
    }
   ],
   "source": [
    "# round() rounds a number to the nearest whole number:\n",
    "\n",
    "round(233.234)"
   ]
  },
  {
   "cell_type": "code",
   "execution_count": 18,
   "id": "c014150a",
   "metadata": {},
   "outputs": [
    {
     "data": {
      "text/html": [
       "233.2"
      ],
      "text/latex": [
       "233.2"
      ],
      "text/markdown": [
       "233.2"
      ],
      "text/plain": [
       "[1] 233.2"
      ]
     },
     "metadata": {},
     "output_type": "display_data"
    }
   ],
   "source": [
    "# Add the \"digits\" argument to round to specified decimal place\n",
    "# In this case, digits = 1 rounds to the nearest tenth\n",
    "\n",
    "round(233.234, digits = 1)"
   ]
  },
  {
   "cell_type": "code",
   "execution_count": 19,
   "id": "1fe857cb",
   "metadata": {},
   "outputs": [
    {
     "data": {
      "text/html": [
       "200"
      ],
      "text/latex": [
       "200"
      ],
      "text/markdown": [
       "200"
      ],
      "text/plain": [
       "[1] 200"
      ]
     },
     "metadata": {},
     "output_type": "display_data"
    }
   ],
   "source": [
    "# Enter negative numbers for the digits argument to round to the left of the decimal\n",
    "# In this case, digits = -2 rounds to the hundreds place\n",
    "\n",
    "round(233.234, digits = -2)"
   ]
  },
  {
   "cell_type": "code",
   "execution_count": 20,
   "id": "7c9229cb",
   "metadata": {},
   "outputs": [
    {
     "data": {
      "text/html": [
       "2"
      ],
      "text/latex": [
       "2"
      ],
      "text/markdown": [
       "2"
      ],
      "text/plain": [
       "[1] 2"
      ]
     },
     "metadata": {},
     "output_type": "display_data"
    }
   ],
   "source": [
    "floor(2.8) # floor() always rounds down"
   ]
  },
  {
   "cell_type": "code",
   "execution_count": 21,
   "id": "9f1fd836",
   "metadata": {},
   "outputs": [
    {
     "data": {
      "text/html": [
       "3"
      ],
      "text/latex": [
       "3"
      ],
      "text/markdown": [
       "3"
      ],
      "text/plain": [
       "[1] 3"
      ]
     },
     "metadata": {},
     "output_type": "display_data"
    }
   ],
   "source": [
    "ceiling(2.2) # ceiling() always rounds up"
   ]
  },
  {
   "cell_type": "code",
   "execution_count": 22,
   "id": "456dc57b",
   "metadata": {},
   "outputs": [
    {
     "data": {
      "text/html": [
       "2"
      ],
      "text/latex": [
       "2"
      ],
      "text/markdown": [
       "2"
      ],
      "text/plain": [
       "[1] 2"
      ]
     },
     "metadata": {},
     "output_type": "display_data"
    },
    {
     "data": {
      "text/html": [
       "-2"
      ],
      "text/latex": [
       "-2"
      ],
      "text/markdown": [
       "-2"
      ],
      "text/plain": [
       "[1] -2"
      ]
     },
     "metadata": {},
     "output_type": "display_data"
    }
   ],
   "source": [
    "# Use trunc() to round in the direction of zero.\n",
    "trunc(2.6)\n",
    "trunc(-2.6)"
   ]
  },
  {
   "cell_type": "code",
   "execution_count": null,
   "id": "e41615bb",
   "metadata": {},
   "outputs": [],
   "source": []
  }
 ],
 "metadata": {
  "kernelspec": {
   "display_name": "R",
   "language": "R",
   "name": "ir"
  },
  "language_info": {
   "codemirror_mode": "r",
   "file_extension": ".r",
   "mimetype": "text/x-r-source",
   "name": "R",
   "pygments_lexer": "r",
   "version": "4.1.2"
  }
 },
 "nbformat": 4,
 "nbformat_minor": 5
}
